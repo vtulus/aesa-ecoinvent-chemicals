{
 "cells": [
  {
   "cell_type": "markdown",
   "metadata": {},
   "source": [
    "<div class=\"alert alert-block alert-info\">\n",
    "    This script <b> extends the df by creating GLO markets and filters it by FU=<code>kg</code> and geo=<code>GLO</code></b>.\n",
    "    <hr> \n",
    "    Note: <br>\n",
    "    <i><b>Input file(s)' name(s) and metadata</b></i> (if available) are <b>printed out (below 👇🏼) in 'read data to df' section.</b>"
   ]
  },
  {
   "cell_type": "code",
   "execution_count": null,
   "metadata": {},
   "outputs": [],
   "source": [
    "# %env\n",
    "# %who_ls\n",
    "# %who\n",
    "# %who int\n",
    "# %pinfo <var name>"
   ]
  },
  {
   "cell_type": "markdown",
   "metadata": {
    "tags": []
   },
   "source": [
    "# Imports"
   ]
  },
  {
   "cell_type": "code",
   "execution_count": null,
   "metadata": {},
   "outputs": [],
   "source": [
    "%config IPCompleter.use_jedi = False # disable jedi autocompleter (https://stackoverflow.com/a/65734178/14485040)\n",
    "\n",
    "import project_path  # makes possible the access to `src` directory using relative path\n",
    "from src.data import create_glo_market, filter_dataframe, internal_funcs\n",
    "from src.utils import explore_dir, make_readme_info\n",
    "from src.utils import read_excel_to_pandas as r_excel\n",
    "from src.utils import set_outputs_dir\n",
    "from src.utils import write_pandas_to_excel as w_excel\n",
    "\n",
    "%run init_nb.ipynb"
   ]
  },
  {
   "cell_type": "markdown",
   "metadata": {},
   "source": [
    "# INPUTS: Identify file(s) and read data to df"
   ]
  },
  {
   "cell_type": "code",
   "execution_count": null,
   "metadata": {},
   "outputs": [],
   "source": [
    "# Explore the directory to find the file(s)\n",
    "inputs_dir, files_list = explore_dir(\n",
    "    path_to_dir=r\"..\\data\\interim\", file_extension=\"xlsx\", print_files_list=True\n",
    ")"
   ]
  },
  {
   "cell_type": "code",
   "execution_count": null,
   "metadata": {},
   "outputs": [],
   "source": [
    "# Read data\n",
    "df_cpc33to36 = r_excel(\n",
    "    inputs_dir, \"data-regrouped-cpc-divisions-into-3-categories.xlsx\"\n",
    ")\n",
    "print(\n",
    "    \"df_cpc33to36\".ljust(40, \".\"),\n",
    "    f\"{df_cpc33to36.shape}\\n\".rjust(13, \".\"),\n",
    ")\n",
    "\n",
    "# Get list of LCIA methods and list of metadata\n",
    "METHODS = r_excel(\n",
    "    inputs_dir,\n",
    "    \"data-regrouped-cpc-divisions-into-3-categories.xlsx\",\n",
    "    sheets=\"METHODS\",\n",
    "    show_readme=False, \n",
    ")[\"METHODS\"].to_list()\n",
    "\n",
    "METADATA = r_excel(\n",
    "    inputs_dir,\n",
    "    \"data-regrouped-cpc-divisions-into-3-categories.xlsx\",\n",
    "    sheets=\"METADATA\",\n",
    "    show_readme=False, \n",
    ")[\"METADATA\"].to_list()"
   ]
  },
  {
   "cell_type": "code",
   "execution_count": null,
   "metadata": {},
   "outputs": [],
   "source": [
    "pd.options.display.max_columns = None"
   ]
  },
  {
   "cell_type": "markdown",
   "metadata": {},
   "source": [
    "# Operations"
   ]
  },
  {
   "cell_type": "markdown",
   "metadata": {
    "tags": [],
    "toc-hr-collapsed": true
   },
   "source": [
    "## Create mass allocated GLO markets from non-GLO markets\n",
    "<div class=\"alert alert-block alert-info\">\n",
    "created: <code>df_analysis_extended</code>\n",
    "</div>"
   ]
  },
  {
   "cell_type": "code",
   "execution_count": null,
   "metadata": {},
   "outputs": [],
   "source": [
    "df_analysis_extended = create_glo_market(\n",
    "    df_in=df_cpc33to36,\n",
    "    columns_to_allocate=METHODS,\n",
    "    activity_column=\"Activity\",\n",
    "    refprod_column=\"referenceProduct\",\n",
    "    geo_column=\"geo\",\n",
    "    prodvol_column=\"referenceProduct_prodVolume\",\n",
    "    comment_column=\"activity_generalComment\",\n",
    ")\n",
    "\n",
    "print(\"Created **df_analysis_extended** dataframe is of {} shape.\".format(df_analysis_extended.shape))\n",
    "df_analysis_extended.tail(2)\n",
    "\n",
    "internal_funcs.plot_categories(\n",
    "    df_analysis_extended,\n",
    "    groupby=\"category_regrouped\",\n",
    "    cutoff_value=0,\n",
    "    color=\"purple\",\n",
    "    fontsize=12,\n",
    ")"
   ]
  },
  {
   "cell_type": "markdown",
   "metadata": {
    "heading_collapsed": "true",
    "tags": []
   },
   "source": [
    "## Checks!"
   ]
  },
  {
   "cell_type": "raw",
   "metadata": {},
   "source": [
    "filter_dataframe(\n",
    "    df_in=df_analysis_extended,\n",
    "    col_name=\"referenceProduct\",\n",
    "    filter_in=comp_added_manually,\n",
    "#     filter_in=[\"Diesel\"],\n",
    "    exact_match=True,\n",
    ")\n",
    "\n",
    "# list(df_analysis_extended[df_analysis_extended.Activity==\"Diesel, combined to GLO market\"].activity_generalComment)"
   ]
  },
  {
   "cell_type": "markdown",
   "metadata": {},
   "source": [
    "## Create `df_base` only with `GLO` markets and individual FU=`kg`"
   ]
  },
  {
   "cell_type": "code",
   "execution_count": null,
   "metadata": {},
   "outputs": [],
   "source": [
    "df_base = df_analysis_extended[\n",
    "    (df_analysis_extended.geo == \"GLO\")\n",
    "    & (df_analysis_extended.referenceProductUnit == \"kg\")\n",
    "]# .shape\n",
    "\n",
    "\n",
    "# # Group by shortName_geo_SP -> filter by GLO -> Filter \"unit\" by \"kg\"\n",
    "# df_base = _filter_by_geo_and_FU(\n",
    "# #     df=df_analysis,\n",
    "#     df=df_analysis_extended,\n",
    "#     geo=\"GLO\", \n",
    "#     FU=\"kg\"\n",
    "# )\n",
    "print(\"Created **df_base** dataframe is of {} shape.\\n\".format(df_base.shape))\n",
    "# df_base\n",
    "\n",
    "# Grouping by 'category' and ploting the size of each group on a barh plot (in one line)\n",
    "internal_funcs.plot_categories(\n",
    "    df_in=df_base,\n",
    "    groupby=\"category_regrouped\",   \n",
    "    color=\"blue\", \n",
    "    fontsize=12,\n",
    "    cutoff_value=8,\n",
    ")"
   ]
  },
  {
   "cell_type": "code",
   "execution_count": null,
   "metadata": {},
   "outputs": [],
   "source": [
    "# Products excluded from the analysis\n",
    "internal_funcs.excluded_products(\n",
    "    df_raw=df_analysis_extended, # or =df_analysis_extended, (both have the same nº of unique products)\n",
    "    df_filtered=df_base\n",
    ")"
   ]
  },
  {
   "cell_type": "code",
   "execution_count": null,
   "metadata": {},
   "outputs": [],
   "source": [
    "# Make df of METADATA and METHODS for later export\n",
    "df_metadata = pd.DataFrame(METADATA, columns=[\"METADATA\"])\n",
    "df_methods = pd.DataFrame(METHODS, columns=[\"METHODS\"])"
   ]
  },
  {
   "cell_type": "markdown",
   "metadata": {
    "tags": []
   },
   "source": [
    "# OUTPUTS: Export data to excel"
   ]
  },
  {
   "cell_type": "code",
   "execution_count": null,
   "metadata": {},
   "outputs": [],
   "source": [
    "%%time\n",
    "\n",
    "# Set output directory\n",
    "outputs_dir = set_outputs_dir(use_default=True)  # default `..\\data\\interim`\n",
    "\n",
    "## Export dataframe to excel\n",
    "excelName = \"data-extended-glo-markets-and-fu-kg.xlsx\"\n",
    "\n",
    "df_readme = make_readme_info(\n",
    "    excelName,\n",
    "    \"Sheet1: Extended dataframe, which includes pseudo-glo markets created from \"\n",
    "    \"mass allocation of non-glo markets, and filtered by geo=GLO and FU=kg.\"\n",
    "    \"\\nMETADATA: list of relevant metadata used in Sheet1.\"\n",
    "    \"\\nMETHODS: list of LCIA methods used in Sheet1.\"\n",
    "    \"\\n[METHODS + METADATA have to be the only column labels in Sheet1]\",\n",
    ")\n",
    "\n",
    "w_excel(\n",
    "    path_to_file=outputs_dir,\n",
    "    filename=excelName,\n",
    "    dict_data_to_write={\n",
    "        \"Sheet1\": df_base,\n",
    "        \"METADATA\": df_metadata,\n",
    "        \"METHODS\": df_methods,\n",
    "    },\n",
    "    readme_info=(\"readme\", df_readme),\n",
    "    #     ExcelWriter_kwargs={\"engine\": \"openpyxl\", \"encoding\": \"UTF-8\"}\n",
    "    #     startrow=0\n",
    ")"
   ]
  }
 ],
 "metadata": {
  "kernelspec": {
   "display_name": "Python (proj17)",
   "language": "python",
   "name": "17-conda-env"
  },
  "language_info": {
   "codemirror_mode": {
    "name": "ipython",
    "version": 3
   },
   "file_extension": ".py",
   "mimetype": "text/x-python",
   "name": "python",
   "nbconvert_exporter": "python",
   "pygments_lexer": "ipython3",
   "version": "3.8.5"
  },
  "toc-autonumbering": false,
  "toc-showcode": false,
  "toc-showmarkdowntxt": false,
  "toc-showtags": false
 },
 "nbformat": 4,
 "nbformat_minor": 4
}
