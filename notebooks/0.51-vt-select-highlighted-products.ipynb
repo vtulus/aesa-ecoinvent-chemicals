{
 "cells": [
  {
   "cell_type": "markdown",
   "metadata": {},
   "source": [
    "<div class=\"alert alert-block alert-info\">\n",
    "    This script <b> creates a <code>HIGHLIGHTED_PRODUCTS</code> list, which is used later for plotting</b>.\n",
    "    <hr> \n",
    "    Note: <br>\n",
    "    <i><b>Input file(s)' name(s) and metadata</b></i> (if available) are <b>printed out (below 👇🏼) in 'read data to df' section.</b>"
   ]
  },
  {
   "cell_type": "code",
   "execution_count": null,
   "metadata": {},
   "outputs": [],
   "source": [
    "# %env\n",
    "# %who_ls\n",
    "# %who\n",
    "# %who int\n",
    "# %pinfo <var name>"
   ]
  },
  {
   "cell_type": "markdown",
   "metadata": {
    "tags": []
   },
   "source": [
    "# Imports"
   ]
  },
  {
   "cell_type": "code",
   "execution_count": null,
   "metadata": {},
   "outputs": [],
   "source": [
    "%config IPCompleter.use_jedi = False # disable jedi autocompleter (https://stackoverflow.com/a/65734178/14485040)\n",
    "\n",
    "import project_path  # makes possible the access to `src` directory using relative path\n",
    "from src.data import filter_dataframe  # , internal_funcs\n",
    "from src.utils import explore_dir, make_readme_info\n",
    "from src.utils import read_excel_to_pandas as r_excel\n",
    "from src.utils import set_outputs_dir\n",
    "from src.utils import write_pandas_to_excel as w_excel\n",
    "\n",
    "%run init_nb.ipynb"
   ]
  },
  {
   "cell_type": "code",
   "execution_count": null,
   "metadata": {},
   "outputs": [],
   "source": [
    "pd.options.display.max_columns = None"
   ]
  },
  {
   "cell_type": "markdown",
   "metadata": {},
   "source": [
    "# INPUTS: Identify file(s) and read data to df"
   ]
  },
  {
   "cell_type": "code",
   "execution_count": null,
   "metadata": {},
   "outputs": [],
   "source": [
    "# Explore the directory to find the file(s)\n",
    "inputs_dir, files_list = explore_dir(\n",
    "    path_to_dir=r\"..\\data\\interim\", file_extension=\"xlsx\", print_files_list=True\n",
    ")"
   ]
  },
  {
   "cell_type": "code",
   "execution_count": null,
   "metadata": {},
   "outputs": [],
   "source": [
    "# Read data\n",
    "df_base_full = r_excel(inputs_dir, \"data-extended-added-transgression-pbs.xlsx\")\n",
    "print(\n",
    "    \"df_base_full\".ljust(40, \".\"), f\"{df_base_full.shape}\\n\".rjust(13, \".\"),\n",
    ")\n",
    "\n",
    "# Get list of LCIA methods, TL PBs and list of metadata\n",
    "METHODS = r_excel(\n",
    "    inputs_dir,\n",
    "    \"data-extended-added-transgression-pbs.xlsx\",\n",
    "    sheets=\"METHODS\",\n",
    "    show_readme=False,\n",
    ")[\"METHODS\"].to_list()\n",
    "\n",
    "TL_METHODS = r_excel(\n",
    "    inputs_dir,\n",
    "    \"data-extended-added-transgression-pbs.xlsx\",\n",
    "    sheets=\"TL_METHODS\",\n",
    "    show_readme=False,\n",
    ")[\"TL_METHODS\"].to_list()\n",
    "\n",
    "METADATA = r_excel(\n",
    "    inputs_dir,\n",
    "    \"data-extended-added-transgression-pbs.xlsx\",\n",
    "    sheets=\"METADATA\",\n",
    "    show_readme=False,\n",
    ")[\"METADATA\"].to_list()"
   ]
  },
  {
   "cell_type": "markdown",
   "metadata": {
    "tags": []
   },
   "source": [
    "# Operations\n",
    "<div class=\"alert alert-block alert-info\">\n",
    "created: <code>HIGHLIGHTED_PRODUCTS</code> list\n",
    "</div>"
   ]
  },
  {
   "cell_type": "markdown",
   "metadata": {
    "tags": []
   },
   "source": [
    "## Research possible highlighted products"
   ]
  },
  {
   "cell_type": "code",
   "execution_count": null,
   "metadata": {},
   "outputs": [],
   "source": [
    "lst_known_chemicals = [\n",
    "    \"Toluene\",\n",
    "    \"Xylene\",\n",
    "    # Javier's list below\n",
    "    \"Liquefied petroleum gas\",  # ok\n",
    "    \"Petrol\",  # \"Gasoline\", # ok\n",
    "    \"Diesel\",  # ok\n",
    "    \"Kerosene\",  # ok\n",
    "    \"Ethylene\",  # ok\n",
    "    \"Propylene\",  # ok\n",
    "    \"Benzene\",  # ok\n",
    "    \"Synthetic gas\",  # FU 1m3\n",
    "    \"Ammonia, liquid\",  # ok\n",
    "    \"Methanol\",  # ok\n",
    "    \"Sulfuric acid\",  # ok\n",
    "    \"Chlorine\",  # ok\n",
    "    \"Acetic acid\",  # ok\n",
    "    \"Formaldehyde\",  # ok\n",
    "    \"Urea\",  # ok\n",
    "    \"Ethylene oxide\",  # ok\n",
    "    \"Acrylonitrile\",  # ok\n",
    "    \"Acetaldehyde\",  # ok\n",
    "    \"Polyethylene\",  # ok\n",
    "    \"Polypropylene\",  # ok\n",
    "    \"Polyvinylchloride\",  # ok\n",
    "    \"Hydrogen\",  # ok\n",
    "]\n",
    "\n",
    "for item in lst_known_chemicals:\n",
    "    print(\"Looking for \" + item)\n",
    "    filter_dataframe(\n",
    "        df_in=df_base_full,\n",
    "        col_name=\"referenceProduct\",\n",
    "        filter_in=[item],\n",
    "        print_unique=True,\n",
    "    )"
   ]
  },
  {
   "cell_type": "markdown",
   "metadata": {},
   "source": [
    "## Selected products"
   ]
  },
  {
   "cell_type": "code",
   "execution_count": null,
   "metadata": {},
   "outputs": [],
   "source": [
    "# Exact names only!\n",
    "\n",
    "HIGHLIGHTED_PRODUCTS = [\n",
    "    \"Sulfuric acid\",\n",
    "    \"Kerosene\",\n",
    "    \"Diesel, low-sulfur\",  # or \"Diesel\",\n",
    "    \"Liquefied petroleum gas\",\n",
    "    \"Methanol\",\n",
    "    \"Petrol, low-sulfur\",\n",
    "    \"Formaldehyde\",\n",
    "    \"Chlorine, liquid\",\n",
    "    \"Ethylene, average\",\n",
    "    \"Propylene\",\n",
    "    \"Toluene, liquid\",\n",
    "    \"Acetic acid, without water, in 98% solution state\",\n",
    "    \"Acetaldehyde\",\n",
    "    \"Polyethylene, high density, granulate\",\n",
    "    \"Benzene\",\n",
    "    \"Ammonia, liquid\",\n",
    "    \"Polypropylene, granulate\",\n",
    "    \"Ethylene oxide\",\n",
    "    \"Polyvinylchloride, bulk polymerised\",\n",
    "    \"Hydrogen, liquid\",\n",
    "    \"Acrylonitrile\",\n",
    "    \"Urea, as N\",\n",
    "    \"1-propanol\",\n",
    "    \"Acetylene\",\n",
    "    \"Chlorotoluron\",\n",
    "    \"Methylene diphenyl diisocyanate\",\n",
    "    \"Ammonium nitrate, as N\",\n",
    "    \"Pyridine\",\n",
    "    \"Nylon 6-6\",\n",
    "    \"Glyphosate\",\n",
    "    \"Para-phenylene diamine\",\n",
    "    \"Fluorine, liquid\",\n",
    "    \"Adipic acid\",\n",
    "    \"Xylene\",\n",
    "]\n",
    "\n",
    "# replaced internal_funcs.find_chemicals(df_base_full,HIGHLIGHTED_PRODUCTS,\"referenceProduct\")\n",
    "selected = filter_dataframe(\n",
    "    df_in=df_base_full,\n",
    "    col_name=\"referenceProduct\",\n",
    "    filter_in=HIGHLIGHTED_PRODUCTS,\n",
    "    exact_match=True,\n",
    ")[\n",
    "    [\"Activity\"]\n",
    "    + [\"referenceProduct\"]\n",
    "    + [\"geo\"]\n",
    "    #     + [\"category\"]\n",
    "    + [\"category_regrouped\"]\n",
    "    + [\"referenceProduct_CPCclass\"]\n",
    "    #     + [\"referenceProduct_prodVolume\"]\n",
    "    + METHODS[:1]  # [\"('IPCC 2013 GWP 100a V1.03', 'IPCC GWP 100a', 'kg CO2 eq')\"]\n",
    "    + TL_METHODS[:1]\n",
    "    #     + [\"complexity\"]\n",
    "    + [\"MF\"]\n",
    "    #     lst_metadata\n",
    "    #     + lst_methods\n",
    "]\n",
    "\n",
    "selected[selected.geo == \"GLO\"].sort_values(\n",
    "    by=TL_METHODS[0],  # \"('IPCC 2013 GWP 100a V1.03', 'IPCC GWP 100a', 'kg CO2 eq')\"\n",
    "    ascending=False\n",
    ")"
   ]
  },
  {
   "cell_type": "code",
   "execution_count": null,
   "metadata": {},
   "outputs": [],
   "source": [
    "# Make df of HIGHLIGHTED_PRODUCTS for later export\n",
    "df_highlighted_products = pd.DataFrame(sorted(HIGHLIGHTED_PRODUCTS), columns=[\"HIGHLIGHTED_PRODUCTS\"])\n",
    "# df_highlighted_products"
   ]
  },
  {
   "cell_type": "markdown",
   "metadata": {
    "tags": []
   },
   "source": [
    "# OUTPUTS: Export data to excel"
   ]
  },
  {
   "cell_type": "code",
   "execution_count": null,
   "metadata": {},
   "outputs": [],
   "source": [
    "%%time\n",
    "\n",
    "# Set output directory\n",
    "outputs_dir = set_outputs_dir(use_default=True)  # default `..\\data\\interim`\n",
    "\n",
    "## Export dataframe to excel\n",
    "excelName = \"highlighted-products.xlsx\"\n",
    "\n",
    "df_readme = make_readme_info(\n",
    "    excelName,\n",
    "    \"HIGHLIGHTED_PRODUCTS: Dataframe with highlighted products used for insights and plotting (alphabetically sorted)\",\n",
    ")\n",
    "\n",
    "w_excel(\n",
    "    path_to_file=outputs_dir,\n",
    "    filename=excelName,\n",
    "    dict_data_to_write={\"HIGHLIGHTED_PRODUCTS\": df_highlighted_products},\n",
    "    readme_info=(\"readme\", df_readme),\n",
    "    #     ExcelWriter_kwargs={\"engine\": \"openpyxl\", \"encoding\": \"UTF-8\"}\n",
    "    #     startrow=0\n",
    ")"
   ]
  }
 ],
 "metadata": {
  "kernelspec": {
   "display_name": "Python (proj17)",
   "language": "python",
   "name": "17-conda-env"
  },
  "language_info": {
   "codemirror_mode": {
    "name": "ipython",
    "version": 3
   },
   "file_extension": ".py",
   "mimetype": "text/x-python",
   "name": "python",
   "nbconvert_exporter": "python",
   "pygments_lexer": "ipython3",
   "version": "3.8.5"
  },
  "toc-autonumbering": false,
  "toc-showcode": false,
  "toc-showmarkdowntxt": false,
  "toc-showtags": false
 },
 "nbformat": 4,
 "nbformat_minor": 4
}
