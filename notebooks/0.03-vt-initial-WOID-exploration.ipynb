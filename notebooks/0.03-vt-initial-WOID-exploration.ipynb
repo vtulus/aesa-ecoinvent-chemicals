{
 "cells": [
  {
   "cell_type": "markdown",
   "id": "5fd46a57-e8af-47b7-8731-f412a425d293",
   "metadata": {},
   "source": [
    "<div class=\"alert alert-block alert-info\">\n",
    "This script imports WIOD for exploration. No outputs...<br>  \n",
    "    <hr> \n",
    "    Note: <br>\n",
    "    <i><b>Not a part of the pipeline</b></i>\n",
    "</div>"
   ]
  },
  {
   "cell_type": "markdown",
   "id": "4fd60b79-8aab-4ff1-ac7c-196a9a348328",
   "metadata": {},
   "source": [
    "# Imports"
   ]
  },
  {
   "cell_type": "code",
   "execution_count": 1,
   "id": "printable-danger",
   "metadata": {},
   "outputs": [],
   "source": [
    "%config IPCompleter.use_jedi = False # disable jedi autocompleter (https://stackoverflow.com/a/65734178/14485040)\n",
    "\n",
    "import project_path  # makes possible the access to `src` directory using relative path\n",
    "from src.utils import explore_dir\n",
    "from src.utils import read_excel_to_pandas as r_excel\n",
    "\n",
    "%run init_nb.ipynb"
   ]
  },
  {
   "cell_type": "markdown",
   "id": "b9aec4c3-3889-4a5c-9071-7b479408f955",
   "metadata": {
    "tags": []
   },
   "source": [
    "# INPUTS: Identify file(s) and read data to df"
   ]
  },
  {
   "cell_type": "code",
   "execution_count": 2,
   "id": "hawaiian-publicity",
   "metadata": {},
   "outputs": [
    {
     "name": "stdout",
     "output_type": "stream",
     "text": [
      "['WIOT2014_Nov16_ROW.xlsb']\n",
      "\n",
      "nº of found files in C:\\Users\\ViteksPC\\Documents\\00-ETH_projects\\17-AESA_ecoinvent_chemicals\\data\\external\\WIOD :  1 \n",
      "\n"
     ]
    }
   ],
   "source": [
    "# Explore the directory to find the file(s)\n",
    "\n",
    "# --------------- WorldInputOutputTable (WIOT) file ----------------\n",
    "inputs_dir_1, files_list_1 = explore_dir(\n",
    "    path_to_dir=r\"..\\data\\external\\WIOD\",\n",
    "    file_extension=\"xlsb\",\n",
    "    print_files_list=True,\n",
    ")\n",
    "\n",
    "print(\"\\nnº of found files in\", inputs_dir_1, \": \", len(files_list_1), \"\\n\")"
   ]
  },
  {
   "cell_type": "code",
   "execution_count": 3,
   "id": "banner-logging",
   "metadata": {},
   "outputs": [
    {
     "name": "stdout",
     "output_type": "stream",
     "text": [
      "df of WIOT (raw) .......................  (2472, 2685)\n",
      "Wall time: 1min 21s\n"
     ]
    },
    {
     "data": {
      "text/html": [
       "<div>\n",
       "<style scoped>\n",
       "    .dataframe tbody tr th:only-of-type {\n",
       "        vertical-align: middle;\n",
       "    }\n",
       "\n",
       "    .dataframe tbody tr th {\n",
       "        vertical-align: top;\n",
       "    }\n",
       "\n",
       "    .dataframe thead tr th {\n",
       "        text-align: left;\n",
       "    }\n",
       "</style>\n",
       "<table border=\"1\" class=\"dataframe\">\n",
       "  <thead>\n",
       "    <tr>\n",
       "      <th></th>\n",
       "      <th></th>\n",
       "      <th></th>\n",
       "      <th>(industry-by-industry)</th>\n",
       "      <th>A01</th>\n",
       "      <th>A02</th>\n",
       "      <th>A03</th>\n",
       "      <th>B</th>\n",
       "      <th>C10-C12</th>\n",
       "      <th>C13-C15</th>\n",
       "      <th>C16</th>\n",
       "      <th>C17</th>\n",
       "      <th>C18</th>\n",
       "      <th>C19</th>\n",
       "      <th>...</th>\n",
       "      <th>CONS_np</th>\n",
       "      <th>CONS_g</th>\n",
       "      <th>GFCF</th>\n",
       "      <th>INVEN</th>\n",
       "      <th>CONS_h</th>\n",
       "      <th>CONS_np</th>\n",
       "      <th>CONS_g</th>\n",
       "      <th>GFCF</th>\n",
       "      <th>INVEN</th>\n",
       "      <th>GO</th>\n",
       "    </tr>\n",
       "    <tr>\n",
       "      <th></th>\n",
       "      <th></th>\n",
       "      <th></th>\n",
       "      <th>(millions of US$)</th>\n",
       "      <th>Crop and animal production, hunting and related service activities</th>\n",
       "      <th>Forestry and logging</th>\n",
       "      <th>Fishing and aquaculture</th>\n",
       "      <th>Mining and quarrying</th>\n",
       "      <th>Manufacture of food products, beverages and tobacco products</th>\n",
       "      <th>Manufacture of textiles, wearing apparel and leather products</th>\n",
       "      <th>Manufacture of wood and of products of wood and cork, except furniture; manufacture of articles of straw and plaiting materials</th>\n",
       "      <th>Manufacture of paper and paper products</th>\n",
       "      <th>Printing and reproduction of recorded media</th>\n",
       "      <th>Manufacture of coke and refined petroleum products</th>\n",
       "      <th>...</th>\n",
       "      <th>Final consumption expenditure by non-profit organisations serving households (NPISH)</th>\n",
       "      <th>Final consumption expenditure by government</th>\n",
       "      <th>Gross fixed capital formation</th>\n",
       "      <th>Changes in inventories and valuables</th>\n",
       "      <th>Final consumption expenditure by households</th>\n",
       "      <th>Final consumption expenditure by non-profit organisations serving households (NPISH)</th>\n",
       "      <th>Final consumption expenditure by government</th>\n",
       "      <th>Gross fixed capital formation</th>\n",
       "      <th>Changes in inventories and valuables</th>\n",
       "      <th>Total output</th>\n",
       "    </tr>\n",
       "    <tr>\n",
       "      <th></th>\n",
       "      <th></th>\n",
       "      <th></th>\n",
       "      <th></th>\n",
       "      <th>AUS</th>\n",
       "      <th>AUS</th>\n",
       "      <th>AUS</th>\n",
       "      <th>AUS</th>\n",
       "      <th>AUS</th>\n",
       "      <th>AUS</th>\n",
       "      <th>AUS</th>\n",
       "      <th>AUS</th>\n",
       "      <th>AUS</th>\n",
       "      <th>AUS</th>\n",
       "      <th>...</th>\n",
       "      <th>USA</th>\n",
       "      <th>USA</th>\n",
       "      <th>USA</th>\n",
       "      <th>USA</th>\n",
       "      <th>ROW</th>\n",
       "      <th>ROW</th>\n",
       "      <th>ROW</th>\n",
       "      <th>ROW</th>\n",
       "      <th>ROW</th>\n",
       "      <th>TOT</th>\n",
       "    </tr>\n",
       "    <tr>\n",
       "      <th></th>\n",
       "      <th></th>\n",
       "      <th></th>\n",
       "      <th></th>\n",
       "      <th>c1</th>\n",
       "      <th>c2</th>\n",
       "      <th>c3</th>\n",
       "      <th>c4</th>\n",
       "      <th>c5</th>\n",
       "      <th>c6</th>\n",
       "      <th>c7</th>\n",
       "      <th>c8</th>\n",
       "      <th>c9</th>\n",
       "      <th>c10</th>\n",
       "      <th>...</th>\n",
       "      <th>c58</th>\n",
       "      <th>c59</th>\n",
       "      <th>c60</th>\n",
       "      <th>c61</th>\n",
       "      <th>c57</th>\n",
       "      <th>c58</th>\n",
       "      <th>c59</th>\n",
       "      <th>c60</th>\n",
       "      <th>c61</th>\n",
       "      <th>c62</th>\n",
       "    </tr>\n",
       "  </thead>\n",
       "  <tbody>\n",
       "    <tr>\n",
       "      <th>A01</th>\n",
       "      <th>Crop and animal production, hunting and related service activities</th>\n",
       "      <th>AUS</th>\n",
       "      <th>r1</th>\n",
       "      <td>12924.179691</td>\n",
       "      <td>112.454221</td>\n",
       "      <td>228.480462</td>\n",
       "      <td>538.890807</td>\n",
       "      <td>25139.334287</td>\n",
       "      <td>737.492591</td>\n",
       "      <td>4.475430</td>\n",
       "      <td>3.130541</td>\n",
       "      <td>1.889580</td>\n",
       "      <td>0.226825</td>\n",
       "      <td>...</td>\n",
       "      <td>0</td>\n",
       "      <td>3.565392e-05</td>\n",
       "      <td>0.324914</td>\n",
       "      <td>0.027391</td>\n",
       "      <td>723.189984</td>\n",
       "      <td>0.000374</td>\n",
       "      <td>14.156350</td>\n",
       "      <td>20.520708</td>\n",
       "      <td>0.010083</td>\n",
       "      <td>70292.034492</td>\n",
       "    </tr>\n",
       "    <tr>\n",
       "      <th>A02</th>\n",
       "      <th>Forestry and logging</th>\n",
       "      <th>AUS</th>\n",
       "      <th>r2</th>\n",
       "      <td>83.029637</td>\n",
       "      <td>201.499948</td>\n",
       "      <td>0.191313</td>\n",
       "      <td>17.190679</td>\n",
       "      <td>2.646331</td>\n",
       "      <td>0.093768</td>\n",
       "      <td>1430.804904</td>\n",
       "      <td>0.369454</td>\n",
       "      <td>4.934620</td>\n",
       "      <td>0.251875</td>\n",
       "      <td>...</td>\n",
       "      <td>0</td>\n",
       "      <td>1.647680e-06</td>\n",
       "      <td>0.015015</td>\n",
       "      <td>0.000439</td>\n",
       "      <td>0.423422</td>\n",
       "      <td>0.000003</td>\n",
       "      <td>0.000071</td>\n",
       "      <td>0.000977</td>\n",
       "      <td>-0.000109</td>\n",
       "      <td>2585.379685</td>\n",
       "    </tr>\n",
       "    <tr>\n",
       "      <th>A03</th>\n",
       "      <th>Fishing and aquaculture</th>\n",
       "      <th>AUS</th>\n",
       "      <th>r3</th>\n",
       "      <td>19.147731</td>\n",
       "      <td>0.001079</td>\n",
       "      <td>19.106701</td>\n",
       "      <td>4.228108</td>\n",
       "      <td>316.075149</td>\n",
       "      <td>22.866683</td>\n",
       "      <td>0.252294</td>\n",
       "      <td>0.268537</td>\n",
       "      <td>0.298600</td>\n",
       "      <td>0.036279</td>\n",
       "      <td>...</td>\n",
       "      <td>0</td>\n",
       "      <td>5.445825e-07</td>\n",
       "      <td>0.004963</td>\n",
       "      <td>0.008311</td>\n",
       "      <td>404.041139</td>\n",
       "      <td>0.000386</td>\n",
       "      <td>0.004619</td>\n",
       "      <td>0.357978</td>\n",
       "      <td>0.000592</td>\n",
       "      <td>3175.044396</td>\n",
       "    </tr>\n",
       "    <tr>\n",
       "      <th>B</th>\n",
       "      <th>Mining and quarrying</th>\n",
       "      <th>AUS</th>\n",
       "      <th>r4</th>\n",
       "      <td>115.929847</td>\n",
       "      <td>0.695040</td>\n",
       "      <td>5.924477</td>\n",
       "      <td>4492.037652</td>\n",
       "      <td>331.609356</td>\n",
       "      <td>5.984141</td>\n",
       "      <td>29.740924</td>\n",
       "      <td>49.763961</td>\n",
       "      <td>21.382742</td>\n",
       "      <td>10759.596823</td>\n",
       "      <td>...</td>\n",
       "      <td>0</td>\n",
       "      <td>1.767029e-04</td>\n",
       "      <td>1.610294</td>\n",
       "      <td>0.047027</td>\n",
       "      <td>14.871627</td>\n",
       "      <td>0.006665</td>\n",
       "      <td>0.594705</td>\n",
       "      <td>19.726833</td>\n",
       "      <td>-0.282072</td>\n",
       "      <td>171985.122327</td>\n",
       "    </tr>\n",
       "    <tr>\n",
       "      <th>C10-C12</th>\n",
       "      <th>Manufacture of food products, beverages and tobacco products</th>\n",
       "      <th>AUS</th>\n",
       "      <th>r5</th>\n",
       "      <td>1590.840590</td>\n",
       "      <td>0.880063</td>\n",
       "      <td>42.540760</td>\n",
       "      <td>203.011938</td>\n",
       "      <td>10851.759013</td>\n",
       "      <td>262.228559</td>\n",
       "      <td>11.467425</td>\n",
       "      <td>18.140557</td>\n",
       "      <td>10.902817</td>\n",
       "      <td>2.897519</td>\n",
       "      <td>...</td>\n",
       "      <td>0</td>\n",
       "      <td>1.528107e-04</td>\n",
       "      <td>1.393463</td>\n",
       "      <td>0.041279</td>\n",
       "      <td>4810.234988</td>\n",
       "      <td>0.001371</td>\n",
       "      <td>47.016724</td>\n",
       "      <td>1.345248</td>\n",
       "      <td>0.027914</td>\n",
       "      <td>83504.036584</td>\n",
       "    </tr>\n",
       "  </tbody>\n",
       "</table>\n",
       "<p>5 rows × 2685 columns</p>\n",
       "</div>"
      ],
      "text/plain": [
       "(industry-by-industry)                                                                                                           A01  \\\n",
       "(millions of US$)                                                 Crop and animal production, hunting and related service activities   \n",
       "                                                                                                                                 AUS   \n",
       "                                                                                                                                  c1   \n",
       "A01     Crop and animal production, hunting and related... AUS r1                                       12924.179691                   \n",
       "A02     Forestry and logging                               AUS r2                                          83.029637                   \n",
       "A03     Fishing and aquaculture                            AUS r3                                          19.147731                   \n",
       "B       Mining and quarrying                               AUS r4                                         115.929847                   \n",
       "C10-C12 Manufacture of food products, beverages and tob... AUS r5                                        1590.840590                   \n",
       "\n",
       "(industry-by-industry)                                                             A02  \\\n",
       "(millions of US$)                                                 Forestry and logging   \n",
       "                                                                                   AUS   \n",
       "                                                                                    c2   \n",
       "A01     Crop and animal production, hunting and related... AUS r1           112.454221   \n",
       "A02     Forestry and logging                               AUS r2           201.499948   \n",
       "A03     Fishing and aquaculture                            AUS r3             0.001079   \n",
       "B       Mining and quarrying                               AUS r4             0.695040   \n",
       "C10-C12 Manufacture of food products, beverages and tob... AUS r5             0.880063   \n",
       "\n",
       "(industry-by-industry)                                                                A03  \\\n",
       "(millions of US$)                                                 Fishing and aquaculture   \n",
       "                                                                                      AUS   \n",
       "                                                                                       c3   \n",
       "A01     Crop and animal production, hunting and related... AUS r1              228.480462   \n",
       "A02     Forestry and logging                               AUS r2                0.191313   \n",
       "A03     Fishing and aquaculture                            AUS r3               19.106701   \n",
       "B       Mining and quarrying                               AUS r4                5.924477   \n",
       "C10-C12 Manufacture of food products, beverages and tob... AUS r5               42.540760   \n",
       "\n",
       "(industry-by-industry)                                                               B  \\\n",
       "(millions of US$)                                                 Mining and quarrying   \n",
       "                                                                                   AUS   \n",
       "                                                                                    c4   \n",
       "A01     Crop and animal production, hunting and related... AUS r1           538.890807   \n",
       "A02     Forestry and logging                               AUS r2            17.190679   \n",
       "A03     Fishing and aquaculture                            AUS r3             4.228108   \n",
       "B       Mining and quarrying                               AUS r4          4492.037652   \n",
       "C10-C12 Manufacture of food products, beverages and tob... AUS r5           203.011938   \n",
       "\n",
       "(industry-by-industry)                                                                                                 C10-C12  \\\n",
       "(millions of US$)                                                 Manufacture of food products, beverages and tobacco products   \n",
       "                                                                                                                           AUS   \n",
       "                                                                                                                            c5   \n",
       "A01     Crop and animal production, hunting and related... AUS r1                                       25139.334287             \n",
       "A02     Forestry and logging                               AUS r2                                           2.646331             \n",
       "A03     Fishing and aquaculture                            AUS r3                                         316.075149             \n",
       "B       Mining and quarrying                               AUS r4                                         331.609356             \n",
       "C10-C12 Manufacture of food products, beverages and tob... AUS r5                                       10851.759013             \n",
       "\n",
       "(industry-by-industry)                                                                                                  C13-C15  \\\n",
       "(millions of US$)                                                 Manufacture of textiles, wearing apparel and leather products   \n",
       "                                                                                                                            AUS   \n",
       "                                                                                                                             c6   \n",
       "A01     Crop and animal production, hunting and related... AUS r1                                         737.492591              \n",
       "A02     Forestry and logging                               AUS r2                                           0.093768              \n",
       "A03     Fishing and aquaculture                            AUS r3                                          22.866683              \n",
       "B       Mining and quarrying                               AUS r4                                           5.984141              \n",
       "C10-C12 Manufacture of food products, beverages and tob... AUS r5                                         262.228559              \n",
       "\n",
       "(industry-by-industry)                                                                                                                                                                        C16  \\\n",
       "(millions of US$)                                                 Manufacture of wood and of products of wood and cork, except furniture; manufacture of articles of straw and plaiting materials   \n",
       "                                                                                                                                                                                              AUS   \n",
       "                                                                                                                                                                                               c7   \n",
       "A01     Crop and animal production, hunting and related... AUS r1                                           4.475430                                                                                \n",
       "A02     Forestry and logging                               AUS r2                                        1430.804904                                                                                \n",
       "A03     Fishing and aquaculture                            AUS r3                                           0.252294                                                                                \n",
       "B       Mining and quarrying                               AUS r4                                          29.740924                                                                                \n",
       "C10-C12 Manufacture of food products, beverages and tob... AUS r5                                          11.467425                                                                                \n",
       "\n",
       "(industry-by-industry)                                                                                C17  \\\n",
       "(millions of US$)                                                 Manufacture of paper and paper products   \n",
       "                                                                                                      AUS   \n",
       "                                                                                                       c8   \n",
       "A01     Crop and animal production, hunting and related... AUS r1                                3.130541   \n",
       "A02     Forestry and logging                               AUS r2                                0.369454   \n",
       "A03     Fishing and aquaculture                            AUS r3                                0.268537   \n",
       "B       Mining and quarrying                               AUS r4                               49.763961   \n",
       "C10-C12 Manufacture of food products, beverages and tob... AUS r5                               18.140557   \n",
       "\n",
       "(industry-by-industry)                                                                                    C18  \\\n",
       "(millions of US$)                                                 Printing and reproduction of recorded media   \n",
       "                                                                                                          AUS   \n",
       "                                                                                                           c9   \n",
       "A01     Crop and animal production, hunting and related... AUS r1                                    1.889580   \n",
       "A02     Forestry and logging                               AUS r2                                    4.934620   \n",
       "A03     Fishing and aquaculture                            AUS r3                                    0.298600   \n",
       "B       Mining and quarrying                               AUS r4                                   21.382742   \n",
       "C10-C12 Manufacture of food products, beverages and tob... AUS r5                                   10.902817   \n",
       "\n",
       "(industry-by-industry)                                                                                            C19  \\\n",
       "(millions of US$)                                                 Manufacture of coke and refined petroleum products    \n",
       "                                                                                                                  AUS   \n",
       "                                                                                                                  c10   \n",
       "A01     Crop and animal production, hunting and related... AUS r1                                           0.226825    \n",
       "A02     Forestry and logging                               AUS r2                                           0.251875    \n",
       "A03     Fishing and aquaculture                            AUS r3                                           0.036279    \n",
       "B       Mining and quarrying                               AUS r4                                       10759.596823    \n",
       "C10-C12 Manufacture of food products, beverages and tob... AUS r5                                           2.897519    \n",
       "\n",
       "(industry-by-industry)                                             ...  \\\n",
       "(millions of US$)                                                  ...   \n",
       "                                                                   ...   \n",
       "                                                                   ...   \n",
       "A01     Crop and animal production, hunting and related... AUS r1  ...   \n",
       "A02     Forestry and logging                               AUS r2  ...   \n",
       "A03     Fishing and aquaculture                            AUS r3  ...   \n",
       "B       Mining and quarrying                               AUS r4  ...   \n",
       "C10-C12 Manufacture of food products, beverages and tob... AUS r5  ...   \n",
       "\n",
       "(industry-by-industry)                                                                                                                         CONS_np  \\\n",
       "(millions of US$)                                                 Final consumption expenditure by non-profit organisations serving households (NPISH)   \n",
       "                                                                                                                                                   USA   \n",
       "                                                                                                                                                   c58   \n",
       "A01     Crop and animal production, hunting and related... AUS r1                                                  0                                     \n",
       "A02     Forestry and logging                               AUS r2                                                  0                                     \n",
       "A03     Fishing and aquaculture                            AUS r3                                                  0                                     \n",
       "B       Mining and quarrying                               AUS r4                                                  0                                     \n",
       "C10-C12 Manufacture of food products, beverages and tob... AUS r5                                                  0                                     \n",
       "\n",
       "(industry-by-industry)                                                                                 CONS_g  \\\n",
       "(millions of US$)                                                 Final consumption expenditure by government   \n",
       "                                                                                                          USA   \n",
       "                                                                                                          c59   \n",
       "A01     Crop and animal production, hunting and related... AUS r1                                3.565392e-05   \n",
       "A02     Forestry and logging                               AUS r2                                1.647680e-06   \n",
       "A03     Fishing and aquaculture                            AUS r3                                5.445825e-07   \n",
       "B       Mining and quarrying                               AUS r4                                1.767029e-04   \n",
       "C10-C12 Manufacture of food products, beverages and tob... AUS r5                                1.528107e-04   \n",
       "\n",
       "(industry-by-industry)                                                                     GFCF  \\\n",
       "(millions of US$)                                                 Gross fixed capital formation   \n",
       "                                                                                            USA   \n",
       "                                                                                            c60   \n",
       "A01     Crop and animal production, hunting and related... AUS r1                      0.324914   \n",
       "A02     Forestry and logging                               AUS r2                      0.015015   \n",
       "A03     Fishing and aquaculture                            AUS r3                      0.004963   \n",
       "B       Mining and quarrying                               AUS r4                      1.610294   \n",
       "C10-C12 Manufacture of food products, beverages and tob... AUS r5                      1.393463   \n",
       "\n",
       "(industry-by-industry)                                                                           INVEN  \\\n",
       "(millions of US$)                                                 Changes in inventories and valuables   \n",
       "                                                                                                   USA   \n",
       "                                                                                                   c61   \n",
       "A01     Crop and animal production, hunting and related... AUS r1                             0.027391   \n",
       "A02     Forestry and logging                               AUS r2                             0.000439   \n",
       "A03     Fishing and aquaculture                            AUS r3                             0.008311   \n",
       "B       Mining and quarrying                               AUS r4                             0.047027   \n",
       "C10-C12 Manufacture of food products, beverages and tob... AUS r5                             0.041279   \n",
       "\n",
       "(industry-by-industry)                                                                                 CONS_h  \\\n",
       "(millions of US$)                                                 Final consumption expenditure by households   \n",
       "                                                                                                          ROW   \n",
       "                                                                                                          c57   \n",
       "A01     Crop and animal production, hunting and related... AUS r1                                  723.189984   \n",
       "A02     Forestry and logging                               AUS r2                                    0.423422   \n",
       "A03     Fishing and aquaculture                            AUS r3                                  404.041139   \n",
       "B       Mining and quarrying                               AUS r4                                   14.871627   \n",
       "C10-C12 Manufacture of food products, beverages and tob... AUS r5                                 4810.234988   \n",
       "\n",
       "(industry-by-industry)                                                                                                                         CONS_np  \\\n",
       "(millions of US$)                                                 Final consumption expenditure by non-profit organisations serving households (NPISH)   \n",
       "                                                                                                                                                   ROW   \n",
       "                                                                                                                                                   c58   \n",
       "A01     Crop and animal production, hunting and related... AUS r1                                           0.000374                                     \n",
       "A02     Forestry and logging                               AUS r2                                           0.000003                                     \n",
       "A03     Fishing and aquaculture                            AUS r3                                           0.000386                                     \n",
       "B       Mining and quarrying                               AUS r4                                           0.006665                                     \n",
       "C10-C12 Manufacture of food products, beverages and tob... AUS r5                                           0.001371                                     \n",
       "\n",
       "(industry-by-industry)                                                                                 CONS_g  \\\n",
       "(millions of US$)                                                 Final consumption expenditure by government   \n",
       "                                                                                                          ROW   \n",
       "                                                                                                          c59   \n",
       "A01     Crop and animal production, hunting and related... AUS r1                                   14.156350   \n",
       "A02     Forestry and logging                               AUS r2                                    0.000071   \n",
       "A03     Fishing and aquaculture                            AUS r3                                    0.004619   \n",
       "B       Mining and quarrying                               AUS r4                                    0.594705   \n",
       "C10-C12 Manufacture of food products, beverages and tob... AUS r5                                   47.016724   \n",
       "\n",
       "(industry-by-industry)                                                                     GFCF  \\\n",
       "(millions of US$)                                                 Gross fixed capital formation   \n",
       "                                                                                            ROW   \n",
       "                                                                                            c60   \n",
       "A01     Crop and animal production, hunting and related... AUS r1                     20.520708   \n",
       "A02     Forestry and logging                               AUS r2                      0.000977   \n",
       "A03     Fishing and aquaculture                            AUS r3                      0.357978   \n",
       "B       Mining and quarrying                               AUS r4                     19.726833   \n",
       "C10-C12 Manufacture of food products, beverages and tob... AUS r5                      1.345248   \n",
       "\n",
       "(industry-by-industry)                                                                           INVEN  \\\n",
       "(millions of US$)                                                 Changes in inventories and valuables   \n",
       "                                                                                                   ROW   \n",
       "                                                                                                   c61   \n",
       "A01     Crop and animal production, hunting and related... AUS r1                             0.010083   \n",
       "A02     Forestry and logging                               AUS r2                            -0.000109   \n",
       "A03     Fishing and aquaculture                            AUS r3                             0.000592   \n",
       "B       Mining and quarrying                               AUS r4                            -0.282072   \n",
       "C10-C12 Manufacture of food products, beverages and tob... AUS r5                             0.027914   \n",
       "\n",
       "(industry-by-industry)                                                        GO  \n",
       "(millions of US$)                                                   Total output  \n",
       "                                                                             TOT  \n",
       "                                                                             c62  \n",
       "A01     Crop and animal production, hunting and related... AUS r1   70292.034492  \n",
       "A02     Forestry and logging                               AUS r2    2585.379685  \n",
       "A03     Fishing and aquaculture                            AUS r3    3175.044396  \n",
       "B       Mining and quarrying                               AUS r4  171985.122327  \n",
       "C10-C12 Manufacture of food products, beverages and tob... AUS r5   83504.036584  \n",
       "\n",
       "[5 rows x 2685 columns]"
      ]
     },
     "execution_count": 3,
     "metadata": {},
     "output_type": "execute_result"
    }
   ],
   "source": [
    "%%time\n",
    "# Process raw data\n",
    "\n",
    "# IO data for a specific year\n",
    "df_IO_raw = r_excel(\n",
    "    inputs_dir_1,\n",
    "    \"WIOT2014_Nov16_ROW.xlsb\",\n",
    "    sheets=\"2014\",\n",
    "    engine=\"pyxlsb\",\n",
    "    index_col=[0, 1, 2, 3],\n",
    "    header=[2, 3, 4, 5],\n",
    "#     skiprows = [0, 1]\n",
    ")\n",
    "print(\"df of WIOT (raw) \".ljust(40, \".\"), f\" {df_IO_raw.shape}\".rjust(13, \".\"))\n",
    "df_IO_raw.head(5)"
   ]
  },
  {
   "cell_type": "markdown",
   "id": "16b082a8-7f52-46f5-bfe7-25bac53cb82c",
   "metadata": {
    "tags": []
   },
   "source": [
    "# Operations"
   ]
  },
  {
   "cell_type": "markdown",
   "id": "ambient-animal",
   "metadata": {},
   "source": [
    " - aggregate WIOD by sector for one GLO country (aggregate rows and columns)\n",
    " - put rows/columns in order (e.g. r9 comes before r10)\n",
    " - separate WIOD into T, Y, X, VA matrices\n",
    " - perform operations"
   ]
  },
  {
   "cell_type": "code",
   "execution_count": 4,
   "id": "numerical-exemption",
   "metadata": {},
   "outputs": [],
   "source": [
    "# clean column/index names\n",
    "df_IO_raw.columns.names = len(df_IO_raw.columns.names)*[None]\n",
    "df_IO_raw.index.names = len(df_IO_raw.index.names)*[None]\n",
    "df_io = df_IO_raw.copy()"
   ]
  },
  {
   "cell_type": "code",
   "execution_count": 5,
   "id": "finite-assets",
   "metadata": {},
   "outputs": [
    {
     "data": {
      "text/html": [
       "<div>\n",
       "<style scoped>\n",
       "    .dataframe tbody tr th:only-of-type {\n",
       "        vertical-align: middle;\n",
       "    }\n",
       "\n",
       "    .dataframe tbody tr th {\n",
       "        vertical-align: top;\n",
       "    }\n",
       "\n",
       "    .dataframe thead th {\n",
       "        text-align: right;\n",
       "    }\n",
       "</style>\n",
       "<table border=\"1\" class=\"dataframe\">\n",
       "  <thead>\n",
       "    <tr style=\"text-align: right;\">\n",
       "      <th></th>\n",
       "      <th>col_code</th>\n",
       "      <th>sector</th>\n",
       "      <th>country</th>\n",
       "      <th>col_num</th>\n",
       "    </tr>\n",
       "  </thead>\n",
       "  <tbody>\n",
       "    <tr>\n",
       "      <th>0</th>\n",
       "      <td>A01</td>\n",
       "      <td>Crop and animal production, hunting and relate...</td>\n",
       "      <td>AUS</td>\n",
       "      <td>c1</td>\n",
       "    </tr>\n",
       "    <tr>\n",
       "      <th>1</th>\n",
       "      <td>A02</td>\n",
       "      <td>Forestry and logging</td>\n",
       "      <td>AUS</td>\n",
       "      <td>c2</td>\n",
       "    </tr>\n",
       "    <tr>\n",
       "      <th>2</th>\n",
       "      <td>A03</td>\n",
       "      <td>Fishing and aquaculture</td>\n",
       "      <td>AUS</td>\n",
       "      <td>c3</td>\n",
       "    </tr>\n",
       "    <tr>\n",
       "      <th>3</th>\n",
       "      <td>B</td>\n",
       "      <td>Mining and quarrying</td>\n",
       "      <td>AUS</td>\n",
       "      <td>c4</td>\n",
       "    </tr>\n",
       "    <tr>\n",
       "      <th>4</th>\n",
       "      <td>C10-C12</td>\n",
       "      <td>Manufacture of food products, beverages and to...</td>\n",
       "      <td>AUS</td>\n",
       "      <td>c5</td>\n",
       "    </tr>\n",
       "    <tr>\n",
       "      <th>...</th>\n",
       "      <td>...</td>\n",
       "      <td>...</td>\n",
       "      <td>...</td>\n",
       "      <td>...</td>\n",
       "    </tr>\n",
       "    <tr>\n",
       "      <th>2680</th>\n",
       "      <td>CONS_np</td>\n",
       "      <td>Final consumption expenditure by non-profit or...</td>\n",
       "      <td>ROW</td>\n",
       "      <td>c58</td>\n",
       "    </tr>\n",
       "    <tr>\n",
       "      <th>2681</th>\n",
       "      <td>CONS_g</td>\n",
       "      <td>Final consumption expenditure by government</td>\n",
       "      <td>ROW</td>\n",
       "      <td>c59</td>\n",
       "    </tr>\n",
       "    <tr>\n",
       "      <th>2682</th>\n",
       "      <td>GFCF</td>\n",
       "      <td>Gross fixed capital formation</td>\n",
       "      <td>ROW</td>\n",
       "      <td>c60</td>\n",
       "    </tr>\n",
       "    <tr>\n",
       "      <th>2683</th>\n",
       "      <td>INVEN</td>\n",
       "      <td>Changes in inventories and valuables</td>\n",
       "      <td>ROW</td>\n",
       "      <td>c61</td>\n",
       "    </tr>\n",
       "    <tr>\n",
       "      <th>2684</th>\n",
       "      <td>GO</td>\n",
       "      <td>Total output</td>\n",
       "      <td>TOT</td>\n",
       "      <td>c62</td>\n",
       "    </tr>\n",
       "  </tbody>\n",
       "</table>\n",
       "<p>2685 rows × 4 columns</p>\n",
       "</div>"
      ],
      "text/plain": [
       "     col_code                                             sector country  \\\n",
       "0         A01  Crop and animal production, hunting and relate...     AUS   \n",
       "1         A02                               Forestry and logging     AUS   \n",
       "2         A03                            Fishing and aquaculture     AUS   \n",
       "3           B                               Mining and quarrying     AUS   \n",
       "4     C10-C12  Manufacture of food products, beverages and to...     AUS   \n",
       "...       ...                                                ...     ...   \n",
       "2680  CONS_np  Final consumption expenditure by non-profit or...     ROW   \n",
       "2681   CONS_g        Final consumption expenditure by government     ROW   \n",
       "2682     GFCF                      Gross fixed capital formation     ROW   \n",
       "2683    INVEN               Changes in inventories and valuables     ROW   \n",
       "2684       GO                                       Total output     TOT   \n",
       "\n",
       "     col_num  \n",
       "0         c1  \n",
       "1         c2  \n",
       "2         c3  \n",
       "3         c4  \n",
       "4         c5  \n",
       "...      ...  \n",
       "2680     c58  \n",
       "2681     c59  \n",
       "2682     c60  \n",
       "2683     c61  \n",
       "2684     c62  \n",
       "\n",
       "[2685 rows x 4 columns]"
      ]
     },
     "execution_count": 5,
     "metadata": {},
     "output_type": "execute_result"
    }
   ],
   "source": [
    "io_cols = pd.DataFrame(df_io.columns.to_list(), columns=[\"col_code\", \"sector\", \"country\", \"col_num\"])\n",
    "io_cols"
   ]
  },
  {
   "cell_type": "code",
   "execution_count": 6,
   "id": "figured-observation",
   "metadata": {},
   "outputs": [
    {
     "data": {
      "text/html": [
       "<div>\n",
       "<style scoped>\n",
       "    .dataframe tbody tr th:only-of-type {\n",
       "        vertical-align: middle;\n",
       "    }\n",
       "\n",
       "    .dataframe tbody tr th {\n",
       "        vertical-align: top;\n",
       "    }\n",
       "\n",
       "    .dataframe thead th {\n",
       "        text-align: right;\n",
       "    }\n",
       "</style>\n",
       "<table border=\"1\" class=\"dataframe\">\n",
       "  <thead>\n",
       "    <tr style=\"text-align: right;\">\n",
       "      <th></th>\n",
       "      <th>row_code</th>\n",
       "      <th>sector</th>\n",
       "      <th>country</th>\n",
       "      <th>row_num</th>\n",
       "    </tr>\n",
       "  </thead>\n",
       "  <tbody>\n",
       "    <tr>\n",
       "      <th>0</th>\n",
       "      <td>A01</td>\n",
       "      <td>Crop and animal production, hunting and relate...</td>\n",
       "      <td>AUS</td>\n",
       "      <td>r1</td>\n",
       "    </tr>\n",
       "    <tr>\n",
       "      <th>1</th>\n",
       "      <td>A02</td>\n",
       "      <td>Forestry and logging</td>\n",
       "      <td>AUS</td>\n",
       "      <td>r2</td>\n",
       "    </tr>\n",
       "    <tr>\n",
       "      <th>2</th>\n",
       "      <td>A03</td>\n",
       "      <td>Fishing and aquaculture</td>\n",
       "      <td>AUS</td>\n",
       "      <td>r3</td>\n",
       "    </tr>\n",
       "    <tr>\n",
       "      <th>3</th>\n",
       "      <td>B</td>\n",
       "      <td>Mining and quarrying</td>\n",
       "      <td>AUS</td>\n",
       "      <td>r4</td>\n",
       "    </tr>\n",
       "    <tr>\n",
       "      <th>4</th>\n",
       "      <td>C10-C12</td>\n",
       "      <td>Manufacture of food products, beverages and to...</td>\n",
       "      <td>AUS</td>\n",
       "      <td>r5</td>\n",
       "    </tr>\n",
       "    <tr>\n",
       "      <th>...</th>\n",
       "      <td>...</td>\n",
       "      <td>...</td>\n",
       "      <td>...</td>\n",
       "      <td>...</td>\n",
       "    </tr>\n",
       "    <tr>\n",
       "      <th>2467</th>\n",
       "      <td>PURR</td>\n",
       "      <td>Direct purchases abroad by residents</td>\n",
       "      <td>TOT</td>\n",
       "      <td>r68</td>\n",
       "    </tr>\n",
       "    <tr>\n",
       "      <th>2468</th>\n",
       "      <td>PURNR</td>\n",
       "      <td>Purchases on the domestic territory by non-res...</td>\n",
       "      <td>TOT</td>\n",
       "      <td>r69</td>\n",
       "    </tr>\n",
       "    <tr>\n",
       "      <th>2469</th>\n",
       "      <td>VA</td>\n",
       "      <td>Value added at basic prices</td>\n",
       "      <td>TOT</td>\n",
       "      <td>r70</td>\n",
       "    </tr>\n",
       "    <tr>\n",
       "      <th>2470</th>\n",
       "      <td>IntTTM</td>\n",
       "      <td>International Transport Margins</td>\n",
       "      <td>TOT</td>\n",
       "      <td>r71</td>\n",
       "    </tr>\n",
       "    <tr>\n",
       "      <th>2471</th>\n",
       "      <td>GO</td>\n",
       "      <td>Output at basic prices</td>\n",
       "      <td>TOT</td>\n",
       "      <td>r73</td>\n",
       "    </tr>\n",
       "  </tbody>\n",
       "</table>\n",
       "<p>2472 rows × 4 columns</p>\n",
       "</div>"
      ],
      "text/plain": [
       "     row_code                                             sector country  \\\n",
       "0         A01  Crop and animal production, hunting and relate...     AUS   \n",
       "1         A02                               Forestry and logging     AUS   \n",
       "2         A03                            Fishing and aquaculture     AUS   \n",
       "3           B                               Mining and quarrying     AUS   \n",
       "4     C10-C12  Manufacture of food products, beverages and to...     AUS   \n",
       "...       ...                                                ...     ...   \n",
       "2467     PURR               Direct purchases abroad by residents     TOT   \n",
       "2468    PURNR  Purchases on the domestic territory by non-res...     TOT   \n",
       "2469       VA                        Value added at basic prices     TOT   \n",
       "2470   IntTTM                    International Transport Margins     TOT   \n",
       "2471       GO                             Output at basic prices     TOT   \n",
       "\n",
       "     row_num  \n",
       "0         r1  \n",
       "1         r2  \n",
       "2         r3  \n",
       "3         r4  \n",
       "4         r5  \n",
       "...      ...  \n",
       "2467     r68  \n",
       "2468     r69  \n",
       "2469     r70  \n",
       "2470     r71  \n",
       "2471     r73  \n",
       "\n",
       "[2472 rows x 4 columns]"
      ]
     },
     "execution_count": 6,
     "metadata": {},
     "output_type": "execute_result"
    }
   ],
   "source": [
    "io_rows = pd.DataFrame(df_io.index.to_list(), columns=[\"row_code\", \"sector\", \"country\", \"row_num\"])\n",
    "io_rows"
   ]
  },
  {
   "cell_type": "code",
   "execution_count": 7,
   "id": "national-collective",
   "metadata": {},
   "outputs": [],
   "source": [
    "map_col_num_to_code = dict()\n",
    "for i in pd.DataFrame(io_cols.groupby([\"col_code\", \"sector\", \"col_num\"]))[0]:\n",
    "    map_col_num_to_code[i[2]] = [i[0], i[1]]\n",
    "# map_col_num_to_code"
   ]
  },
  {
   "cell_type": "code",
   "execution_count": 8,
   "id": "grand-motivation",
   "metadata": {},
   "outputs": [
    {
     "data": {
      "text/html": [
       "<div>\n",
       "<style scoped>\n",
       "    .dataframe tbody tr th:only-of-type {\n",
       "        vertical-align: middle;\n",
       "    }\n",
       "\n",
       "    .dataframe tbody tr th {\n",
       "        vertical-align: top;\n",
       "    }\n",
       "\n",
       "    .dataframe thead tr th {\n",
       "        text-align: left;\n",
       "    }\n",
       "</style>\n",
       "<table border=\"1\" class=\"dataframe\">\n",
       "  <thead>\n",
       "    <tr>\n",
       "      <th></th>\n",
       "      <th>col_code</th>\n",
       "      <th>col_name</th>\n",
       "    </tr>\n",
       "  </thead>\n",
       "  <tbody>\n",
       "    <tr>\n",
       "      <th>c53</th>\n",
       "      <td>Q</td>\n",
       "      <td>Human health and social work activities</td>\n",
       "    </tr>\n",
       "    <tr>\n",
       "      <th>c54</th>\n",
       "      <td>R_S</td>\n",
       "      <td>Other service activities</td>\n",
       "    </tr>\n",
       "    <tr>\n",
       "      <th>c55</th>\n",
       "      <td>T</td>\n",
       "      <td>Activities of households as employers; undiffe...</td>\n",
       "    </tr>\n",
       "    <tr>\n",
       "      <th>c56</th>\n",
       "      <td>U</td>\n",
       "      <td>Activities of extraterritorial organizations a...</td>\n",
       "    </tr>\n",
       "    <tr>\n",
       "      <th>c57</th>\n",
       "      <td>CONS_h</td>\n",
       "      <td>Final consumption expenditure by households</td>\n",
       "    </tr>\n",
       "    <tr>\n",
       "      <th>c58</th>\n",
       "      <td>CONS_np</td>\n",
       "      <td>Final consumption expenditure by non-profit or...</td>\n",
       "    </tr>\n",
       "    <tr>\n",
       "      <th>c59</th>\n",
       "      <td>CONS_g</td>\n",
       "      <td>Final consumption expenditure by government</td>\n",
       "    </tr>\n",
       "    <tr>\n",
       "      <th>c60</th>\n",
       "      <td>GFCF</td>\n",
       "      <td>Gross fixed capital formation</td>\n",
       "    </tr>\n",
       "    <tr>\n",
       "      <th>c61</th>\n",
       "      <td>INVEN</td>\n",
       "      <td>Changes in inventories and valuables</td>\n",
       "    </tr>\n",
       "    <tr>\n",
       "      <th>c62</th>\n",
       "      <td>GO</td>\n",
       "      <td>Total output</td>\n",
       "    </tr>\n",
       "  </tbody>\n",
       "</table>\n",
       "</div>"
      ],
      "text/plain": [
       "    col_code                                           col_name\n",
       "c53        Q            Human health and social work activities\n",
       "c54      R_S                           Other service activities\n",
       "c55        T  Activities of households as employers; undiffe...\n",
       "c56        U  Activities of extraterritorial organizations a...\n",
       "c57   CONS_h        Final consumption expenditure by households\n",
       "c58  CONS_np  Final consumption expenditure by non-profit or...\n",
       "c59   CONS_g        Final consumption expenditure by government\n",
       "c60     GFCF                      Gross fixed capital formation\n",
       "c61    INVEN               Changes in inventories and valuables\n",
       "c62       GO                                       Total output"
      ]
     },
     "execution_count": 8,
     "metadata": {},
     "output_type": "execute_result"
    }
   ],
   "source": [
    "df_col_num_to_code = pd.DataFrame(\n",
    "    map_col_num_to_code, index=[[\"col_code\", \"col_name\"]]\n",
    ").T\n",
    "df_col_num_to_code = df_col_num_to_code.loc[\n",
    "    sorted(df_col_num_to_code.index.to_list(), key=lambda x: int(x.partition(\"c\")[2]))\n",
    "]\n",
    "df_col_num_to_code.tail(10)"
   ]
  },
  {
   "cell_type": "code",
   "execution_count": 9,
   "id": "plastic-robinson",
   "metadata": {},
   "outputs": [],
   "source": [
    "map_row_num_to_code = dict()\n",
    "for i in pd.DataFrame(io_rows.groupby([\"row_code\", \"sector\", \"row_num\"]))[0]:\n",
    "    map_row_num_to_code[i[2]] = [i[0], i[1]]\n",
    "# map_row_num_to_code"
   ]
  },
  {
   "cell_type": "code",
   "execution_count": 10,
   "id": "endless-shield",
   "metadata": {},
   "outputs": [
    {
     "data": {
      "text/html": [
       "<div>\n",
       "<style scoped>\n",
       "    .dataframe tbody tr th:only-of-type {\n",
       "        vertical-align: middle;\n",
       "    }\n",
       "\n",
       "    .dataframe tbody tr th {\n",
       "        vertical-align: top;\n",
       "    }\n",
       "\n",
       "    .dataframe thead tr th {\n",
       "        text-align: left;\n",
       "    }\n",
       "</style>\n",
       "<table border=\"1\" class=\"dataframe\">\n",
       "  <thead>\n",
       "    <tr>\n",
       "      <th></th>\n",
       "      <th>row_code</th>\n",
       "      <th>row_name</th>\n",
       "    </tr>\n",
       "  </thead>\n",
       "  <tbody>\n",
       "    <tr>\n",
       "      <th>r55</th>\n",
       "      <td>T</td>\n",
       "      <td>Activities of households as employers; undiffe...</td>\n",
       "    </tr>\n",
       "    <tr>\n",
       "      <th>r56</th>\n",
       "      <td>U</td>\n",
       "      <td>Activities of extraterritorial organizations a...</td>\n",
       "    </tr>\n",
       "    <tr>\n",
       "      <th>r65</th>\n",
       "      <td>II_fob</td>\n",
       "      <td>Total intermediate consumption</td>\n",
       "    </tr>\n",
       "    <tr>\n",
       "      <th>r66</th>\n",
       "      <td>TXSP</td>\n",
       "      <td>taxes less subsidies on products</td>\n",
       "    </tr>\n",
       "    <tr>\n",
       "      <th>r67</th>\n",
       "      <td>EXP_adj</td>\n",
       "      <td>Cif/ fob adjustments on exports</td>\n",
       "    </tr>\n",
       "    <tr>\n",
       "      <th>r68</th>\n",
       "      <td>PURR</td>\n",
       "      <td>Direct purchases abroad by residents</td>\n",
       "    </tr>\n",
       "    <tr>\n",
       "      <th>r69</th>\n",
       "      <td>PURNR</td>\n",
       "      <td>Purchases on the domestic territory by non-res...</td>\n",
       "    </tr>\n",
       "    <tr>\n",
       "      <th>r70</th>\n",
       "      <td>VA</td>\n",
       "      <td>Value added at basic prices</td>\n",
       "    </tr>\n",
       "    <tr>\n",
       "      <th>r71</th>\n",
       "      <td>IntTTM</td>\n",
       "      <td>International Transport Margins</td>\n",
       "    </tr>\n",
       "    <tr>\n",
       "      <th>r73</th>\n",
       "      <td>GO</td>\n",
       "      <td>Output at basic prices</td>\n",
       "    </tr>\n",
       "  </tbody>\n",
       "</table>\n",
       "</div>"
      ],
      "text/plain": [
       "    row_code                                           row_name\n",
       "r55        T  Activities of households as employers; undiffe...\n",
       "r56        U  Activities of extraterritorial organizations a...\n",
       "r65   II_fob                     Total intermediate consumption\n",
       "r66     TXSP                   taxes less subsidies on products\n",
       "r67  EXP_adj                    Cif/ fob adjustments on exports\n",
       "r68     PURR               Direct purchases abroad by residents\n",
       "r69    PURNR  Purchases on the domestic territory by non-res...\n",
       "r70       VA                        Value added at basic prices\n",
       "r71   IntTTM                    International Transport Margins\n",
       "r73       GO                             Output at basic prices"
      ]
     },
     "execution_count": 10,
     "metadata": {},
     "output_type": "execute_result"
    }
   ],
   "source": [
    "df_row_num_to_code = pd.DataFrame(\n",
    "    map_row_num_to_code, index=[[\"row_code\", \"row_name\"]]\n",
    ").T\n",
    "df_row_num_to_code = df_row_num_to_code.loc[\n",
    "    sorted(df_row_num_to_code.index.to_list(), key=lambda x: int(x.partition(\"r\")[2]))\n",
    "]\n",
    "df_row_num_to_code.tail(10)"
   ]
  },
  {
   "cell_type": "code",
   "execution_count": 11,
   "id": "interesting-empty",
   "metadata": {},
   "outputs": [],
   "source": [
    "# io_rows[~io_rows.row_code.isin(io_cols.col_code)]"
   ]
  },
  {
   "cell_type": "code",
   "execution_count": 12,
   "id": "improving-caution",
   "metadata": {},
   "outputs": [],
   "source": [
    "# io_cols[~io_cols.col_code.isin(io_rows.row_code)]\n",
    "# pd.DataFrame(io_cols[~io_cols.col_code.isin(io_rows.row_code)].groupby(by=\"col_code\"))"
   ]
  },
  {
   "cell_type": "code",
   "execution_count": 13,
   "id": "violent-lemon",
   "metadata": {},
   "outputs": [
    {
     "data": {
      "text/plain": [
       "64"
      ]
     },
     "execution_count": 13,
     "metadata": {},
     "output_type": "execute_result"
    }
   ],
   "source": [
    "len(map_row_num_to_code)"
   ]
  },
  {
   "cell_type": "code",
   "execution_count": 14,
   "id": "injured-avatar",
   "metadata": {},
   "outputs": [
    {
     "data": {
      "text/plain": [
       "62"
      ]
     },
     "execution_count": 14,
     "metadata": {},
     "output_type": "execute_result"
    }
   ],
   "source": [
    "len(map_col_num_to_code)"
   ]
  },
  {
   "cell_type": "code",
   "execution_count": 15,
   "id": "pressing-bennett",
   "metadata": {},
   "outputs": [],
   "source": [
    "# Aggregate columns by col_num and rows by row_num\n",
    "# This will create a GLO IO table industry-by-industry\n",
    "df_io_GLO_raw = df_io.groupby(axis=1, level=3).sum().groupby(axis=0, level=3).sum()\n",
    "\n",
    "# sort columns/rows by col_num/row_num in ascending order\n",
    "df_io_GLO_raw = df_io_GLO_raw.loc[\n",
    "    sorted(df_io_GLO_raw.index.to_list(), key=lambda x: int(x.partition(\"r\")[2])),\n",
    "    sorted(df_io_GLO_raw.columns.to_list(), key=lambda x: int(x.partition(\"c\")[2])),\n",
    "]\n",
    "# df_io_GLO_raw\n",
    "\n",
    "# aggregated IO table with names of sectors\n",
    "df_io_GLO_name = df_io_GLO_raw.rename(index = {k:v[1] for k,v in map_row_num_to_code.items()},\n",
    "                     columns = {k:v[1] for k,v in map_col_num_to_code.items()})\n",
    "\n",
    "# aggregated IO table with codes of sectors\n",
    "df_io_GLO_code = df_io_GLO_raw.rename(index = {k:v[0] for k,v in map_row_num_to_code.items()},\n",
    "                     columns = {k:v[0] for k,v in map_col_num_to_code.items()})"
   ]
  },
  {
   "cell_type": "code",
   "execution_count": 16,
   "id": "regulated-fishing",
   "metadata": {},
   "outputs": [],
   "source": [
    "# matrix T of domestic transactions\n",
    "df_T = df_io_GLO_raw.loc[\n",
    "    df_io_GLO_raw.index[\n",
    "        ~df_io_GLO_raw.index.isin([\"r65\", \"r66\", \"r67\", \"r68\", \"r69\", \"r70\", \"r71\", \"r73\"])\n",
    "    ],    \n",
    "    df_io_GLO_raw.columns[\n",
    "        ~df_io_GLO_raw.columns.isin([\"c57\", \"c58\", \"c59\", \"c60\", \"c61\", \"c62\"])\n",
    "    ],\n",
    "]"
   ]
  },
  {
   "cell_type": "code",
   "execution_count": 17,
   "id": "expected-smell",
   "metadata": {},
   "outputs": [],
   "source": [
    "# matrix Y of Final Demands\n",
    "df_FDs = df_io_GLO_raw.loc[\n",
    "    df_io_GLO_raw.index[\n",
    "        ~df_io_GLO_raw.index.isin([\"r65\", \"r66\", \"r67\", \"r68\", \"r69\", \"r70\", \"r71\", \"r73\"])\n",
    "    ],    \n",
    "    df_io_GLO_raw.columns[\n",
    "        df_io_GLO_raw.columns.isin([\"c57\", \"c58\", \"c59\", \"c60\", \"c61\"]) # , \"c62\"\n",
    "    ],\n",
    "]\n",
    "df_Y_temp = df_FDs.sum(axis=1) # aggregate all Final demands in one vector-column\n",
    "df_Y = pd.DataFrame(df_Y_temp, columns=[\"Y\"])"
   ]
  },
  {
   "cell_type": "code",
   "execution_count": 18,
   "id": "prerequisite-guinea",
   "metadata": {},
   "outputs": [],
   "source": [
    "# matrix X of gross output\n",
    "df_X = df_io_GLO_raw.loc[\n",
    "    df_io_GLO_raw.index[\n",
    "        ~df_io_GLO_raw.index.isin([\"r65\", \"r66\", \"r67\", \"r68\", \"r69\", \"r70\", \"r71\", \"r73\"])\n",
    "    ],    \n",
    "    df_io_GLO_raw.columns[\n",
    "        df_io_GLO_raw.columns.isin([\"c62\"])\n",
    "    ],\n",
    "]\n",
    "# df_X"
   ]
  },
  {
   "cell_type": "code",
   "execution_count": 19,
   "id": "monetary-beast",
   "metadata": {},
   "outputs": [],
   "source": [
    "# vector VA of value added\n",
    "df_VA = df_io_GLO_raw.loc[\n",
    "    df_io_GLO_raw.index[\n",
    "        df_io_GLO_raw.index.isin([\"r70\"])\n",
    "    ],    \n",
    "    df_io_GLO_raw.columns[\n",
    "        ~df_io_GLO_raw.columns.isin([\"c57\", \"c58\", \"c59\", \"c60\", \"c61\", \"c62\"])\n",
    "    ],\n",
    "] \n",
    "# df_VA"
   ]
  },
  {
   "cell_type": "code",
   "execution_count": 20,
   "id": "fewer-consortium",
   "metadata": {},
   "outputs": [],
   "source": [
    "# total GLO value added at basic prices\n",
    "totGVA = df_VA.sum(axis=1)"
   ]
  },
  {
   "cell_type": "code",
   "execution_count": 21,
   "id": "great-amendment",
   "metadata": {},
   "outputs": [],
   "source": [
    "# share allocated to a sector : VAsector/totVA\n",
    "df_share_sectors = df_VA.div(totGVA[0])"
   ]
  },
  {
   "cell_type": "code",
   "execution_count": 22,
   "id": "backed-daniel",
   "metadata": {},
   "outputs": [],
   "source": [
    "# map_col_num_to_code[\"c11\"]"
   ]
  },
  {
   "cell_type": "code",
   "execution_count": 23,
   "id": "coordinated-equipment",
   "metadata": {},
   "outputs": [
    {
     "data": {
      "text/plain": [
       "col_code                                                C20\n",
       "col_name    Manufacture of chemicals and chemical products \n",
       "Name: c11, dtype: object"
      ]
     },
     "execution_count": 23,
     "metadata": {},
     "output_type": "execute_result"
    }
   ],
   "source": [
    "df_col_num_to_code.loc[\"c11\"]"
   ]
  },
  {
   "cell_type": "code",
   "execution_count": 24,
   "id": "tamil-dictionary",
   "metadata": {},
   "outputs": [
    {
     "data": {
      "text/html": [
       "<div>\n",
       "<style scoped>\n",
       "    .dataframe tbody tr th:only-of-type {\n",
       "        vertical-align: middle;\n",
       "    }\n",
       "\n",
       "    .dataframe tbody tr th {\n",
       "        vertical-align: top;\n",
       "    }\n",
       "\n",
       "    .dataframe thead tr th {\n",
       "        text-align: left;\n",
       "    }\n",
       "</style>\n",
       "<table border=\"1\" class=\"dataframe\">\n",
       "  <thead>\n",
       "    <tr>\n",
       "      <th></th>\n",
       "      <th>col_code</th>\n",
       "      <th>col_name</th>\n",
       "    </tr>\n",
       "  </thead>\n",
       "  <tbody>\n",
       "    <tr>\n",
       "      <th>c10</th>\n",
       "      <td>C19</td>\n",
       "      <td>Manufacture of coke and refined petroleum prod...</td>\n",
       "    </tr>\n",
       "    <tr>\n",
       "      <th>c11</th>\n",
       "      <td>C20</td>\n",
       "      <td>Manufacture of chemicals and chemical products</td>\n",
       "    </tr>\n",
       "    <tr>\n",
       "      <th>c12</th>\n",
       "      <td>C21</td>\n",
       "      <td>Manufacture of basic pharmaceutical products a...</td>\n",
       "    </tr>\n",
       "    <tr>\n",
       "      <th>c13</th>\n",
       "      <td>C22</td>\n",
       "      <td>Manufacture of rubber and plastic products</td>\n",
       "    </tr>\n",
       "  </tbody>\n",
       "</table>\n",
       "</div>"
      ],
      "text/plain": [
       "    col_code                                           col_name\n",
       "c10      C19  Manufacture of coke and refined petroleum prod...\n",
       "c11      C20    Manufacture of chemicals and chemical products \n",
       "c12      C21  Manufacture of basic pharmaceutical products a...\n",
       "c13      C22         Manufacture of rubber and plastic products"
      ]
     },
     "execution_count": 24,
     "metadata": {},
     "output_type": "execute_result"
    }
   ],
   "source": [
    "list_sectors = [\"c10\", \"c11\", \"c12\", \"c13\"]  # sectors to include?\n",
    "df_col_num_to_code.loc[list_sectors]"
   ]
  },
  {
   "cell_type": "code",
   "execution_count": 25,
   "id": "incident-nickel",
   "metadata": {},
   "outputs": [
    {
     "data": {
      "text/html": [
       "<div>\n",
       "<style scoped>\n",
       "    .dataframe tbody tr th:only-of-type {\n",
       "        vertical-align: middle;\n",
       "    }\n",
       "\n",
       "    .dataframe tbody tr th {\n",
       "        vertical-align: top;\n",
       "    }\n",
       "\n",
       "    .dataframe thead tr th {\n",
       "        text-align: left;\n",
       "    }\n",
       "</style>\n",
       "<table border=\"1\" class=\"dataframe\">\n",
       "  <thead>\n",
       "    <tr>\n",
       "      <th></th>\n",
       "      <th>row_code</th>\n",
       "      <th>row_name</th>\n",
       "    </tr>\n",
       "  </thead>\n",
       "  <tbody>\n",
       "    <tr>\n",
       "      <th>r10</th>\n",
       "      <td>C19</td>\n",
       "      <td>Manufacture of coke and refined petroleum prod...</td>\n",
       "    </tr>\n",
       "    <tr>\n",
       "      <th>r11</th>\n",
       "      <td>C20</td>\n",
       "      <td>Manufacture of chemicals and chemical products</td>\n",
       "    </tr>\n",
       "    <tr>\n",
       "      <th>r12</th>\n",
       "      <td>C21</td>\n",
       "      <td>Manufacture of basic pharmaceutical products a...</td>\n",
       "    </tr>\n",
       "    <tr>\n",
       "      <th>r13</th>\n",
       "      <td>C22</td>\n",
       "      <td>Manufacture of rubber and plastic products</td>\n",
       "    </tr>\n",
       "  </tbody>\n",
       "</table>\n",
       "</div>"
      ],
      "text/plain": [
       "    row_code                                           row_name\n",
       "r10      C19  Manufacture of coke and refined petroleum prod...\n",
       "r11      C20    Manufacture of chemicals and chemical products \n",
       "r12      C21  Manufacture of basic pharmaceutical products a...\n",
       "r13      C22         Manufacture of rubber and plastic products"
      ]
     },
     "execution_count": 25,
     "metadata": {},
     "output_type": "execute_result"
    }
   ],
   "source": [
    "list_sectors_rows = [\"r10\", \"r11\", \"r12\", \"r13\"]  # sectors to include?\n",
    "df_row_num_to_code.loc[list_sectors_rows]"
   ]
  },
  {
   "cell_type": "markdown",
   "id": "formed-andorra",
   "metadata": {},
   "source": [
    "## Gonzalo's calculations"
   ]
  },
  {
   "cell_type": "code",
   "execution_count": 26,
   "id": "convinced-eating",
   "metadata": {},
   "outputs": [],
   "source": [
    "# df_T[list_sectors].sum(axis=1)"
   ]
  },
  {
   "cell_type": "code",
   "execution_count": 27,
   "id": "minimal-three",
   "metadata": {},
   "outputs": [
    {
     "data": {
      "text/html": [
       "<div>\n",
       "<style scoped>\n",
       "    .dataframe tbody tr th:only-of-type {\n",
       "        vertical-align: middle;\n",
       "    }\n",
       "\n",
       "    .dataframe tbody tr th {\n",
       "        vertical-align: top;\n",
       "    }\n",
       "\n",
       "    .dataframe thead th {\n",
       "        text-align: right;\n",
       "    }\n",
       "</style>\n",
       "<table border=\"1\" class=\"dataframe\">\n",
       "  <thead>\n",
       "    <tr style=\"text-align: right;\">\n",
       "      <th></th>\n",
       "      <th>c1</th>\n",
       "      <th>c2</th>\n",
       "      <th>c3</th>\n",
       "      <th>c4</th>\n",
       "      <th>c5</th>\n",
       "      <th>c6</th>\n",
       "      <th>c7</th>\n",
       "      <th>c8</th>\n",
       "      <th>c9</th>\n",
       "      <th>c10</th>\n",
       "      <th>...</th>\n",
       "      <th>c47</th>\n",
       "      <th>c48</th>\n",
       "      <th>c49</th>\n",
       "      <th>c50</th>\n",
       "      <th>c51</th>\n",
       "      <th>c52</th>\n",
       "      <th>c53</th>\n",
       "      <th>c54</th>\n",
       "      <th>c55</th>\n",
       "      <th>c56</th>\n",
       "    </tr>\n",
       "  </thead>\n",
       "  <tbody>\n",
       "    <tr>\n",
       "      <th>delta_share</th>\n",
       "      <td>0.000301</td>\n",
       "      <td>0.000092</td>\n",
       "      <td>0.000004</td>\n",
       "      <td>0.001727</td>\n",
       "      <td>0.000333</td>\n",
       "      <td>0.000068</td>\n",
       "      <td>0.000024</td>\n",
       "      <td>0.000083</td>\n",
       "      <td>0.00003</td>\n",
       "      <td>0.000721</td>\n",
       "      <td>...</td>\n",
       "      <td>0.000064</td>\n",
       "      <td>0.000068</td>\n",
       "      <td>0.000139</td>\n",
       "      <td>0.000246</td>\n",
       "      <td>0.000102</td>\n",
       "      <td>0.000026</td>\n",
       "      <td>0.000012</td>\n",
       "      <td>0.000097</td>\n",
       "      <td>0.000007</td>\n",
       "      <td>0.0</td>\n",
       "    </tr>\n",
       "  </tbody>\n",
       "</table>\n",
       "<p>1 rows × 56 columns</p>\n",
       "</div>"
      ],
      "text/plain": [
       "                   c1        c2        c3        c4        c5        c6  \\\n",
       "delta_share  0.000301  0.000092  0.000004  0.001727  0.000333  0.000068   \n",
       "\n",
       "                   c7        c8       c9       c10  ...       c47       c48  \\\n",
       "delta_share  0.000024  0.000083  0.00003  0.000721  ...  0.000064  0.000068   \n",
       "\n",
       "                  c49       c50       c51       c52       c53       c54  \\\n",
       "delta_share  0.000139  0.000246  0.000102  0.000026  0.000012  0.000097   \n",
       "\n",
       "                  c55  c56  \n",
       "delta_share  0.000007  0.0  \n",
       "\n",
       "[1 rows x 56 columns]"
      ]
     },
     "execution_count": 27,
     "metadata": {},
     "output_type": "execute_result"
    }
   ],
   "source": [
    "# fraction of what each sector gives to sector c11 relative to the total output\n",
    "frac_spr_to_s = pd.DataFrame(df_T[\"c11\"].to_numpy()/df_X.iloc[:,0].to_numpy().T, index=df_T.index, columns=[\"s_out_per_X\"])\n",
    "# frac_spr_to_s\n",
    "\n",
    "delta_share_spr_to_s = pd.DataFrame(\n",
    "    df_share_sectors.to_numpy() * frac_spr_to_s.to_numpy().T,\n",
    "    index=[\"delta_share\"],\n",
    "    columns=df_share_sectors.columns,\n",
    ")\n",
    "delta_share_spr_to_s[\"c11\"] = 0 # sector doesn't give a share to itself\n",
    "delta_share_spr_to_s"
   ]
  },
  {
   "cell_type": "code",
   "execution_count": 28,
   "id": "detected-suggestion",
   "metadata": {},
   "outputs": [
    {
     "name": "stdout",
     "output_type": "stream",
     "text": [
      "direct share = 0.013149552186725817\n",
      "deltashare =  0.010539745448773237\n"
     ]
    },
    {
     "data": {
      "text/plain": [
       "r70    0.023689\n",
       "Name: c11, dtype: float64"
      ]
     },
     "execution_count": 28,
     "metadata": {},
     "output_type": "execute_result"
    }
   ],
   "source": [
    "print(\"direct share =\",df_share_sectors[\"c11\"][0]) \n",
    "print(\"deltashare = \",delta_share_spr_to_s.sum(axis=1)[0])\n",
    "share_c11 =  df_share_sectors[\"c11\"] + delta_share_spr_to_s.sum(axis=1)[0]\n",
    "share_c11"
   ]
  },
  {
   "cell_type": "markdown",
   "id": "statewide-print",
   "metadata": {
    "tags": []
   },
   "source": [
    "#### aggregated sectors c10-13"
   ]
  },
  {
   "cell_type": "code",
   "execution_count": 29,
   "id": "unlikely-looking",
   "metadata": {},
   "outputs": [],
   "source": [
    "# df_io_GLO_raw.loc[list_sectors_rows].sum(axis=0)"
   ]
  },
  {
   "cell_type": "code",
   "execution_count": 30,
   "id": "double-majority",
   "metadata": {},
   "outputs": [],
   "source": [
    "df_io_GLO_raw_aggsectors = df_io_GLO_raw.copy()\n",
    "df_io_GLO_raw_aggsectors[\"c10-13\"] = df_io_GLO_raw_aggsectors[list_sectors].sum(axis=1)\n",
    "df_io_GLO_raw_aggsectors.loc[\"r10-13\"] = df_io_GLO_raw_aggsectors.loc[\n",
    "    list_sectors_rows\n",
    "].sum(axis=0)\n",
    "df_io_GLO_raw_aggsectors.drop(list_sectors, axis=1, inplace=True)\n",
    "df_io_GLO_raw_aggsectors.drop(list_sectors_rows, axis=0, inplace=True)\n",
    "df_io_GLO_raw_aggsectors.rename(columns={\"c10-13\": \"c10\"}, inplace=True)\n",
    "df_io_GLO_raw_aggsectors.rename(index={\"r10-13\": \"r10\"}, inplace=True)\n",
    "\n",
    "df_io_GLO_raw_aggsectors = df_io_GLO_raw_aggsectors.loc[\n",
    "    sorted(df_io_GLO_raw_aggsectors.index.to_list(), key=lambda x: int(x.partition(\"r\")[2])),\n",
    "    sorted(df_io_GLO_raw_aggsectors.columns.to_list(), key=lambda x: int(x.partition(\"c\")[2])),]\n",
    "# df_io_GLO_raw_aggsectors"
   ]
  },
  {
   "cell_type": "code",
   "execution_count": 31,
   "id": "second-oxygen",
   "metadata": {},
   "outputs": [],
   "source": [
    "df_T_aggsectors = df_io_GLO_raw_aggsectors.loc[\n",
    "    df_io_GLO_raw_aggsectors.index[\n",
    "        ~df_io_GLO_raw_aggsectors.index.isin([\"r65\", \"r66\", \"r67\", \"r68\", \"r69\", \"r70\", \"r71\", \"r73\"])\n",
    "    ],    \n",
    "    df_io_GLO_raw_aggsectors.columns[\n",
    "        ~df_io_GLO_raw_aggsectors.columns.isin([\"c57\", \"c58\", \"c59\", \"c60\", \"c61\", \"c62\"])\n",
    "    ],\n",
    "]\n",
    "# df_T_aggsectors"
   ]
  },
  {
   "cell_type": "code",
   "execution_count": 32,
   "id": "general-spencer",
   "metadata": {},
   "outputs": [
    {
     "data": {
      "text/plain": [
       "c62    1.112437e+07\n",
       "dtype: float64"
      ]
     },
     "execution_count": 32,
     "metadata": {},
     "output_type": "execute_result"
    }
   ],
   "source": [
    "# check...\n",
    "df_X.loc[list_sectors_rows].sum(axis=0)"
   ]
  },
  {
   "cell_type": "code",
   "execution_count": 33,
   "id": "oriented-macintosh",
   "metadata": {},
   "outputs": [],
   "source": [
    "df_X_aggsectors = df_io_GLO_raw_aggsectors.loc[\n",
    "    df_io_GLO_raw_aggsectors.index[\n",
    "        ~df_io_GLO_raw_aggsectors.index.isin([\"r65\", \"r66\", \"r67\", \"r68\", \"r69\", \"r70\", \"r71\", \"r73\"])\n",
    "    ],    \n",
    "    df_io_GLO_raw_aggsectors.columns[\n",
    "        df_io_GLO_raw_aggsectors.columns.isin([\"c62\"])\n",
    "    ],\n",
    "]\n",
    "# df_X_aggsectors #.loc[\"r10\"]"
   ]
  },
  {
   "cell_type": "code",
   "execution_count": 34,
   "id": "sealed-chapel",
   "metadata": {},
   "outputs": [
    {
     "data": {
      "text/plain": [
       "r70    2.434652e+06\n",
       "dtype: float64"
      ]
     },
     "execution_count": 34,
     "metadata": {},
     "output_type": "execute_result"
    }
   ],
   "source": [
    "# check...\n",
    "df_VA[list_sectors].sum(axis=1)"
   ]
  },
  {
   "cell_type": "code",
   "execution_count": 35,
   "id": "lonely-convert",
   "metadata": {},
   "outputs": [],
   "source": [
    "# vector VA of value added\n",
    "df_VA_aggsectors = df_io_GLO_raw_aggsectors.loc[\n",
    "    df_io_GLO_raw_aggsectors.index[\n",
    "        df_io_GLO_raw_aggsectors.index.isin([\"r70\"])\n",
    "    ],    \n",
    "    df_io_GLO_raw_aggsectors.columns[\n",
    "        ~df_io_GLO_raw_aggsectors.columns.isin([\"c57\", \"c58\", \"c59\", \"c60\", \"c61\", \"c62\"])\n",
    "    ],\n",
    "] \n",
    "# df_VA_aggsectors # [\"c10\"]"
   ]
  },
  {
   "cell_type": "code",
   "execution_count": 36,
   "id": "established-program",
   "metadata": {},
   "outputs": [
    {
     "data": {
      "text/plain": [
       "r70    0.032987\n",
       "dtype: float64"
      ]
     },
     "execution_count": 36,
     "metadata": {},
     "output_type": "execute_result"
    }
   ],
   "source": [
    "df_share_sectors[list_sectors].sum(axis=1)"
   ]
  },
  {
   "cell_type": "code",
   "execution_count": 37,
   "id": "organic-runner",
   "metadata": {},
   "outputs": [],
   "source": [
    "totGVA_aggsectors = df_VA_aggsectors.sum(axis=1)\n",
    "df_share_sectors_aggsectors = df_VA_aggsectors.div(totGVA_aggsectors[0])\n",
    "# df_share_sectors_aggsectors # [\"c10\"]"
   ]
  },
  {
   "cell_type": "code",
   "execution_count": 38,
   "id": "round-guide",
   "metadata": {},
   "outputs": [
    {
     "data": {
      "text/html": [
       "<div>\n",
       "<style scoped>\n",
       "    .dataframe tbody tr th:only-of-type {\n",
       "        vertical-align: middle;\n",
       "    }\n",
       "\n",
       "    .dataframe tbody tr th {\n",
       "        vertical-align: top;\n",
       "    }\n",
       "\n",
       "    .dataframe thead th {\n",
       "        text-align: right;\n",
       "    }\n",
       "</style>\n",
       "<table border=\"1\" class=\"dataframe\">\n",
       "  <thead>\n",
       "    <tr style=\"text-align: right;\">\n",
       "      <th></th>\n",
       "      <th>c1</th>\n",
       "      <th>c2</th>\n",
       "      <th>c3</th>\n",
       "      <th>c4</th>\n",
       "      <th>c5</th>\n",
       "      <th>c6</th>\n",
       "      <th>c7</th>\n",
       "      <th>c8</th>\n",
       "      <th>c9</th>\n",
       "      <th>c10</th>\n",
       "      <th>...</th>\n",
       "      <th>c47</th>\n",
       "      <th>c48</th>\n",
       "      <th>c49</th>\n",
       "      <th>c50</th>\n",
       "      <th>c51</th>\n",
       "      <th>c52</th>\n",
       "      <th>c53</th>\n",
       "      <th>c54</th>\n",
       "      <th>c55</th>\n",
       "      <th>c56</th>\n",
       "    </tr>\n",
       "  </thead>\n",
       "  <tbody>\n",
       "    <tr>\n",
       "      <th>delta_share</th>\n",
       "      <td>0.00107</td>\n",
       "      <td>0.000272</td>\n",
       "      <td>0.000014</td>\n",
       "      <td>0.017738</td>\n",
       "      <td>0.000505</td>\n",
       "      <td>0.000244</td>\n",
       "      <td>0.000057</td>\n",
       "      <td>0.000181</td>\n",
       "      <td>0.000064</td>\n",
       "      <td>0</td>\n",
       "      <td>...</td>\n",
       "      <td>0.000158</td>\n",
       "      <td>0.000151</td>\n",
       "      <td>0.000234</td>\n",
       "      <td>0.000721</td>\n",
       "      <td>0.000301</td>\n",
       "      <td>0.000068</td>\n",
       "      <td>0.000039</td>\n",
       "      <td>0.000238</td>\n",
       "      <td>0.000024</td>\n",
       "      <td>0.0</td>\n",
       "    </tr>\n",
       "  </tbody>\n",
       "</table>\n",
       "<p>1 rows × 53 columns</p>\n",
       "</div>"
      ],
      "text/plain": [
       "                  c1        c2        c3        c4        c5        c6  \\\n",
       "delta_share  0.00107  0.000272  0.000014  0.017738  0.000505  0.000244   \n",
       "\n",
       "                   c7        c8        c9  c10  ...       c47       c48  \\\n",
       "delta_share  0.000057  0.000181  0.000064    0  ...  0.000158  0.000151   \n",
       "\n",
       "                  c49       c50       c51       c52       c53       c54  \\\n",
       "delta_share  0.000234  0.000721  0.000301  0.000068  0.000039  0.000238   \n",
       "\n",
       "                  c55  c56  \n",
       "delta_share  0.000024  0.0  \n",
       "\n",
       "[1 rows x 53 columns]"
      ]
     },
     "execution_count": 38,
     "metadata": {},
     "output_type": "execute_result"
    }
   ],
   "source": [
    "# fraction of what each sector gives to sector c11 relative to the total output\n",
    "frac_spr_to_s_aggsectors = pd.DataFrame(\n",
    "    df_T_aggsectors[\"c10\"].to_numpy() / df_X_aggsectors.iloc[:, 0].to_numpy().T,\n",
    "    index=df_T_aggsectors.index,\n",
    "    columns=[\"s_out_per_X\"],\n",
    ")\n",
    "# frac_spr_to_s\n",
    "\n",
    "delta_share_spr_to_s_aggsectors = pd.DataFrame(\n",
    "    df_share_sectors_aggsectors.to_numpy() * frac_spr_to_s_aggsectors.to_numpy().T,\n",
    "    index=[\"delta_share\"],\n",
    "    columns=df_share_sectors_aggsectors.columns,\n",
    ")\n",
    "delta_share_spr_to_s_aggsectors[\"c10\"] = 0  # sector doesn't give a share to itself\n",
    "delta_share_spr_to_s_aggsectors"
   ]
  },
  {
   "cell_type": "code",
   "execution_count": 39,
   "id": "removable-aquarium",
   "metadata": {},
   "outputs": [
    {
     "name": "stdout",
     "output_type": "stream",
     "text": [
      "direct share = 0.032986778612954\n",
      "deltashare =  0.035932132523727706\n"
     ]
    },
    {
     "data": {
      "text/plain": [
       "r70    0.068919\n",
       "Name: c10, dtype: float64"
      ]
     },
     "execution_count": 39,
     "metadata": {},
     "output_type": "execute_result"
    }
   ],
   "source": [
    "print(\"direct share =\", df_share_sectors_aggsectors[\"c10\"][0])\n",
    "print(\"deltashare = \", delta_share_spr_to_s_aggsectors.sum(axis=1)[0])\n",
    "share_aggsectors =  df_share_sectors_aggsectors[\"c10\"] + delta_share_spr_to_s_aggsectors.sum(axis=1)[0]\n",
    "share_aggsectors"
   ]
  },
  {
   "cell_type": "markdown",
   "id": "applied-queensland",
   "metadata": {},
   "source": [
    "## Calculations using L inverse"
   ]
  },
  {
   "cell_type": "code",
   "execution_count": 40,
   "id": "casual-laptop",
   "metadata": {},
   "outputs": [
    {
     "data": {
      "text/plain": [
       "array([1., 1., 1., 1., 1., 1., 1., 1., 1., 1., 1., 1., 1., 1., 1., 1., 1.,\n",
       "       1., 1., 1., 1., 1., 1., 1., 1., 1., 1., 1., 1., 1., 1., 1., 1., 1.,\n",
       "       1., 1., 1., 1., 1., 1., 1., 1., 1., 1., 1., 1., 1., 1., 1., 1., 1.,\n",
       "       1., 1., 1., 1., 1.])"
      ]
     },
     "execution_count": 40,
     "metadata": {},
     "output_type": "execute_result"
    }
   ],
   "source": [
    "# check that T + Y = X\n",
    "a = df_T.sum(axis=1) + df_Y.sum(axis=1)\n",
    "a.to_numpy()/df_X.to_numpy().T[0]"
   ]
  },
  {
   "cell_type": "code",
   "execution_count": 41,
   "id": "double-rwanda",
   "metadata": {},
   "outputs": [],
   "source": [
    "# diagonalize X\n",
    "diagX_raw = np.diag(df_X.to_numpy().T[0])\n",
    "diagX = np.where(diagX_raw==0, 1e-100, diagX_raw) # small non-zero values, to be able to invert this matrix"
   ]
  },
  {
   "cell_type": "code",
   "execution_count": 42,
   "id": "numerical-racing",
   "metadata": {},
   "outputs": [],
   "source": [
    "#calculate technical coefficients A\n",
    "df_A = pd.DataFrame(df_T.to_numpy() @ np.linalg.inv(diagX), index=df_T.index, columns=df_T.columns)"
   ]
  },
  {
   "cell_type": "code",
   "execution_count": 43,
   "id": "automatic-leadership",
   "metadata": {},
   "outputs": [],
   "source": [
    "# calculate Leontief's inverse matrix\n",
    "IminusA = np.eye(df_A.shape[0]) - df_A\n",
    "df_L = pd.DataFrame(np.linalg.inv(IminusA.to_numpy()), index=df_A.index, columns=df_A.columns)\n",
    "# df_L"
   ]
  },
  {
   "cell_type": "code",
   "execution_count": 44,
   "id": "norman-couple",
   "metadata": {},
   "outputs": [
    {
     "data": {
      "text/html": [
       "<div>\n",
       "<style scoped>\n",
       "    .dataframe tbody tr th:only-of-type {\n",
       "        vertical-align: middle;\n",
       "    }\n",
       "\n",
       "    .dataframe tbody tr th {\n",
       "        vertical-align: top;\n",
       "    }\n",
       "\n",
       "    .dataframe thead th {\n",
       "        text-align: right;\n",
       "    }\n",
       "</style>\n",
       "<table border=\"1\" class=\"dataframe\">\n",
       "  <thead>\n",
       "    <tr style=\"text-align: right;\">\n",
       "      <th></th>\n",
       "      <th>c1</th>\n",
       "      <th>c2</th>\n",
       "      <th>c3</th>\n",
       "      <th>c4</th>\n",
       "      <th>c5</th>\n",
       "      <th>c6</th>\n",
       "      <th>c7</th>\n",
       "      <th>c8</th>\n",
       "      <th>c9</th>\n",
       "      <th>c10</th>\n",
       "      <th>...</th>\n",
       "      <th>c47</th>\n",
       "      <th>c48</th>\n",
       "      <th>c49</th>\n",
       "      <th>c50</th>\n",
       "      <th>c51</th>\n",
       "      <th>c52</th>\n",
       "      <th>c53</th>\n",
       "      <th>c54</th>\n",
       "      <th>c55</th>\n",
       "      <th>c56</th>\n",
       "    </tr>\n",
       "  </thead>\n",
       "  <tbody>\n",
       "    <tr>\n",
       "      <th>share_intensity</th>\n",
       "      <td>7.795328e-09</td>\n",
       "      <td>7.584964e-09</td>\n",
       "      <td>8.460434e-09</td>\n",
       "      <td>7.597454e-09</td>\n",
       "      <td>3.347104e-09</td>\n",
       "      <td>3.243496e-09</td>\n",
       "      <td>3.659740e-09</td>\n",
       "      <td>3.496974e-09</td>\n",
       "      <td>5.156045e-09</td>\n",
       "      <td>1.940033e-09</td>\n",
       "      <td>...</td>\n",
       "      <td>7.238760e-09</td>\n",
       "      <td>5.983232e-09</td>\n",
       "      <td>7.505347e-09</td>\n",
       "      <td>8.314519e-09</td>\n",
       "      <td>8.826940e-09</td>\n",
       "      <td>9.602517e-09</td>\n",
       "      <td>7.838411e-09</td>\n",
       "      <td>7.579834e-09</td>\n",
       "      <td>1.049042e-08</td>\n",
       "      <td>2.135453e-09</td>\n",
       "    </tr>\n",
       "  </tbody>\n",
       "</table>\n",
       "<p>1 rows × 56 columns</p>\n",
       "</div>"
      ],
      "text/plain": [
       "                           c1            c2            c3            c4  \\\n",
       "share_intensity  7.795328e-09  7.584964e-09  8.460434e-09  7.597454e-09   \n",
       "\n",
       "                           c5            c6            c7            c8  \\\n",
       "share_intensity  3.347104e-09  3.243496e-09  3.659740e-09  3.496974e-09   \n",
       "\n",
       "                           c9           c10  ...           c47           c48  \\\n",
       "share_intensity  5.156045e-09  1.940033e-09  ...  7.238760e-09  5.983232e-09   \n",
       "\n",
       "                          c49           c50           c51           c52  \\\n",
       "share_intensity  7.505347e-09  8.314519e-09  8.826940e-09  9.602517e-09   \n",
       "\n",
       "                          c53           c54           c55           c56  \n",
       "share_intensity  7.838411e-09  7.579834e-09  1.049042e-08  2.135453e-09  \n",
       "\n",
       "[1 rows x 56 columns]"
      ]
     },
     "execution_count": 44,
     "metadata": {},
     "output_type": "execute_result"
    }
   ],
   "source": [
    "# alternative method!\n",
    "\n",
    "# share intensities : df_share_sectors / X\n",
    "share_intensity = pd.DataFrame(\n",
    "    df_share_sectors.iloc[0, :].to_numpy() / df_X.iloc[:, 0].to_numpy(),\n",
    "    index=df_share_sectors.columns, columns=[\"share_intensity\"]\n",
    ").T\n",
    "share_intensity"
   ]
  },
  {
   "cell_type": "code",
   "execution_count": 45,
   "id": "transsexual-electric",
   "metadata": {},
   "outputs": [
    {
     "data": {
      "text/plain": [
       "array([[1.]])"
      ]
     },
     "execution_count": 45,
     "metadata": {},
     "output_type": "execute_result"
    }
   ],
   "source": [
    "# check, production based intensities @ gross output should be equal to the total share (which is 1)\n",
    "share_intensity.to_numpy() @ df_X.to_numpy()\n",
    "# this has to be equal to the shares consumption based (below)"
   ]
  },
  {
   "cell_type": "code",
   "execution_count": 46,
   "id": "brilliant-communications",
   "metadata": {},
   "outputs": [
    {
     "data": {
      "text/html": [
       "<div>\n",
       "<style scoped>\n",
       "    .dataframe tbody tr th:only-of-type {\n",
       "        vertical-align: middle;\n",
       "    }\n",
       "\n",
       "    .dataframe tbody tr th {\n",
       "        vertical-align: top;\n",
       "    }\n",
       "\n",
       "    .dataframe thead th {\n",
       "        text-align: right;\n",
       "    }\n",
       "</style>\n",
       "<table border=\"1\" class=\"dataframe\">\n",
       "  <thead>\n",
       "    <tr style=\"text-align: right;\">\n",
       "      <th></th>\n",
       "      <th>c1</th>\n",
       "      <th>c2</th>\n",
       "      <th>c3</th>\n",
       "      <th>c4</th>\n",
       "      <th>c5</th>\n",
       "      <th>c6</th>\n",
       "      <th>c7</th>\n",
       "      <th>c8</th>\n",
       "      <th>c9</th>\n",
       "      <th>c10</th>\n",
       "      <th>...</th>\n",
       "      <th>c47</th>\n",
       "      <th>c48</th>\n",
       "      <th>c49</th>\n",
       "      <th>c50</th>\n",
       "      <th>c51</th>\n",
       "      <th>c52</th>\n",
       "      <th>c53</th>\n",
       "      <th>c54</th>\n",
       "      <th>c55</th>\n",
       "      <th>c56</th>\n",
       "    </tr>\n",
       "  </thead>\n",
       "  <tbody>\n",
       "    <tr>\n",
       "      <th>share_cons_base</th>\n",
       "      <td>0.022961</td>\n",
       "      <td>0.000813</td>\n",
       "      <td>0.002716</td>\n",
       "      <td>0.00514</td>\n",
       "      <td>0.04941</td>\n",
       "      <td>0.016103</td>\n",
       "      <td>0.001003</td>\n",
       "      <td>0.001449</td>\n",
       "      <td>0.000713</td>\n",
       "      <td>0.011717</td>\n",
       "      <td>...</td>\n",
       "      <td>0.005464</td>\n",
       "      <td>0.001059</td>\n",
       "      <td>0.003061</td>\n",
       "      <td>0.01036</td>\n",
       "      <td>0.106316</td>\n",
       "      <td>0.045123</td>\n",
       "      <td>0.081208</td>\n",
       "      <td>0.03034</td>\n",
       "      <td>0.001983</td>\n",
       "      <td>0.000001</td>\n",
       "    </tr>\n",
       "  </tbody>\n",
       "</table>\n",
       "<p>1 rows × 56 columns</p>\n",
       "</div>"
      ],
      "text/plain": [
       "                       c1        c2        c3       c4       c5        c6  \\\n",
       "share_cons_base  0.022961  0.000813  0.002716  0.00514  0.04941  0.016103   \n",
       "\n",
       "                       c7        c8        c9       c10  ...       c47  \\\n",
       "share_cons_base  0.001003  0.001449  0.000713  0.011717  ...  0.005464   \n",
       "\n",
       "                      c48       c49      c50       c51       c52       c53  \\\n",
       "share_cons_base  0.001059  0.003061  0.01036  0.106316  0.045123  0.081208   \n",
       "\n",
       "                     c54       c55       c56  \n",
       "share_cons_base  0.03034  0.001983  0.000001  \n",
       "\n",
       "[1 rows x 56 columns]"
      ]
     },
     "execution_count": 46,
     "metadata": {},
     "output_type": "execute_result"
    }
   ],
   "source": [
    "# calculate the share (consumption based) : share_intensity * L * df_Y\n",
    "# share_consumption_based = share_intensity.to_numpy() @ df_L.to_numpy() @ df_Y.to_numpy()\n",
    "share_consumption_based = pd.DataFrame(\n",
    "    share_intensity.to_numpy() @ df_L.to_numpy() * df_Y.to_numpy().T,\n",
    "    index=[\"share_cons_base\"],\n",
    "    columns=share_intensity.columns,\n",
    ")\n",
    "share_consumption_based #.sum(axis=1)"
   ]
  },
  {
   "cell_type": "code",
   "execution_count": 47,
   "id": "numeric-research",
   "metadata": {},
   "outputs": [
    {
     "data": {
      "text/plain": [
       "share_cons_base    0.007607\n",
       "Name: c11, dtype: float64"
      ]
     },
     "execution_count": 47,
     "metadata": {},
     "output_type": "execute_result"
    }
   ],
   "source": [
    "share_consumption_based[\"c11\"]"
   ]
  },
  {
   "cell_type": "code",
   "execution_count": 48,
   "id": "gross-fluid",
   "metadata": {},
   "outputs": [
    {
     "name": "stdout",
     "output_type": "stream",
     "text": [
      "share of sectors =  0.02736665572929991\n"
     ]
    },
    {
     "data": {
      "text/plain": [
       "share_cons_base    0.027367\n",
       "dtype: float64"
      ]
     },
     "execution_count": 48,
     "metadata": {},
     "output_type": "execute_result"
    }
   ],
   "source": [
    "print(\"share of sectors = \", share_consumption_based[list_sectors].sum(axis=1)[0])\n",
    "share_consumption_based[list_sectors].sum(axis=1)"
   ]
  },
  {
   "cell_type": "code",
   "execution_count": 49,
   "id": "roman-nelson",
   "metadata": {},
   "outputs": [],
   "source": [
    "# GVA_chemsector = 9.71e11\n",
    "# GVA_world = 7.38e13\n",
    "# deltaSOS_purchases = 0.0234371088889808\n",
    "# GVA_chemsector / GVA_world + deltaSOS_purchases"
   ]
  },
  {
   "cell_type": "code",
   "execution_count": 50,
   "id": "funded-belarus",
   "metadata": {},
   "outputs": [
    {
     "data": {
      "text/html": [
       "<div>\n",
       "<style scoped>\n",
       "    .dataframe tbody tr th:only-of-type {\n",
       "        vertical-align: middle;\n",
       "    }\n",
       "\n",
       "    .dataframe tbody tr th {\n",
       "        vertical-align: top;\n",
       "    }\n",
       "\n",
       "    .dataframe thead th {\n",
       "        text-align: right;\n",
       "    }\n",
       "</style>\n",
       "<table border=\"1\" class=\"dataframe\">\n",
       "  <thead>\n",
       "    <tr style=\"text-align: right;\">\n",
       "      <th></th>\n",
       "      <th>c10</th>\n",
       "      <th>c11</th>\n",
       "      <th>c12</th>\n",
       "      <th>c13</th>\n",
       "    </tr>\n",
       "  </thead>\n",
       "  <tbody>\n",
       "    <tr>\n",
       "      <th>r70</th>\n",
       "      <td>0.007471</td>\n",
       "      <td>0.01315</td>\n",
       "      <td>0.00623</td>\n",
       "      <td>0.006137</td>\n",
       "    </tr>\n",
       "  </tbody>\n",
       "</table>\n",
       "</div>"
      ],
      "text/plain": [
       "          c10      c11      c12       c13\n",
       "r70  0.007471  0.01315  0.00623  0.006137"
      ]
     },
     "execution_count": 50,
     "metadata": {},
     "output_type": "execute_result"
    }
   ],
   "source": [
    "df_share_sectors[list_sectors]"
   ]
  },
  {
   "cell_type": "code",
   "execution_count": 51,
   "id": "dominican-classics",
   "metadata": {},
   "outputs": [
    {
     "data": {
      "text/html": [
       "<div>\n",
       "<style scoped>\n",
       "    .dataframe tbody tr th:only-of-type {\n",
       "        vertical-align: middle;\n",
       "    }\n",
       "\n",
       "    .dataframe tbody tr th {\n",
       "        vertical-align: top;\n",
       "    }\n",
       "\n",
       "    .dataframe thead th {\n",
       "        text-align: right;\n",
       "    }\n",
       "</style>\n",
       "<table border=\"1\" class=\"dataframe\">\n",
       "  <thead>\n",
       "    <tr style=\"text-align: right;\">\n",
       "      <th></th>\n",
       "      <th>c10</th>\n",
       "      <th>c11</th>\n",
       "      <th>c12</th>\n",
       "      <th>c13</th>\n",
       "    </tr>\n",
       "  </thead>\n",
       "  <tbody>\n",
       "    <tr>\n",
       "      <th>share_cons_base</th>\n",
       "      <td>0.011717</td>\n",
       "      <td>0.007607</td>\n",
       "      <td>0.005379</td>\n",
       "      <td>0.002665</td>\n",
       "    </tr>\n",
       "  </tbody>\n",
       "</table>\n",
       "</div>"
      ],
      "text/plain": [
       "                      c10       c11       c12       c13\n",
       "share_cons_base  0.011717  0.007607  0.005379  0.002665"
      ]
     },
     "execution_count": 51,
     "metadata": {},
     "output_type": "execute_result"
    }
   ],
   "source": [
    "share_consumption_based[list_sectors]"
   ]
  },
  {
   "cell_type": "code",
   "execution_count": 52,
   "id": "fresh-attitude",
   "metadata": {},
   "outputs": [
    {
     "data": {
      "text/plain": [
       "array([[1.56831421, 0.57848275, 0.86337257, 0.43422512]])"
      ]
     },
     "execution_count": 52,
     "metadata": {},
     "output_type": "execute_result"
    }
   ],
   "source": [
    "share_consumption_based[list_sectors].to_numpy()/df_share_sectors[list_sectors].to_numpy()"
   ]
  },
  {
   "cell_type": "code",
   "execution_count": 53,
   "id": "noticed-shakespeare",
   "metadata": {},
   "outputs": [
    {
     "data": {
      "text/plain": [
       "41998603.67779265"
      ]
     },
     "execution_count": 53,
     "metadata": {},
     "output_type": "execute_result"
    }
   ],
   "source": [
    "df_FDs[\"c57\"].sum(axis=0)"
   ]
  },
  {
   "cell_type": "code",
   "execution_count": 54,
   "id": "imposed-greene",
   "metadata": {},
   "outputs": [
    {
     "data": {
      "text/plain": [
       "Y    7.544723e+07\n",
       "dtype: float64"
      ]
     },
     "execution_count": 54,
     "metadata": {},
     "output_type": "execute_result"
    }
   ],
   "source": [
    "df_Y.sum(axis=0)"
   ]
  },
  {
   "cell_type": "code",
   "execution_count": 55,
   "id": "treated-tablet",
   "metadata": {},
   "outputs": [
    {
     "data": {
      "text/plain": [
       "Y    0.556662\n",
       "dtype: float64"
      ]
     },
     "execution_count": 55,
     "metadata": {},
     "output_type": "execute_result"
    }
   ],
   "source": [
    "df_FDs[\"c57\"].sum(axis=0)/df_Y.sum(axis=0)"
   ]
  },
  {
   "cell_type": "markdown",
   "id": "f9340cdc-f690-4cce-9a7e-bbbb9cb8f569",
   "metadata": {},
   "source": [
    "# OUTPUTS: Export data to excel"
   ]
  },
  {
   "cell_type": "code",
   "execution_count": null,
   "id": "b90e4da4-0ba1-460c-8186-cd71617ab122",
   "metadata": {},
   "outputs": [],
   "source": []
  }
 ],
 "metadata": {
  "kernelspec": {
   "display_name": "Python (proj17)",
   "language": "python",
   "name": "17-conda-env"
  },
  "language_info": {
   "codemirror_mode": {
    "name": "ipython",
    "version": 3
   },
   "file_extension": ".py",
   "mimetype": "text/x-python",
   "name": "python",
   "nbconvert_exporter": "python",
   "pygments_lexer": "ipython3",
   "version": "3.8.5"
  }
 },
 "nbformat": 4,
 "nbformat_minor": 5
}
