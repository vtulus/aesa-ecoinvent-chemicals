{
 "cells": [
  {
   "cell_type": "markdown",
   "id": "5fd46a57-e8af-47b7-8731-f412a425d293",
   "metadata": {},
   "source": [
    "<div class=\"alert alert-block alert-info\">\n",
    "This script imports WIOD for exploration. No outputs...<br>  \n",
    "    <hr> \n",
    "    Note: <br>\n",
    "    <i><b>Not a part of the pipeline</b></i>\n",
    "</div>"
   ]
  },
  {
   "cell_type": "markdown",
   "id": "4fd60b79-8aab-4ff1-ac7c-196a9a348328",
   "metadata": {},
   "source": [
    "# Imports"
   ]
  },
  {
   "cell_type": "code",
   "execution_count": null,
   "id": "printable-danger",
   "metadata": {},
   "outputs": [],
   "source": [
    "%config IPCompleter.use_jedi = False # disable jedi autocompleter (https://stackoverflow.com/a/65734178/14485040)\n",
    "\n",
    "import project_path  # makes possible the access to `src` directory using relative path\n",
    "from src.utils import explore_dir\n",
    "from src.utils import read_excel_to_pandas as r_excel\n",
    "\n",
    "%run init_nb.ipynb"
   ]
  },
  {
   "cell_type": "markdown",
   "id": "b9aec4c3-3889-4a5c-9071-7b479408f955",
   "metadata": {
    "tags": []
   },
   "source": [
    "# INPUTS: Identify file(s) and read data to df"
   ]
  },
  {
   "cell_type": "code",
   "execution_count": null,
   "id": "hawaiian-publicity",
   "metadata": {},
   "outputs": [],
   "source": [
    "# Explore the directory to find the file(s)\n",
    "\n",
    "# --------------- WorldInputOutputTable (WIOT) file ----------------\n",
    "inputs_dir_1, files_list_1 = explore_dir(\n",
    "    path_to_dir=r\"..\\data\\external\\WIOD\",\n",
    "    file_extension=\"xlsb\",\n",
    "    print_files_list=True,\n",
    ")\n",
    "\n",
    "print(\"\\nnº of found files in\", inputs_dir_1, \": \", len(files_list_1), \"\\n\")"
   ]
  },
  {
   "cell_type": "code",
   "execution_count": null,
   "id": "banner-logging",
   "metadata": {},
   "outputs": [],
   "source": [
    "%%time\n",
    "# Process raw data\n",
    "\n",
    "# IO data for a specific year\n",
    "df_IO_raw = r_excel(\n",
    "    inputs_dir_1,\n",
    "    \"WIOT2014_Nov16_ROW.xlsb\",\n",
    "    sheets=\"2014\",\n",
    "    engine=\"pyxlsb\",\n",
    "    index_col=[0, 1, 2, 3],\n",
    "    header=[2, 3, 4, 5],\n",
    "#     skiprows = [0, 1]\n",
    ")\n",
    "print(\"df of WIOT (raw) \".ljust(40, \".\"), f\" {df_IO_raw.shape}\".rjust(13, \".\"))\n",
    "df_IO_raw.head(5)"
   ]
  },
  {
   "cell_type": "markdown",
   "id": "16b082a8-7f52-46f5-bfe7-25bac53cb82c",
   "metadata": {
    "tags": []
   },
   "source": [
    "# Operations"
   ]
  },
  {
   "cell_type": "markdown",
   "id": "ambient-animal",
   "metadata": {},
   "source": [
    " - aggregate WIOD by sector for one GLO country (aggregate rows and columns)\n",
    " - put rows/columns in order (e.g. r9 comes before r10)\n",
    " - separate WIOD into T, Y, X, VA matrices\n",
    " - perform operations"
   ]
  },
  {
   "cell_type": "code",
   "execution_count": null,
   "id": "numerical-exemption",
   "metadata": {},
   "outputs": [],
   "source": [
    "# clean column/index names\n",
    "df_IO_raw.columns.names = len(df_IO_raw.columns.names)*[None]\n",
    "df_IO_raw.index.names = len(df_IO_raw.index.names)*[None]\n",
    "df_io = df_IO_raw.copy()"
   ]
  },
  {
   "cell_type": "code",
   "execution_count": null,
   "id": "finite-assets",
   "metadata": {},
   "outputs": [],
   "source": [
    "io_cols = pd.DataFrame(df_io.columns.to_list(), columns=[\"col_code\", \"sector\", \"country\", \"col_num\"])\n",
    "io_cols"
   ]
  },
  {
   "cell_type": "code",
   "execution_count": null,
   "id": "figured-observation",
   "metadata": {},
   "outputs": [],
   "source": [
    "io_rows = pd.DataFrame(df_io.index.to_list(), columns=[\"row_code\", \"sector\", \"country\", \"row_num\"])\n",
    "io_rows"
   ]
  },
  {
   "cell_type": "code",
   "execution_count": null,
   "id": "national-collective",
   "metadata": {},
   "outputs": [],
   "source": [
    "map_col_num_to_code = dict()\n",
    "for i in pd.DataFrame(io_cols.groupby([\"col_code\", \"sector\", \"col_num\"]))[0]:\n",
    "    map_col_num_to_code[i[2]] = [i[0], i[1]]\n",
    "# map_col_num_to_code"
   ]
  },
  {
   "cell_type": "code",
   "execution_count": null,
   "id": "grand-motivation",
   "metadata": {},
   "outputs": [],
   "source": [
    "df_col_num_to_code = pd.DataFrame(\n",
    "    map_col_num_to_code, index=[[\"col_code\", \"col_name\"]]\n",
    ").T\n",
    "df_col_num_to_code = df_col_num_to_code.loc[\n",
    "    sorted(df_col_num_to_code.index.to_list(), key=lambda x: int(x.partition(\"c\")[2]))\n",
    "]\n",
    "df_col_num_to_code.tail(10)"
   ]
  },
  {
   "cell_type": "code",
   "execution_count": null,
   "id": "plastic-robinson",
   "metadata": {},
   "outputs": [],
   "source": [
    "map_row_num_to_code = dict()\n",
    "for i in pd.DataFrame(io_rows.groupby([\"row_code\", \"sector\", \"row_num\"]))[0]:\n",
    "    map_row_num_to_code[i[2]] = [i[0], i[1]]\n",
    "# map_row_num_to_code"
   ]
  },
  {
   "cell_type": "code",
   "execution_count": null,
   "id": "endless-shield",
   "metadata": {},
   "outputs": [],
   "source": [
    "df_row_num_to_code = pd.DataFrame(\n",
    "    map_row_num_to_code, index=[[\"row_code\", \"row_name\"]]\n",
    ").T\n",
    "df_row_num_to_code = df_row_num_to_code.loc[\n",
    "    sorted(df_row_num_to_code.index.to_list(), key=lambda x: int(x.partition(\"r\")[2]))\n",
    "]\n",
    "df_row_num_to_code.tail(10)"
   ]
  },
  {
   "cell_type": "code",
   "execution_count": null,
   "id": "interesting-empty",
   "metadata": {},
   "outputs": [],
   "source": [
    "# io_rows[~io_rows.row_code.isin(io_cols.col_code)]"
   ]
  },
  {
   "cell_type": "code",
   "execution_count": null,
   "id": "improving-caution",
   "metadata": {},
   "outputs": [],
   "source": [
    "# io_cols[~io_cols.col_code.isin(io_rows.row_code)]\n",
    "# pd.DataFrame(io_cols[~io_cols.col_code.isin(io_rows.row_code)].groupby(by=\"col_code\"))"
   ]
  },
  {
   "cell_type": "code",
   "execution_count": null,
   "id": "violent-lemon",
   "metadata": {},
   "outputs": [],
   "source": [
    "len(map_row_num_to_code)"
   ]
  },
  {
   "cell_type": "code",
   "execution_count": null,
   "id": "injured-avatar",
   "metadata": {},
   "outputs": [],
   "source": [
    "len(map_col_num_to_code)"
   ]
  },
  {
   "cell_type": "code",
   "execution_count": null,
   "id": "pressing-bennett",
   "metadata": {},
   "outputs": [],
   "source": [
    "# Aggregate columns by col_num and rows by row_num\n",
    "# This will create a GLO IO table industry-by-industry\n",
    "df_io_GLO_raw = df_io.groupby(axis=1, level=3).sum().groupby(axis=0, level=3).sum()\n",
    "\n",
    "# sort columns/rows by col_num/row_num in ascending order\n",
    "df_io_GLO_raw = df_io_GLO_raw.loc[\n",
    "    sorted(df_io_GLO_raw.index.to_list(), key=lambda x: int(x.partition(\"r\")[2])),\n",
    "    sorted(df_io_GLO_raw.columns.to_list(), key=lambda x: int(x.partition(\"c\")[2])),\n",
    "]\n",
    "# df_io_GLO_raw\n",
    "\n",
    "# aggregated IO table with names of sectors\n",
    "df_io_GLO_name = df_io_GLO_raw.rename(index = {k:v[1] for k,v in map_row_num_to_code.items()},\n",
    "                     columns = {k:v[1] for k,v in map_col_num_to_code.items()})\n",
    "\n",
    "# aggregated IO table with codes of sectors\n",
    "df_io_GLO_code = df_io_GLO_raw.rename(index = {k:v[0] for k,v in map_row_num_to_code.items()},\n",
    "                     columns = {k:v[0] for k,v in map_col_num_to_code.items()})"
   ]
  },
  {
   "cell_type": "code",
   "execution_count": null,
   "id": "regulated-fishing",
   "metadata": {},
   "outputs": [],
   "source": [
    "# matrix T of domestic transactions\n",
    "df_T = df_io_GLO_raw.loc[\n",
    "    df_io_GLO_raw.index[\n",
    "        ~df_io_GLO_raw.index.isin([\"r65\", \"r66\", \"r67\", \"r68\", \"r69\", \"r70\", \"r71\", \"r73\"])\n",
    "    ],    \n",
    "    df_io_GLO_raw.columns[\n",
    "        ~df_io_GLO_raw.columns.isin([\"c57\", \"c58\", \"c59\", \"c60\", \"c61\", \"c62\"])\n",
    "    ],\n",
    "]"
   ]
  },
  {
   "cell_type": "code",
   "execution_count": null,
   "id": "expected-smell",
   "metadata": {},
   "outputs": [],
   "source": [
    "# matrix Y of Final Demands\n",
    "df_FDs = df_io_GLO_raw.loc[\n",
    "    df_io_GLO_raw.index[\n",
    "        ~df_io_GLO_raw.index.isin([\"r65\", \"r66\", \"r67\", \"r68\", \"r69\", \"r70\", \"r71\", \"r73\"])\n",
    "    ],    \n",
    "    df_io_GLO_raw.columns[\n",
    "        df_io_GLO_raw.columns.isin([\"c57\", \"c58\", \"c59\", \"c60\", \"c61\"]) # , \"c62\"\n",
    "    ],\n",
    "]\n",
    "df_Y_temp = df_FDs.sum(axis=1) # aggregate all Final demands in one vector-column\n",
    "df_Y = pd.DataFrame(df_Y_temp, columns=[\"Y\"])"
   ]
  },
  {
   "cell_type": "code",
   "execution_count": null,
   "id": "prerequisite-guinea",
   "metadata": {},
   "outputs": [],
   "source": [
    "# matrix X of gross output\n",
    "df_X = df_io_GLO_raw.loc[\n",
    "    df_io_GLO_raw.index[\n",
    "        ~df_io_GLO_raw.index.isin([\"r65\", \"r66\", \"r67\", \"r68\", \"r69\", \"r70\", \"r71\", \"r73\"])\n",
    "    ],    \n",
    "    df_io_GLO_raw.columns[\n",
    "        df_io_GLO_raw.columns.isin([\"c62\"])\n",
    "    ],\n",
    "]\n",
    "# df_X"
   ]
  },
  {
   "cell_type": "code",
   "execution_count": null,
   "id": "monetary-beast",
   "metadata": {},
   "outputs": [],
   "source": [
    "# vector VA of value added\n",
    "df_VA = df_io_GLO_raw.loc[\n",
    "    df_io_GLO_raw.index[\n",
    "        df_io_GLO_raw.index.isin([\"r70\"])\n",
    "    ],    \n",
    "    df_io_GLO_raw.columns[\n",
    "        ~df_io_GLO_raw.columns.isin([\"c57\", \"c58\", \"c59\", \"c60\", \"c61\", \"c62\"])\n",
    "    ],\n",
    "] \n",
    "# df_VA"
   ]
  },
  {
   "cell_type": "code",
   "execution_count": null,
   "id": "fewer-consortium",
   "metadata": {},
   "outputs": [],
   "source": [
    "# total GLO value added at basic prices\n",
    "totGVA = df_VA.sum(axis=1)"
   ]
  },
  {
   "cell_type": "code",
   "execution_count": null,
   "id": "great-amendment",
   "metadata": {},
   "outputs": [],
   "source": [
    "# share allocated to a sector : VAsector/totVA\n",
    "df_share_sectors = df_VA.div(totGVA[0])"
   ]
  },
  {
   "cell_type": "code",
   "execution_count": null,
   "id": "backed-daniel",
   "metadata": {},
   "outputs": [],
   "source": [
    "# map_col_num_to_code[\"c11\"]"
   ]
  },
  {
   "cell_type": "code",
   "execution_count": null,
   "id": "coordinated-equipment",
   "metadata": {},
   "outputs": [],
   "source": [
    "df_col_num_to_code.loc[\"c11\"]"
   ]
  },
  {
   "cell_type": "code",
   "execution_count": null,
   "id": "tamil-dictionary",
   "metadata": {},
   "outputs": [],
   "source": [
    "list_sectors = [\"c10\", \"c11\", \"c12\", \"c13\"]  # sectors to include?\n",
    "df_col_num_to_code.loc[list_sectors]"
   ]
  },
  {
   "cell_type": "code",
   "execution_count": null,
   "id": "incident-nickel",
   "metadata": {},
   "outputs": [],
   "source": [
    "list_sectors_rows = [\"r10\", \"r11\", \"r12\", \"r13\"]  # sectors to include?\n",
    "df_row_num_to_code.loc[list_sectors_rows]"
   ]
  },
  {
   "cell_type": "markdown",
   "id": "formed-andorra",
   "metadata": {},
   "source": [
    "## Gonzalo's calculations"
   ]
  },
  {
   "cell_type": "code",
   "execution_count": null,
   "id": "convinced-eating",
   "metadata": {},
   "outputs": [],
   "source": [
    "# df_T[list_sectors].sum(axis=1)"
   ]
  },
  {
   "cell_type": "code",
   "execution_count": null,
   "id": "minimal-three",
   "metadata": {},
   "outputs": [],
   "source": [
    "# fraction of what each sector gives to sector c11 relative to the total output\n",
    "frac_spr_to_s = pd.DataFrame(df_T[\"c11\"].to_numpy()/df_X.iloc[:,0].to_numpy().T, index=df_T.index, columns=[\"s_out_per_X\"])\n",
    "# frac_spr_to_s\n",
    "\n",
    "delta_share_spr_to_s = pd.DataFrame(\n",
    "    df_share_sectors.to_numpy() * frac_spr_to_s.to_numpy().T,\n",
    "    index=[\"delta_share\"],\n",
    "    columns=df_share_sectors.columns,\n",
    ")\n",
    "delta_share_spr_to_s[\"c11\"] = 0 # sector doesn't give a share to itself\n",
    "delta_share_spr_to_s"
   ]
  },
  {
   "cell_type": "code",
   "execution_count": null,
   "id": "detected-suggestion",
   "metadata": {},
   "outputs": [],
   "source": [
    "print(\"direct share =\",df_share_sectors[\"c11\"][0]) \n",
    "print(\"deltashare = \",delta_share_spr_to_s.sum(axis=1)[0])\n",
    "share_c11 =  df_share_sectors[\"c11\"] + delta_share_spr_to_s.sum(axis=1)[0]\n",
    "share_c11"
   ]
  },
  {
   "cell_type": "markdown",
   "id": "statewide-print",
   "metadata": {
    "tags": []
   },
   "source": [
    "#### aggregated sectors c10-13"
   ]
  },
  {
   "cell_type": "code",
   "execution_count": null,
   "id": "unlikely-looking",
   "metadata": {},
   "outputs": [],
   "source": [
    "# df_io_GLO_raw.loc[list_sectors_rows].sum(axis=0)"
   ]
  },
  {
   "cell_type": "code",
   "execution_count": null,
   "id": "double-majority",
   "metadata": {},
   "outputs": [],
   "source": [
    "df_io_GLO_raw_aggsectors = df_io_GLO_raw.copy()\n",
    "df_io_GLO_raw_aggsectors[\"c10-13\"] = df_io_GLO_raw_aggsectors[list_sectors].sum(axis=1)\n",
    "df_io_GLO_raw_aggsectors.loc[\"r10-13\"] = df_io_GLO_raw_aggsectors.loc[\n",
    "    list_sectors_rows\n",
    "].sum(axis=0)\n",
    "df_io_GLO_raw_aggsectors.drop(list_sectors, axis=1, inplace=True)\n",
    "df_io_GLO_raw_aggsectors.drop(list_sectors_rows, axis=0, inplace=True)\n",
    "df_io_GLO_raw_aggsectors.rename(columns={\"c10-13\": \"c10\"}, inplace=True)\n",
    "df_io_GLO_raw_aggsectors.rename(index={\"r10-13\": \"r10\"}, inplace=True)\n",
    "\n",
    "df_io_GLO_raw_aggsectors = df_io_GLO_raw_aggsectors.loc[\n",
    "    sorted(df_io_GLO_raw_aggsectors.index.to_list(), key=lambda x: int(x.partition(\"r\")[2])),\n",
    "    sorted(df_io_GLO_raw_aggsectors.columns.to_list(), key=lambda x: int(x.partition(\"c\")[2])),]\n",
    "# df_io_GLO_raw_aggsectors"
   ]
  },
  {
   "cell_type": "code",
   "execution_count": null,
   "id": "second-oxygen",
   "metadata": {},
   "outputs": [],
   "source": [
    "df_T_aggsectors = df_io_GLO_raw_aggsectors.loc[\n",
    "    df_io_GLO_raw_aggsectors.index[\n",
    "        ~df_io_GLO_raw_aggsectors.index.isin([\"r65\", \"r66\", \"r67\", \"r68\", \"r69\", \"r70\", \"r71\", \"r73\"])\n",
    "    ],    \n",
    "    df_io_GLO_raw_aggsectors.columns[\n",
    "        ~df_io_GLO_raw_aggsectors.columns.isin([\"c57\", \"c58\", \"c59\", \"c60\", \"c61\", \"c62\"])\n",
    "    ],\n",
    "]\n",
    "# df_T_aggsectors"
   ]
  },
  {
   "cell_type": "code",
   "execution_count": null,
   "id": "general-spencer",
   "metadata": {},
   "outputs": [],
   "source": [
    "# check...\n",
    "df_X.loc[list_sectors_rows].sum(axis=0)"
   ]
  },
  {
   "cell_type": "code",
   "execution_count": null,
   "id": "oriented-macintosh",
   "metadata": {},
   "outputs": [],
   "source": [
    "df_X_aggsectors = df_io_GLO_raw_aggsectors.loc[\n",
    "    df_io_GLO_raw_aggsectors.index[\n",
    "        ~df_io_GLO_raw_aggsectors.index.isin([\"r65\", \"r66\", \"r67\", \"r68\", \"r69\", \"r70\", \"r71\", \"r73\"])\n",
    "    ],    \n",
    "    df_io_GLO_raw_aggsectors.columns[\n",
    "        df_io_GLO_raw_aggsectors.columns.isin([\"c62\"])\n",
    "    ],\n",
    "]\n",
    "# df_X_aggsectors #.loc[\"r10\"]"
   ]
  },
  {
   "cell_type": "code",
   "execution_count": null,
   "id": "sealed-chapel",
   "metadata": {},
   "outputs": [],
   "source": [
    "# check...\n",
    "df_VA[list_sectors].sum(axis=1)"
   ]
  },
  {
   "cell_type": "code",
   "execution_count": null,
   "id": "lonely-convert",
   "metadata": {},
   "outputs": [],
   "source": [
    "# vector VA of value added\n",
    "df_VA_aggsectors = df_io_GLO_raw_aggsectors.loc[\n",
    "    df_io_GLO_raw_aggsectors.index[\n",
    "        df_io_GLO_raw_aggsectors.index.isin([\"r70\"])\n",
    "    ],    \n",
    "    df_io_GLO_raw_aggsectors.columns[\n",
    "        ~df_io_GLO_raw_aggsectors.columns.isin([\"c57\", \"c58\", \"c59\", \"c60\", \"c61\", \"c62\"])\n",
    "    ],\n",
    "] \n",
    "# df_VA_aggsectors # [\"c10\"]"
   ]
  },
  {
   "cell_type": "code",
   "execution_count": null,
   "id": "established-program",
   "metadata": {},
   "outputs": [],
   "source": [
    "df_share_sectors[list_sectors].sum(axis=1)"
   ]
  },
  {
   "cell_type": "code",
   "execution_count": null,
   "id": "organic-runner",
   "metadata": {},
   "outputs": [],
   "source": [
    "totGVA_aggsectors = df_VA_aggsectors.sum(axis=1)\n",
    "df_share_sectors_aggsectors = df_VA_aggsectors.div(totGVA_aggsectors[0])\n",
    "# df_share_sectors_aggsectors # [\"c10\"]"
   ]
  },
  {
   "cell_type": "code",
   "execution_count": null,
   "id": "round-guide",
   "metadata": {},
   "outputs": [],
   "source": [
    "# fraction of what each sector gives to sector c11 relative to the total output\n",
    "frac_spr_to_s_aggsectors = pd.DataFrame(\n",
    "    df_T_aggsectors[\"c10\"].to_numpy() / df_X_aggsectors.iloc[:, 0].to_numpy().T,\n",
    "    index=df_T_aggsectors.index,\n",
    "    columns=[\"s_out_per_X\"],\n",
    ")\n",
    "# frac_spr_to_s\n",
    "\n",
    "delta_share_spr_to_s_aggsectors = pd.DataFrame(\n",
    "    df_share_sectors_aggsectors.to_numpy() * frac_spr_to_s_aggsectors.to_numpy().T,\n",
    "    index=[\"delta_share\"],\n",
    "    columns=df_share_sectors_aggsectors.columns,\n",
    ")\n",
    "delta_share_spr_to_s_aggsectors[\"c10\"] = 0  # sector doesn't give a share to itself\n",
    "delta_share_spr_to_s_aggsectors"
   ]
  },
  {
   "cell_type": "code",
   "execution_count": null,
   "id": "removable-aquarium",
   "metadata": {},
   "outputs": [],
   "source": [
    "print(\"direct share =\", df_share_sectors_aggsectors[\"c10\"][0])\n",
    "print(\"deltashare = \", delta_share_spr_to_s_aggsectors.sum(axis=1)[0])\n",
    "share_aggsectors =  df_share_sectors_aggsectors[\"c10\"] + delta_share_spr_to_s_aggsectors.sum(axis=1)[0]\n",
    "share_aggsectors"
   ]
  },
  {
   "cell_type": "markdown",
   "id": "applied-queensland",
   "metadata": {},
   "source": [
    "## Calculations using L inverse"
   ]
  },
  {
   "cell_type": "code",
   "execution_count": null,
   "id": "casual-laptop",
   "metadata": {},
   "outputs": [],
   "source": [
    "# check that T + Y = X\n",
    "a = df_T.sum(axis=1) + df_Y.sum(axis=1)\n",
    "a.to_numpy()/df_X.to_numpy().T[0]"
   ]
  },
  {
   "cell_type": "code",
   "execution_count": null,
   "id": "double-rwanda",
   "metadata": {},
   "outputs": [],
   "source": [
    "# diagonalize X\n",
    "diagX_raw = np.diag(df_X.to_numpy().T[0])\n",
    "diagX = np.where(diagX_raw==0, 1e-100, diagX_raw) # small non-zero values, to be able to invert this matrix"
   ]
  },
  {
   "cell_type": "code",
   "execution_count": null,
   "id": "numerical-racing",
   "metadata": {},
   "outputs": [],
   "source": [
    "#calculate technical coefficients A\n",
    "df_A = pd.DataFrame(df_T.to_numpy() @ np.linalg.inv(diagX), index=df_T.index, columns=df_T.columns)"
   ]
  },
  {
   "cell_type": "code",
   "execution_count": null,
   "id": "automatic-leadership",
   "metadata": {},
   "outputs": [],
   "source": [
    "# calculate Leontief's inverse matrix\n",
    "IminusA = np.eye(df_A.shape[0]) - df_A\n",
    "df_L = pd.DataFrame(np.linalg.inv(IminusA.to_numpy()), index=df_A.index, columns=df_A.columns)\n",
    "# df_L"
   ]
  },
  {
   "cell_type": "code",
   "execution_count": null,
   "id": "norman-couple",
   "metadata": {},
   "outputs": [],
   "source": [
    "# alternative method!\n",
    "\n",
    "# share intensities : df_share_sectors / X\n",
    "share_intensity = pd.DataFrame(\n",
    "    df_share_sectors.iloc[0, :].to_numpy() / df_X.iloc[:, 0].to_numpy(),\n",
    "    index=df_share_sectors.columns, columns=[\"share_intensity\"]\n",
    ").T\n",
    "share_intensity"
   ]
  },
  {
   "cell_type": "code",
   "execution_count": null,
   "id": "transsexual-electric",
   "metadata": {},
   "outputs": [],
   "source": [
    "# check, production based intensities @ gross output should be equal to the total share (which is 1)\n",
    "share_intensity.to_numpy() @ df_X.to_numpy()\n",
    "# this has to be equal to the shares consumption based (below)"
   ]
  },
  {
   "cell_type": "code",
   "execution_count": null,
   "id": "brilliant-communications",
   "metadata": {},
   "outputs": [],
   "source": [
    "# calculate the share (consumption based) : share_intensity * L * df_Y\n",
    "# share_consumption_based = share_intensity.to_numpy() @ df_L.to_numpy() @ df_Y.to_numpy()\n",
    "share_consumption_based = pd.DataFrame(\n",
    "    share_intensity.to_numpy() @ df_L.to_numpy() * df_Y.to_numpy().T,\n",
    "    index=[\"share_cons_base\"],\n",
    "    columns=share_intensity.columns,\n",
    ")\n",
    "share_consumption_based #.sum(axis=1)"
   ]
  },
  {
   "cell_type": "code",
   "execution_count": null,
   "id": "numeric-research",
   "metadata": {},
   "outputs": [],
   "source": [
    "share_consumption_based[\"c11\"]"
   ]
  },
  {
   "cell_type": "code",
   "execution_count": null,
   "id": "gross-fluid",
   "metadata": {},
   "outputs": [],
   "source": [
    "print(\"share of sectors = \", share_consumption_based[list_sectors].sum(axis=1)[0])\n",
    "share_consumption_based[list_sectors].sum(axis=1)"
   ]
  },
  {
   "cell_type": "code",
   "execution_count": null,
   "id": "roman-nelson",
   "metadata": {},
   "outputs": [],
   "source": [
    "# GVA_chemsector = 9.71e11\n",
    "# GVA_world = 7.38e13\n",
    "# deltaSOS_purchases = 0.0234371088889808\n",
    "# GVA_chemsector / GVA_world + deltaSOS_purchases"
   ]
  },
  {
   "cell_type": "code",
   "execution_count": null,
   "id": "funded-belarus",
   "metadata": {},
   "outputs": [],
   "source": [
    "df_share_sectors[list_sectors]"
   ]
  },
  {
   "cell_type": "code",
   "execution_count": null,
   "id": "dominican-classics",
   "metadata": {},
   "outputs": [],
   "source": [
    "share_consumption_based[list_sectors]"
   ]
  },
  {
   "cell_type": "code",
   "execution_count": null,
   "id": "fresh-attitude",
   "metadata": {},
   "outputs": [],
   "source": [
    "share_consumption_based[list_sectors].to_numpy()/df_share_sectors[list_sectors].to_numpy()"
   ]
  },
  {
   "cell_type": "code",
   "execution_count": null,
   "id": "noticed-shakespeare",
   "metadata": {},
   "outputs": [],
   "source": [
    "df_FDs[\"c57\"].sum(axis=0)"
   ]
  },
  {
   "cell_type": "code",
   "execution_count": null,
   "id": "imposed-greene",
   "metadata": {},
   "outputs": [],
   "source": [
    "df_Y.sum(axis=0)"
   ]
  },
  {
   "cell_type": "code",
   "execution_count": null,
   "id": "treated-tablet",
   "metadata": {},
   "outputs": [],
   "source": [
    "df_FDs[\"c57\"].sum(axis=0)/df_Y.sum(axis=0)"
   ]
  },
  {
   "cell_type": "markdown",
   "id": "f9340cdc-f690-4cce-9a7e-bbbb9cb8f569",
   "metadata": {},
   "source": [
    "# OUTPUTS: Export data to excel"
   ]
  },
  {
   "cell_type": "code",
   "execution_count": null,
   "id": "b90e4da4-0ba1-460c-8186-cd71617ab122",
   "metadata": {},
   "outputs": [],
   "source": []
  }
 ],
 "metadata": {
  "kernelspec": {
   "display_name": "Python (proj17)",
   "language": "python",
   "name": "17-conda-env"
  },
  "language_info": {
   "codemirror_mode": {
    "name": "ipython",
    "version": 3
   },
   "file_extension": ".py",
   "mimetype": "text/x-python",
   "name": "python",
   "nbconvert_exporter": "python",
   "pygments_lexer": "ipython3",
   "version": "3.8.5"
  }
 },
 "nbformat": 4,
 "nbformat_minor": 5
}
