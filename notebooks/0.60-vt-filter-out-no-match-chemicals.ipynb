{
 "cells": [
  {
   "cell_type": "markdown",
   "metadata": {},
   "source": [
    "<div class=\"alert alert-block alert-info\">\r\n",
    "    This script <b> filters out chemicals that were not found in PubChem database <code>pubchem_match!=No match</code></b>.\r\n",
    "    <hr> \r\n",
    "    Note: <br>\r\n",
    "    <i><b>Input file(s)' name(s) and metadata</b></i> (if available) are <b>printed out (below 👇🏼) in 'read data to df' section.</b>"
   ]
  },
  {
   "cell_type": "code",
   "execution_count": null,
   "metadata": {},
   "outputs": [],
   "source": [
    "# %env\r\n",
    "# %who_ls\r\n",
    "# %who\r\n",
    "# %who int\r\n",
    "# %pinfo <var name>"
   ]
  },
  {
   "cell_type": "markdown",
   "metadata": {
    "tags": []
   },
   "source": [
    "# Imports"
   ]
  },
  {
   "cell_type": "code",
   "execution_count": null,
   "metadata": {},
   "outputs": [],
   "source": [
    "%config IPCompleter.use_jedi = False # disable jedi autocompleter (https://stackoverflow.com/a/65734178/14485040)\r\n",
    "\r\n",
    "import project_path  # makes possible the access to `src` directory using relative path\r\n",
    "from src.data import internal_funcs\r\n",
    "from src.utils import explore_dir, make_readme_info\r\n",
    "from src.utils import read_excel_to_pandas as r_excel\r\n",
    "from src.utils import set_outputs_dir\r\n",
    "from src.utils import write_pandas_to_excel as w_excel\r\n",
    "\r\n",
    "%run init_nb.ipynb"
   ]
  },
  {
   "cell_type": "code",
   "execution_count": null,
   "metadata": {},
   "outputs": [],
   "source": [
    "pd.options.display.max_columns = None"
   ]
  },
  {
   "cell_type": "markdown",
   "metadata": {},
   "source": [
    "# INPUTS: Identify file(s) and read data to df"
   ]
  },
  {
   "cell_type": "code",
   "execution_count": null,
   "metadata": {},
   "outputs": [],
   "source": [
    "# Explore the directory to find the file(s)\r\n",
    "inputs_dir, files_list = explore_dir(\r\n",
    "    path_to_dir=r\"..\\data\\interim\", file_extension=\"xlsx\", print_files_list=True\r\n",
    ")"
   ]
  },
  {
   "cell_type": "code",
   "execution_count": null,
   "metadata": {},
   "outputs": [],
   "source": [
    "# Read data\r\n",
    "df_base_full = r_excel(inputs_dir, \"data-extended-added-transgression-pbs.xlsx\")\r\n",
    "print(\r\n",
    "    \"df_base_full\".ljust(40, \".\"), f\"{df_base_full.shape}\\n\".rjust(13, \".\"),\r\n",
    ")\r\n",
    "\r\n",
    "# Get list of LCIA methods, TL PBs and list of metadata\r\n",
    "METHODS = r_excel(\r\n",
    "    inputs_dir,\r\n",
    "    \"data-extended-added-transgression-pbs.xlsx\",\r\n",
    "    sheets=\"METHODS\",\r\n",
    "    show_readme=False,\r\n",
    ")[\"METHODS\"].values.tolist()\r\n",
    "\r\n",
    "TL_METHODS = r_excel(\r\n",
    "    inputs_dir,\r\n",
    "    \"data-extended-added-transgression-pbs.xlsx\",\r\n",
    "    sheets=\"TL_METHODS\",\r\n",
    "    show_readme=False,\r\n",
    ")[\"TL_METHODS\"].values.tolist()\r\n",
    "\r\n",
    "METADATA = r_excel(\r\n",
    "    inputs_dir,\r\n",
    "    \"data-extended-added-transgression-pbs.xlsx\",\r\n",
    "    sheets=\"METADATA\",\r\n",
    "    show_readme=False,\r\n",
    ")[\"METADATA\"].values.tolist()"
   ]
  },
  {
   "cell_type": "markdown",
   "metadata": {},
   "source": [
    "# Operations"
   ]
  },
  {
   "cell_type": "markdown",
   "metadata": {},
   "source": [
    "## Filter out activities not found in PubChem\n",
    "<div class=\"alert alert-block alert-info\">\n",
    "    created: <code>df_base_full_in_pubchem</code>  \n",
    "</div>"
   ]
  },
  {
   "cell_type": "code",
   "execution_count": null,
   "metadata": {},
   "outputs": [],
   "source": [
    "df_base_full_in_pubchem = df_base_full[df_base_full.num_matches != 0]\r\n",
    "\r\n",
    "print(\r\n",
    "    \"Created **df_base_full_in_pubchem** dataframe is of {} shape.\\n\".format(\r\n",
    "        df_base_full_in_pubchem.shape\r\n",
    "    )\r\n",
    ")\r\n",
    "df_base_full_in_pubchem.sample(2)"
   ]
  },
  {
   "cell_type": "code",
   "execution_count": null,
   "metadata": {},
   "outputs": [],
   "source": [
    "# Grouping by 'category_regrouped' and ploting the size of each group on a barh plot (in one line)\r\n",
    "internal_funcs.plot_categories(\r\n",
    "    df_in=df_base_full_in_pubchem,\r\n",
    "    groupby=\"category_regrouped\",\r\n",
    "    color=\"darkorange\",\r\n",
    "    fontsize=12,\r\n",
    ")"
   ]
  },
  {
   "cell_type": "code",
   "execution_count": null,
   "metadata": {},
   "outputs": [],
   "source": [
    "# Make df of METADATA, METHODS, and TL_METHODS for later export\r\n",
    "df_metadata = pd.DataFrame(METADATA, columns=[\"METADATA\"])\r\n",
    "df_methods = pd.DataFrame(METHODS, columns=[\"METHODS\"])\r\n",
    "df_tl_methods = pd.DataFrame(TL_METHODS, columns=[\"TL_METHODS\"])"
   ]
  },
  {
   "cell_type": "markdown",
   "metadata": {
    "tags": []
   },
   "source": [
    "# OUTPUTS: Export data to excel"
   ]
  },
  {
   "cell_type": "code",
   "execution_count": null,
   "metadata": {},
   "outputs": [],
   "source": [
    "%%time\r\n",
    "\r\n",
    "# Set output directory\r\n",
    "outputs_dir = set_outputs_dir(use_default=True)  # default `..\\data\\interim`\r\n",
    "\r\n",
    "## Export dataframe to excel\r\n",
    "excelName = \"data-full-only-in-pubchem.xlsx\"\r\n",
    "\r\n",
    "df_readme = make_readme_info(\r\n",
    "    excelName,\r\n",
    "    \"Sheet1: Dataframe with columns as specified below, \"\r\n",
    "    \"filtered only for chemicals found in PubChem database.\"\r\n",
    "    \"\\nMETADATA: list of relevant metadata used in Sheet1.\"\r\n",
    "    \"\\nMETHODS: list of LCIA methods used in Sheet1.\"\r\n",
    "    \"\\nTL_METHODS: list of TL in PBs used in Sheet1.\"\r\n",
    "    \"\\n[METHODS + METADATA + TL_METHODS have to be the only column labels in Sheet1]\",\r\n",
    ")\r\n",
    "\r\n",
    "w_excel(\r\n",
    "    path_to_file=outputs_dir,\r\n",
    "    filename=excelName,\r\n",
    "    dict_data_to_write={\r\n",
    "        \"Sheet1\": df_base_full_in_pubchem,\r\n",
    "        \"METADATA\": df_metadata,\r\n",
    "        \"METHODS\": df_methods,\r\n",
    "        \"TL_METHODS\": df_tl_methods,\r\n",
    "    },\r\n",
    "    readme_info=(\"readme\", df_readme),\r\n",
    "    #     ExcelWriter_kwargs={\"engine\": \"openpyxl\", \"encoding\": \"UTF-8\"}\r\n",
    "    #     startrow=0\r\n",
    ")"
   ]
  }
 ],
 "metadata": {
  "interpreter": {
   "hash": "9489b3ab259203fc89b41b59b1c9505ba2c8026e5192f8150ec0d58222a3f16b"
  },
  "kernelspec": {
   "display_name": "Python 3.8.5 64-bit ('17-AESA_ecoinvent_chemicals': virtualenv)",
   "name": "python3"
  },
  "language_info": {
   "codemirror_mode": {
    "name": "ipython",
    "version": 3
   },
   "file_extension": ".py",
   "mimetype": "text/x-python",
   "name": "python",
   "nbconvert_exporter": "python",
   "pygments_lexer": "ipython3",
   "version": "3.8.5"
  },
  "toc-autonumbering": false,
  "toc-showcode": false,
  "toc-showmarkdowntxt": false,
  "toc-showtags": false
 },
 "nbformat": 4,
 "nbformat_minor": 4
}
