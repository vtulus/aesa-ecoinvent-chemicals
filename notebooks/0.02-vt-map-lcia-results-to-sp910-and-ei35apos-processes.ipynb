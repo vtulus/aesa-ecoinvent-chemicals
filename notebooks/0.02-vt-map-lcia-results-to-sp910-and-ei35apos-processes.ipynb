{
 "cells": [
  {
   "cell_type": "markdown",
   "metadata": {},
   "source": [
    "<div class=\"alert alert-block alert-info\">\n",
    "This script maps <b>LCIA results exported from SP910</b> against previously mapped <b>DB processes/activities SP910 and Ecoinvent v3.5 APOS</b>  \n",
    "    <hr> \n",
    "    Note: <br>\n",
    "    <i><b>Input file(s)' name(s) and metadata</b></i> (if available) are <b>printed out (below 👇🏼) in 'read data to df' section.</b>\n",
    "</div>"
   ]
  },
  {
   "cell_type": "markdown",
   "metadata": {},
   "source": [
    "# Imports"
   ]
  },
  {
   "cell_type": "code",
   "execution_count": null,
   "metadata": {},
   "outputs": [],
   "source": [
    "%config IPCompleter.use_jedi = False # disable jedi autocompleter (https://stackoverflow.com/a/65734178/14485040)\n",
    "\n",
    "import project_path  # makes possible the access to `src` directory using relative path\n",
    "from src.utils import explore_dir, make_readme_info\n",
    "from src.utils import read_excel_to_pandas as r_excel\n",
    "from src.utils import set_outputs_dir\n",
    "from src.utils import write_pandas_to_excel as w_excel\n",
    "\n",
    "%run init_nb.ipynb"
   ]
  },
  {
   "cell_type": "markdown",
   "metadata": {},
   "source": [
    "# INPUTS: Identify file(s) and read data to df"
   ]
  },
  {
   "cell_type": "code",
   "execution_count": null,
   "metadata": {},
   "outputs": [],
   "source": [
    "# Explore the directory to find the file(s)\n",
    "\n",
    "# --------------- LCIAresults file ----------------\n",
    "inputs_dir_1, files_list_1 = explore_dir(\n",
    "    path_to_dir=r\"..\\data\\interim\", file_extension=\"xlsx\", print_files_list=True,\n",
    ")\n",
    "print(\"--> nº of found files in\", inputs_dir_1, \": \", len(files_list_1), \"\\n\")\n",
    "\n",
    "# --------------- master mapped db file ----------------\n",
    "inputs_dir_2, files_list_2 = explore_dir(\n",
    "    path_to_dir=r\"..\\..\\18-BW2Hub\\02.Code\\Outputs\",\n",
    "    file_extension=\"xlsx\",\n",
    "    print_files_list=True,\n",
    ")\n",
    "print(\"--> nº of found files in\", inputs_dir_2, \": \", len(files_list_2))"
   ]
  },
  {
   "cell_type": "code",
   "execution_count": null,
   "metadata": {},
   "outputs": [],
   "source": [
    "%%time\n",
    "# Process raw data\n",
    "\n",
    "# LCIAs results from SimaPro\n",
    "df_lcias_raw = r_excel(\n",
    "    inputs_dir_1, \"lcia-results-from-sp910-combined.xlsx\", sheets=\"Sheet1\"\n",
    ")\n",
    "\n",
    "print(\n",
    "    \"df of LCIAs from SimaPro (raw) \".ljust(40, \".\"),\n",
    "    f\" {df_lcias_raw.shape}\".rjust(13, \".\"),\n",
    ")\n",
    "\n",
    "# master mapped db file\n",
    "df_master_mapped_db_raw = r_excel(\n",
    "    inputs_dir_2, \"mapped_processes_SP910-EI35APOS.xlsx\", sheets=\"Sheet1\"\n",
    ")\n",
    "print(\n",
    "    \"df of master mapped db (raw) \".ljust(40, \".\"),\n",
    "    f\" {df_master_mapped_db_raw.shape}\".rjust(13, \".\"),\n",
    ")"
   ]
  },
  {
   "cell_type": "code",
   "execution_count": null,
   "metadata": {},
   "outputs": [],
   "source": [
    "# Get unique names of the LCIA methods from 'LCIAresultsSP910-combined.xlsx'\n",
    "# This df is copied to the new Excel file degerated below.\n",
    "\n",
    "df_lcia_labels = r_excel(\n",
    "    inputs_dir_1, \"lcia-results-from-sp910-combined.xlsx\", sheets=\"df_lcia_labels\", show_readme=False,\n",
    ")\n",
    "df_lcia_labels"
   ]
  },
  {
   "cell_type": "markdown",
   "metadata": {},
   "source": [
    "# Operations"
   ]
  },
  {
   "cell_type": "markdown",
   "metadata": {
    "heading_collapsed": "true",
    "tags": []
   },
   "source": [
    "## Filter/adjust data"
   ]
  },
  {
   "cell_type": "code",
   "execution_count": null,
   "metadata": {},
   "outputs": [],
   "source": [
    "df_lcias = df_lcias_raw.copy() # make a deepcopy of the original df\n",
    "\n",
    "# Substitute \"APOS, U - copy\" in the original df with \"APOS, S\", according to the last added markets\n",
    "lst = []\n",
    "aposRegex = re.compile((r'APOS, (.*)')) # complied regular expression of \"APOS, U - copy\" to be replaced with \"APOS, S\"\n",
    "for item in df_lcias.Activity:\n",
    "    lst.append(aposRegex.sub(r'APOS, S', item))\n",
    "df_lcias.Activity = lst\n",
    "\n",
    "shape_lcias = df_lcias.shape\n",
    "print('df of LCIAs from SimaPro '.ljust(40,'.'), f' {shape_lcias}'.rjust(13, '.'))\n",
    "df_lcias.sample(2)"
   ]
  },
  {
   "cell_type": "code",
   "execution_count": null,
   "metadata": {},
   "outputs": [],
   "source": [
    "df_master_mapped_db = df_master_mapped_db_raw.copy() # make a deepcopy of the original df\n",
    "\n",
    "# Substitute \"APOS, U\" in the original df with \"APOS, S\", since the LCIAs are calculated with S-system instead of U-unit \n",
    "lst = []\n",
    "aposRegex = re.compile((r'APOS, (\\w+)')) # complied regular expression of \"APOS, U\" to be replaced with \"APOS, S\"\n",
    "for item in df_master_mapped_db.fullName_SimaPro:\n",
    "    lst.append(aposRegex.sub(r'APOS, S', item))\n",
    "df_master_mapped_db.fullName_SimaPro = lst\n",
    "\n",
    "shape_master_mapped = df_master_mapped_db.shape\n",
    "print('df of master mapped db'.ljust(40,'.'), f' {shape_master_mapped}'.rjust(13, '.'))\n",
    "\n",
    "df_master_mapped_db.sample(2)"
   ]
  },
  {
   "cell_type": "code",
   "execution_count": null,
   "metadata": {},
   "outputs": [],
   "source": [
    "df_master_mapped_db.columns"
   ]
  },
  {
   "cell_type": "markdown",
   "metadata": {
    "tags": []
   },
   "source": [
    "## Mapping"
   ]
  },
  {
   "cell_type": "code",
   "execution_count": null,
   "metadata": {},
   "outputs": [],
   "source": [
    "# Merge df_lcias with df_master_mapped_db on \"Activity\" and \"fullName_SimaPro\"\n",
    "df_merged = df_lcias.merge(df_master_mapped_db,\n",
    "                                 how='left',\n",
    "                                 left_on=['Activity'], \n",
    "                                 right_on=['fullName_SimaPro'],\n",
    "                                 suffixes=('_LCIArslts', '_SimaPro')\n",
    "                                )\n",
    "\n",
    "shape_merged = df_merged.shape\n",
    "# ----------------------------------\n",
    "\n",
    "print(\n",
    "    \"|\".rjust(8, \" \")\n",
    "    + \"LCIAs results\".center(15, \" \")\n",
    "    + \"|\"\n",
    "    + \"Master mapped db\".center(18, \" \")\n",
    ")\n",
    "print(\"\".center(41, \"-\"))\n",
    "print(\n",
    "    \"Total\"\n",
    "    + \"|\".rjust(3, \" \")\n",
    "    + f\"{shape_lcias[0]}\".center(15, \" \")\n",
    "    + \"|\"\n",
    "    + f\"{shape_master_mapped[0]}\".center(18, \" \")\n",
    ")\n",
    "print(\"\".center(41, \"-\"))\n",
    "print(\"Mapped |\", f\"{shape_merged[0]} items\".center(30, \" \"))\n",
    "print(\"\".center(41, \"-\"))\n",
    "\n",
    "print('Merged df '.ljust(15,'.'), f' {shape_merged}'.rjust(13, '.'))\n",
    "df_merged.sample(3)"
   ]
  },
  {
   "cell_type": "markdown",
   "metadata": {
    "tags": []
   },
   "source": [
    "### > Find unmatched activities and drop (if any)"
   ]
  },
  {
   "cell_type": "markdown",
   "metadata": {},
   "source": [
    "    (if there are any NaNs in columns \"on the right\" in merge function\n",
    "        e.g. 'fullName_SimaPro', or 'shortName_geo', \n",
    "    this means the activity was not matched, i.e. DOESN'T EXIST IN DF ON THE RIGHT)"
   ]
  },
  {
   "cell_type": "code",
   "execution_count": null,
   "metadata": {},
   "outputs": [],
   "source": [
    "print('CAUTION: These columns have at least one NaN entry:\\n')\n",
    "\n",
    "dict_nans = dict(zip(\n",
    "                    list(df_merged.columns[df_merged.isnull().any()]),      # .isnull() exactly the same as .isna()\n",
    "                    [col for col in df_merged.isnull().sum() if col != 0]\n",
    "                    )\n",
    "                )\n",
    "\n",
    "pprint.pprint(dict_nans)"
   ]
  },
  {
   "cell_type": "markdown",
   "metadata": {},
   "source": [
    "> <font color=red>'activityName_EI'</font> is a **required** field. MUST not have empty entries!"
   ]
  },
  {
   "cell_type": "code",
   "execution_count": null,
   "metadata": {},
   "outputs": [],
   "source": [
    "print('This is a list of activities from SimaPro not matched in Ecoinvent db:\\n')\n",
    "list(df_merged[df_merged.activityName_EI.isnull()].Activity)"
   ]
  },
  {
   "cell_type": "markdown",
   "metadata": {},
   "source": [
    "> (!) <span style='background:red'> WARNING:</span> Deinking emulsion, in paper production {GLO} is not in Ecoinvent database, only RoW and RER...<br>\n",
    "> Drop it from df.<br>"
   ]
  },
  {
   "cell_type": "code",
   "execution_count": null,
   "metadata": {},
   "outputs": [],
   "source": [
    "df_merged = df_merged.dropna(\n",
    "    axis=0, how=\"any\", subset=[\"activityName_EI\"], inplace=False\n",
    ")"
   ]
  },
  {
   "cell_type": "markdown",
   "metadata": {
    "tags": []
   },
   "source": [
    "### > Check duplicates (if any)"
   ]
  },
  {
   "cell_type": "code",
   "execution_count": null,
   "metadata": {},
   "outputs": [],
   "source": [
    "# Unique items per column\n",
    "print('nº of unique items per column:'.center(35))\n",
    "print(''.center(35,'-'))\n",
    "df_merged.nunique()"
   ]
  },
  {
   "cell_type": "code",
   "execution_count": null,
   "metadata": {},
   "outputs": [],
   "source": [
    "# Check for duplicates\n",
    "\n",
    "print('These are the \"duplicated\" items in column Activity:\\n')\n",
    "df_merged[df_merged.Activity.duplicated(False)]\n",
    "# df_merged.loc[85,'activityName_Ecoinvent']"
   ]
  },
  {
   "cell_type": "markdown",
   "metadata": {
    "heading_collapsed": "true",
    "tags": []
   },
   "source": [
    "## TEMPORTAL (inactive)"
   ]
  },
  {
   "cell_type": "raw",
   "metadata": {},
   "source": [
    "df_uniques = df_merged.drop_duplicates(subset=[\"category\", \"activity_ISICclass\"])[[\"wkbName\", \"category\", \"activity_ecoSpold01class\", \"activity_ISICclass\", \"referenceProduct_CPCclass\"]]\n",
    "df_uniques_groupedbyCategory = dict(list(df_uniques.groupby(by=\"category\")))\n",
    "dict_correspondence = {}\n",
    "for key in df_uniques_groupedbyCategory:\n",
    "    dict_correspondence[key] = df_uniques_groupedbyCategory[key].activity_ISICclass.unique() \n",
    "# dict_correspondence\n",
    "\n",
    "df_uniques_groupedbyISIC = dict(list(df_uniques.groupby(by=\"activity_ISICclass\")))\n",
    "rev_dict_correspondence = {}\n",
    "for key in df_uniques_groupedbyISIC:\n",
    "    rev_dict_correspondence[key] = df_uniques_groupedbyISIC[key].category.unique()\n",
    "# rev_dict_correspondence    "
   ]
  },
  {
   "cell_type": "raw",
   "metadata": {},
   "source": [
    "pd.DataFrame.from_dict(rev_dict_correspondence, orient=\"index\")"
   ]
  },
  {
   "cell_type": "raw",
   "metadata": {},
   "source": [
    "pprint.pprint(set(list(df_uniques[df_uniques.activity_ISICclass == \"2011:Manufacture of basic chemicals\"].referenceProduct_CPCclass)))"
   ]
  },
  {
   "cell_type": "raw",
   "metadata": {},
   "source": [
    "filter_df(df_uniques, col_name=\"referenceProduct_CPCclass\", filter_in=[\"34:\"])[\n",
    "    [\n",
    "#         \"Activity\",\n",
    "#         \"referenceProductName\",\n",
    "        \"category\",\n",
    "        \"activity_ISICclass\",\n",
    "        \"referenceProduct_CPCclass\",\n",
    "#         \"referenceProduct_casNumber\",\n",
    "    ]\n",
    "]"
   ]
  },
  {
   "cell_type": "raw",
   "metadata": {},
   "source": [
    "df_merged.columns\n",
    "# df_merged[[\"wkbName\", \"category\", \"activity_ecoSpold01class\", \"activity_ISICclass\", \"referenceProduct_CPCclass\"]].nunique()\n",
    "df_merged[[\"wkbName\", \"category\", \"activity_ecoSpold01class\", \"activity_ISICclass\", \"referenceProduct_CPCclass\"]].activity_ISICclass.unique()"
   ]
  },
  {
   "cell_type": "raw",
   "metadata": {},
   "source": [
    "# find=\"3821:Treatment and disposal of non-hazardous waste\"\n",
    "# find=\"0891:Mining of chemical and fertilizer minerals\"\n",
    "# find = \"19a: Liquid and gaseous fuels from biomass\"\n",
    "# find = \"0161:Support activities for crop production\"\n",
    "# find = \"20:Manufacture of chemicals and chemical products\"\n",
    "# find = \"0729:Mining of other non-ferrous metal ores\"\n",
    "find = \"2011:Manufacture of basic chemicals\"\n",
    "df_merged[df_merged.activity_ISICclass==find]"
   ]
  },
  {
   "cell_type": "raw",
   "metadata": {},
   "source": [
    "df_groupedbyISIC2011 = dict(list(df_merged.groupby(by=\"activity_ISICclass\")))[\"2011:Manufacture of basic chemicals\"]"
   ]
  },
  {
   "cell_type": "raw",
   "metadata": {},
   "source": [
    "pprint.pprint(set(list(df_groupedbyISIC2011.referenceProduct_CPCclass.sort_values(ascending=True))))"
   ]
  },
  {
   "cell_type": "raw",
   "metadata": {},
   "source": [
    "filter_df(\n",
    "    df_merged, col_name=\"referenceProduct_CPCclass\", filter_in=[\"34\"]\n",
    ").referenceProduct_CPCclass.sort_values()"
   ]
  },
  {
   "cell_type": "raw",
   "metadata": {},
   "source": [
    "idxes = []\n",
    "for idx in df_master_mapped_db.index: #referenceProduct_CPCclass:\n",
    "    if str(df_master_mapped_db.referenceProduct_CPCclass[idx]).startswith(\"34\"):\n",
    "        idxes.append(idx)\n",
    "        \n",
    "df_CPC34_EI = filter_df(df_master_mapped_db.iloc[idxes], col_name=\"activityName_EI\", filter_in=[\"market for\"])"
   ]
  },
  {
   "cell_type": "raw",
   "metadata": {},
   "source": [
    "# set(list(df_CPC34_EI.referenceProduct_CPCclass.sort_values()))"
   ]
  },
  {
   "cell_type": "raw",
   "metadata": {},
   "source": [
    "filter_df(df_CPC34_EI, col_name=\"referenceProduct_CPCclass\", filter_in=[\"348\"])#.category.unique()"
   ]
  },
  {
   "cell_type": "raw",
   "metadata": {},
   "source": [
    "# df_merged.columns"
   ]
  },
  {
   "cell_type": "raw",
   "metadata": {},
   "source": [
    "df_merged.index"
   ]
  },
  {
   "cell_type": "raw",
   "metadata": {},
   "source": [
    "# len(idxesother)\n",
    "# df_merged.loc[idxesother]"
   ]
  },
  {
   "cell_type": "raw",
   "metadata": {},
   "source": [
    "idxesother = []\n",
    "for idx in df_merged.index: #referenceProduct_CPCclass:\n",
    "    if str(df_merged.referenceProduct_CPCclass[idx]).startswith(\"34\"):\n",
    "        idxesother.append(idx)\n",
    "        \n",
    "df_CPC34_merged = filter_df(df_merged.loc[idxesother], col_name=\"activityName_EI\", filter_in=[\"market for\"])\n",
    "# df_CPC34_merged"
   ]
  },
  {
   "cell_type": "raw",
   "metadata": {},
   "source": [
    "filter_df(df_CPC34_merged, col_name=\"referenceProduct_CPCclass\", filter_in=[\"348\"])#.category.unique()"
   ]
  },
  {
   "cell_type": "raw",
   "metadata": {},
   "source": [
    "762-633"
   ]
  },
  {
   "cell_type": "raw",
   "metadata": {},
   "source": [
    "pprint.pprint(\n",
    "    set(\n",
    "        list(\n",
    "            filter_df(\n",
    "                df_merged, col_name=\"referenceProduct_CPCclass\", filter_in=[\"34\"]\n",
    "            ).referenceProduct_CPCclass.sort_values()\n",
    "        )\n",
    "    )\n",
    ")"
   ]
  },
  {
   "cell_type": "raw",
   "metadata": {},
   "source": [
    "pprint.pprint(\n",
    "    set(\n",
    "        list(\n",
    "            filter_df(\n",
    "                df_master_mapped_db, col_name=\"referenceProduct_CPCclass\", filter_in=[\"34\"]\n",
    "            ).referenceProduct_CPCclass.sort_values()\n",
    "        )\n",
    "    )\n",
    ")"
   ]
  },
  {
   "cell_type": "raw",
   "metadata": {},
   "source": [
    "df_master_mapped_db.columns\n",
    "# find = \"0729:Mining of other non-ferrous metal ores\"\n",
    "find = \"2011:Manufacture of basic chemicals\"\n",
    "df_trial = df_master_mapped_db[df_master_mapped_db.activity_ISICclass==find]\n",
    "df_trial"
   ]
  },
  {
   "cell_type": "raw",
   "metadata": {},
   "source": [
    "filter_df(df_trial, col_name=\"activityName_EI\", filter_in=[\"market for\"])"
   ]
  },
  {
   "cell_type": "markdown",
   "metadata": {},
   "source": [
    "# OUTPUTS: Export data to excel"
   ]
  },
  {
   "cell_type": "code",
   "execution_count": null,
   "metadata": {},
   "outputs": [],
   "source": [
    "%%time\n",
    "\n",
    "# Set output directory\n",
    "outputs_dir = set_outputs_dir(use_default=True)  # default `..\\data\\interim`\n",
    "\n",
    "## Export dataframe to excel\n",
    "excelName = \"mapped-lcia-results.xlsx\"\n",
    "\n",
    "df_readme = make_readme_info(\n",
    "    excelName,\n",
    "    \"Sheet1: LCIA method results (per category) for ALL chemical markets from SimaPro910 \"\n",
    "    \"mapped against metadata from Ecoinvent v3.5 APOS. \"\n",
    "    \"\\ndf_lcia_labels: unique names of the LCIA methods used in Sheet1.\",\n",
    ")\n",
    "\n",
    "w_excel(\n",
    "    path_to_file=outputs_dir,\n",
    "    filename=excelName,\n",
    "    dict_data_to_write={\"Sheet1\": df_merged, \"df_lcia_labels\": df_lcia_labels},\n",
    "    readme_info=(\"readme\", df_readme),\n",
    "    ####         ExcelWriter_kwargs={\"engine\": \"openpyxl\", \"encoding\": \"UTF-8\"}\n",
    "    #     startrow=0\n",
    ")"
   ]
  }
 ],
 "metadata": {
  "kernelspec": {
   "display_name": "Python (proj17)",
   "language": "python",
   "name": "17-conda-env"
  },
  "language_info": {
   "codemirror_mode": {
    "name": "ipython",
    "version": 3
   },
   "file_extension": ".py",
   "mimetype": "text/x-python",
   "name": "python",
   "nbconvert_exporter": "python",
   "pygments_lexer": "ipython3",
   "version": "3.8.5"
  }
 },
 "nbformat": 4,
 "nbformat_minor": 4
}
