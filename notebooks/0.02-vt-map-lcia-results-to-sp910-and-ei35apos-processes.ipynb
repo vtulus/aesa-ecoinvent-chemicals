{
 "cells": [
  {
   "cell_type": "markdown",
   "metadata": {},
   "source": [
    "<div class=\"alert alert-block alert-info\">\n",
    "This script maps <b>LCIA results exported from SP910</b> against previously mapped <b>DB processes/activities SP910 and Ecoinvent v3.5 APOS</b>  \n",
    "    <hr> \n",
    "    Note: <br>\n",
    "    <i><b>Input file(s)' name(s) and metadata</b></i> (if available) are <b>printed out (below 👇🏼) in 'read data to df' section.</b>\n",
    "</div>"
   ]
  },
  {
   "cell_type": "markdown",
   "metadata": {},
   "source": [
    "# Imports"
   ]
  },
  {
   "cell_type": "code",
   "execution_count": 1,
   "metadata": {},
   "outputs": [],
   "source": [
    "%config IPCompleter.use_jedi = False # disable jedi autocompleter (https://stackoverflow.com/a/65734178/14485040)\n",
    "\n",
    "import project_path  # makes possible the access to `src` directory using relative path\n",
    "from src.utils import explore_dir, make_readme_info\n",
    "from src.utils import read_excel_to_pandas as r_excel\n",
    "from src.utils import set_outputs_dir\n",
    "from src.utils import write_pandas_to_excel as w_excel\n",
    "\n",
    "%run init_nb.ipynb"
   ]
  },
  {
   "cell_type": "markdown",
   "metadata": {},
   "source": [
    "# INPUTS: Identify file(s) and read data to df"
   ]
  },
  {
   "cell_type": "code",
   "execution_count": 2,
   "metadata": {},
   "outputs": [
    {
     "name": "stdout",
     "output_type": "stream",
     "text": [
      "['lcia-results-from-sp910-combined.xlsx']\n",
      "--> nº of found files in C:\\Users\\ViteksPC\\Documents\\00-ETH_projects\\17-AESA_ecoinvent_chemicals\\data\\lcaforsac :  1 \n",
      "\n",
      "['ecoinvent_3.5_apos_activities_db-extracted.xlsx',\n",
      " 'mapped_processes_SP910-EI35APOS.xlsx',\n",
      " 'RybergMethod_CFs_PB-LCIA_ecoinvent_linkage_V2.037_V2037-extracted.xlsx',\n",
      " 'SP910_Impact_CFs_PBs-LCIA_(baseline)_V072-extracted.xlsx',\n",
      " 'SP910_Impact_CFs_ReCiPe_Midpoint_(H)_V113-extracted.xlsx',\n",
      " 'SP910_processes_db-extracted.xlsx',\n",
      " 'SP910_substances-extracted.xlsx',\n",
      " 'subcompartments_mapped.xlsx']\n",
      "--> nº of found files in C:\\Users\\ViteksPC\\Documents\\00-ETH_projects\\18-BW2Hub\\02.Code\\Outputs :  8\n"
     ]
    }
   ],
   "source": [
    "# Explore the directory to find the file(s)\n",
    "\n",
    "# --------------- LCIAresults file ----------------\n",
    "inputs_dir_1, files_list_1 = explore_dir(\n",
    "    path_to_dir=r\"..\\data\\lcaforsac\", file_extension=\"xlsx\", print_files_list=True,\n",
    ")\n",
    "print(\"--> nº of found files in\", inputs_dir_1, \": \", len(files_list_1), \"\\n\")\n",
    "\n",
    "# --------------- master mapped db file ----------------\n",
    "inputs_dir_2, files_list_2 = explore_dir(\n",
    "    path_to_dir=r\"..\\..\\18-BW2Hub\\02.Code\\Outputs\",\n",
    "    file_extension=\"xlsx\",\n",
    "    print_files_list=True,\n",
    ")\n",
    "print(\"--> nº of found files in\", inputs_dir_2, \": \", len(files_list_2))"
   ]
  },
  {
   "cell_type": "code",
   "execution_count": 3,
   "metadata": {},
   "outputs": [
    {
     "name": "stdout",
     "output_type": "stream",
     "text": [
      "\n",
      "===> Trying to load 'readme' data... ===\n",
      "File: lcia-results-from-sp910-combined.xlsx from\n",
      "C:\\Users\\ViteksPC\\Documents\\00-ETH_projects\\17-AESA_ecoinvent_chemicals\\notebooks\\0.01-vt-parse-lcia-results-from-sp910.ipynb\n",
      "Generated on 2021-12-03 (Friday), 16:30:50 by Tulus, V.\n",
      "Includes:\n",
      "<<<\n",
      "Sheet1: Multiple LCIA methods results (per category) for ALL chemical markets from SimaPro910. \n",
      "df_lcia_labels: unique names of the LCIA methods used in Sheet1.\n",
      ">>>\n",
      "========================================\n",
      "\n",
      "df of LCIAs from SimaPro (raw) ......... ... (947, 64)\n",
      "\n",
      "===> Trying to load 'readme' data... ===\n",
      "File: mapped_processes_SP910-EI35APOS.xlsx from\n",
      "C:\\Users\\ViteksPC\\Documents\\00-ETH_projects\\18-BW2Hub\\02.Code\\05.map_processes_SP910-EI35APOS.ipynb\n",
      "Generated on 2021-05-12 (Wednesday), 16:44:58 by Tulus, V.\n",
      "Includes:\n",
      "<<<\n",
      "Mapped SimaPro910 (with EI35-APOS) processes against Ecoinvent v3.5 APOS activities. Note: for now only 18 activities from Ecoinvent remain unmapped after automatic mapping. Manual refinement is needed.\n",
      ">>>\n",
      "========================================\n",
      "\n",
      "df of master mapped db (raw) ........... . (16027, 29)\n",
      "Wall time: 10.2 s\n"
     ]
    }
   ],
   "source": [
    "%%time\n",
    "# Process raw data\n",
    "\n",
    "# LCIAs results from SimaPro\n",
    "df_lcias_raw = r_excel(\n",
    "    inputs_dir_1, \"lcia-results-from-sp910-combined.xlsx\", sheets=\"Sheet1\"\n",
    ")\n",
    "\n",
    "print(\n",
    "    \"df of LCIAs from SimaPro (raw) \".ljust(40, \".\"),\n",
    "    f\" {df_lcias_raw.shape}\".rjust(13, \".\"),\n",
    ")\n",
    "\n",
    "# master mapped db file\n",
    "df_master_mapped_db_raw = r_excel(\n",
    "    inputs_dir_2, \"mapped_processes_SP910-EI35APOS.xlsx\", sheets=\"Sheet1\"\n",
    ")\n",
    "print(\n",
    "    \"df of master mapped db (raw) \".ljust(40, \".\"),\n",
    "    f\" {df_master_mapped_db_raw.shape}\".rjust(13, \".\"),\n",
    ")"
   ]
  },
  {
   "cell_type": "code",
   "execution_count": 4,
   "metadata": {},
   "outputs": [
    {
     "data": {
      "text/html": [
       "<div>\n",
       "<style scoped>\n",
       "    .dataframe tbody tr th:only-of-type {\n",
       "        vertical-align: middle;\n",
       "    }\n",
       "\n",
       "    .dataframe tbody tr th {\n",
       "        vertical-align: top;\n",
       "    }\n",
       "\n",
       "    .dataframe thead th {\n",
       "        text-align: right;\n",
       "    }\n",
       "</style>\n",
       "<table border=\"1\" class=\"dataframe\">\n",
       "  <thead>\n",
       "    <tr style=\"text-align: right;\">\n",
       "      <th></th>\n",
       "      <th>Method</th>\n",
       "    </tr>\n",
       "  </thead>\n",
       "  <tbody>\n",
       "    <tr>\n",
       "      <th>0</th>\n",
       "      <td>ReCiPe 2016 Midpoint (H) V1.03 / World (2010) H</td>\n",
       "    </tr>\n",
       "    <tr>\n",
       "      <th>1</th>\n",
       "      <td>PBs-LCIA (baseline) V0.72</td>\n",
       "    </tr>\n",
       "    <tr>\n",
       "      <th>2</th>\n",
       "      <td>PBs - Alternative: EF - LANCA V0.70</td>\n",
       "    </tr>\n",
       "    <tr>\n",
       "      <th>3</th>\n",
       "      <td>ReCiPe 2016 Endpoint (H) V1.03 / World (2010) H/A</td>\n",
       "    </tr>\n",
       "    <tr>\n",
       "      <th>4</th>\n",
       "      <td>Cumulative Energy Demand V1.11 / Cumulative en...</td>\n",
       "    </tr>\n",
       "    <tr>\n",
       "      <th>5</th>\n",
       "      <td>IPCC 2013 GWP 100a V1.03</td>\n",
       "    </tr>\n",
       "    <tr>\n",
       "      <th>6</th>\n",
       "      <td>PBs-LCIA V0.71 V0.71</td>\n",
       "    </tr>\n",
       "  </tbody>\n",
       "</table>\n",
       "</div>"
      ],
      "text/plain": [
       "                                              Method\n",
       "0    ReCiPe 2016 Midpoint (H) V1.03 / World (2010) H\n",
       "1                          PBs-LCIA (baseline) V0.72\n",
       "2                PBs - Alternative: EF - LANCA V0.70\n",
       "3  ReCiPe 2016 Endpoint (H) V1.03 / World (2010) H/A\n",
       "4  Cumulative Energy Demand V1.11 / Cumulative en...\n",
       "5                           IPCC 2013 GWP 100a V1.03\n",
       "6                               PBs-LCIA V0.71 V0.71"
      ]
     },
     "execution_count": 4,
     "metadata": {},
     "output_type": "execute_result"
    }
   ],
   "source": [
    "# Get unique names of the LCIA methods from 'LCIAresultsSP910-combined.xlsx'\n",
    "# This df is copied to the new Excel file degerated below.\n",
    "\n",
    "df_lcia_labels = r_excel(\n",
    "    inputs_dir_1, \"lcia-results-from-sp910-combined.xlsx\", sheets=\"df_lcia_labels\", show_readme=False,\n",
    ")\n",
    "df_lcia_labels"
   ]
  },
  {
   "cell_type": "markdown",
   "metadata": {},
   "source": [
    "# Operations"
   ]
  },
  {
   "cell_type": "markdown",
   "metadata": {
    "tags": []
   },
   "source": [
    "## Filter/adjust data"
   ]
  },
  {
   "cell_type": "code",
   "execution_count": 6,
   "metadata": {},
   "outputs": [
    {
     "name": "stdout",
     "output_type": "stream",
     "text": [
      "df of LCIAs from SimaPro ............... ... (947, 64)\n"
     ]
    },
    {
     "data": {
      "text/html": [
       "<div>\n",
       "<style scoped>\n",
       "    .dataframe tbody tr th:only-of-type {\n",
       "        vertical-align: middle;\n",
       "    }\n",
       "\n",
       "    .dataframe tbody tr th {\n",
       "        vertical-align: top;\n",
       "    }\n",
       "\n",
       "    .dataframe thead th {\n",
       "        text-align: right;\n",
       "    }\n",
       "</style>\n",
       "<table border=\"1\" class=\"dataframe\">\n",
       "  <thead>\n",
       "    <tr style=\"text-align: right;\">\n",
       "      <th></th>\n",
       "      <th>wkbName</th>\n",
       "      <th>Activity</th>\n",
       "      <th>('PBs-LCIA V0.71 V0.71', 'Climate change - CO2 concentration', 'ppm')</th>\n",
       "      <th>('PBs-LCIA V0.71 V0.71', 'Climate change - Energy imbalance', 'Wm-2')</th>\n",
       "      <th>('PBs-LCIA V0.71 V0.71', 'Stratospheric ozone depletion', 'DU')</th>\n",
       "      <th>('PBs-LCIA V0.71 V0.71', 'Ocean acidification', 'Omega Aragon')</th>\n",
       "      <th>('PBs-LCIA V0.71 V0.71', 'Biogeochemical flows - P', 'Tg P')</th>\n",
       "      <th>('PBs-LCIA V0.71 V0.71', 'Biogeochemical flows - N', 'Tg N')</th>\n",
       "      <th>('PBs-LCIA V0.71 V0.71', 'Land-system change - Global', '%')</th>\n",
       "      <th>('PBs-LCIA V0.71 V0.71', 'Freshwater use - Global', 'km3')</th>\n",
       "      <th>...</th>\n",
       "      <th>('ReCiPe 2016 Endpoint (H) V1.03 / World (2010) H/A', 'Human health', 'DALY')</th>\n",
       "      <th>('ReCiPe 2016 Endpoint (H) V1.03 / World (2010) H/A', 'Ecosystems', 'species.yr')</th>\n",
       "      <th>('ReCiPe 2016 Endpoint (H) V1.03 / World (2010) H/A', 'Resources', 'USD2013')</th>\n",
       "      <th>('IPCC 2013 GWP 100a V1.03', 'IPCC GWP 100a', 'kg CO2 eq')</th>\n",
       "      <th>('Cumulative Energy Demand V1.11 / Cumulative energy demand', 'Non renewable, fossil', 'MJ')</th>\n",
       "      <th>('Cumulative Energy Demand V1.11 / Cumulative energy demand', 'Non-renewable, nuclear', 'MJ')</th>\n",
       "      <th>('Cumulative Energy Demand V1.11 / Cumulative energy demand', 'Non-renewable, biomass', 'MJ')</th>\n",
       "      <th>('Cumulative Energy Demand V1.11 / Cumulative energy demand', 'Renewable, biomass', 'MJ')</th>\n",
       "      <th>('Cumulative Energy Demand V1.11 / Cumulative energy demand', 'Renewable, wind, solar, geothe', 'MJ')</th>\n",
       "      <th>('Cumulative Energy Demand V1.11 / Cumulative energy demand', 'Renewable, water', 'MJ')</th>\n",
       "    </tr>\n",
       "  </thead>\n",
       "  <tbody>\n",
       "    <tr>\n",
       "      <th>537</th>\n",
       "      <td>Chemicals-Organic-Market</td>\n",
       "      <td>Monoethanolamine {GLO}| market for | APOS, S</td>\n",
       "      <td>6.773613e-11</td>\n",
       "      <td>9.084333e-13</td>\n",
       "      <td>7.900254e-15</td>\n",
       "      <td>2.069843e-13</td>\n",
       "      <td>8.271784e-16</td>\n",
       "      <td>1.414589e-10</td>\n",
       "      <td>3.623812e-16</td>\n",
       "      <td>4.987075e-12</td>\n",
       "      <td>...</td>\n",
       "      <td>0.000006</td>\n",
       "      <td>1.214697e-08</td>\n",
       "      <td>0.541646</td>\n",
       "      <td>2.816783</td>\n",
       "      <td>66.056701</td>\n",
       "      <td>4.179401</td>\n",
       "      <td>0.000727</td>\n",
       "      <td>0.493512</td>\n",
       "      <td>0.271767</td>\n",
       "      <td>1.087382</td>\n",
       "    </tr>\n",
       "    <tr>\n",
       "      <th>80</th>\n",
       "      <td>Chemicals-Gases-Liquified-Market</td>\n",
       "      <td>Nitrogen, liquid {RoW}| market for | APOS, S</td>\n",
       "      <td>1.121245e-11</td>\n",
       "      <td>1.539825e-13</td>\n",
       "      <td>2.254442e-15</td>\n",
       "      <td>3.426240e-14</td>\n",
       "      <td>2.720370e-17</td>\n",
       "      <td>1.756538e-14</td>\n",
       "      <td>4.546495e-17</td>\n",
       "      <td>9.750602e-13</td>\n",
       "      <td>...</td>\n",
       "      <td>0.000001</td>\n",
       "      <td>2.105013e-09</td>\n",
       "      <td>0.021529</td>\n",
       "      <td>0.458012</td>\n",
       "      <td>5.346593</td>\n",
       "      <td>0.690546</td>\n",
       "      <td>0.000064</td>\n",
       "      <td>0.044886</td>\n",
       "      <td>0.073176</td>\n",
       "      <td>0.388040</td>\n",
       "    </tr>\n",
       "  </tbody>\n",
       "</table>\n",
       "<p>2 rows × 64 columns</p>\n",
       "</div>"
      ],
      "text/plain": [
       "                              wkbName  \\\n",
       "537          Chemicals-Organic-Market   \n",
       "80   Chemicals-Gases-Liquified-Market   \n",
       "\n",
       "                                         Activity  \\\n",
       "537  Monoethanolamine {GLO}| market for | APOS, S   \n",
       "80   Nitrogen, liquid {RoW}| market for | APOS, S   \n",
       "\n",
       "     ('PBs-LCIA V0.71 V0.71', 'Climate change - CO2 concentration', 'ppm')  \\\n",
       "537                                       6.773613e-11                       \n",
       "80                                        1.121245e-11                       \n",
       "\n",
       "     ('PBs-LCIA V0.71 V0.71', 'Climate change - Energy imbalance', 'Wm-2')  \\\n",
       "537                                       9.084333e-13                       \n",
       "80                                        1.539825e-13                       \n",
       "\n",
       "     ('PBs-LCIA V0.71 V0.71', 'Stratospheric ozone depletion', 'DU')  \\\n",
       "537                                       7.900254e-15                 \n",
       "80                                        2.254442e-15                 \n",
       "\n",
       "     ('PBs-LCIA V0.71 V0.71', 'Ocean acidification', 'Omega Aragon')  \\\n",
       "537                                       2.069843e-13                 \n",
       "80                                        3.426240e-14                 \n",
       "\n",
       "     ('PBs-LCIA V0.71 V0.71', 'Biogeochemical flows - P', 'Tg P')  \\\n",
       "537                                       8.271784e-16              \n",
       "80                                        2.720370e-17              \n",
       "\n",
       "     ('PBs-LCIA V0.71 V0.71', 'Biogeochemical flows - N', 'Tg N')  \\\n",
       "537                                       1.414589e-10              \n",
       "80                                        1.756538e-14              \n",
       "\n",
       "     ('PBs-LCIA V0.71 V0.71', 'Land-system change - Global', '%')  \\\n",
       "537                                       3.623812e-16              \n",
       "80                                        4.546495e-17              \n",
       "\n",
       "     ('PBs-LCIA V0.71 V0.71', 'Freshwater use - Global', 'km3')  ...  \\\n",
       "537                                       4.987075e-12           ...   \n",
       "80                                        9.750602e-13           ...   \n",
       "\n",
       "     ('ReCiPe 2016 Endpoint (H) V1.03 / World (2010) H/A', 'Human health', 'DALY')  \\\n",
       "537                                           0.000006                               \n",
       "80                                            0.000001                               \n",
       "\n",
       "     ('ReCiPe 2016 Endpoint (H) V1.03 / World (2010) H/A', 'Ecosystems', 'species.yr')  \\\n",
       "537                                       1.214697e-08                                   \n",
       "80                                        2.105013e-09                                   \n",
       "\n",
       "     ('ReCiPe 2016 Endpoint (H) V1.03 / World (2010) H/A', 'Resources', 'USD2013')  \\\n",
       "537                                           0.541646                               \n",
       "80                                            0.021529                               \n",
       "\n",
       "     ('IPCC 2013 GWP 100a V1.03', 'IPCC GWP 100a', 'kg CO2 eq')  \\\n",
       "537                                           2.816783            \n",
       "80                                            0.458012            \n",
       "\n",
       "     ('Cumulative Energy Demand V1.11 / Cumulative energy demand', 'Non renewable, fossil', 'MJ')  \\\n",
       "537                                          66.056701                                              \n",
       "80                                            5.346593                                              \n",
       "\n",
       "     ('Cumulative Energy Demand V1.11 / Cumulative energy demand', 'Non-renewable, nuclear', 'MJ')  \\\n",
       "537                                           4.179401                                               \n",
       "80                                            0.690546                                               \n",
       "\n",
       "     ('Cumulative Energy Demand V1.11 / Cumulative energy demand', 'Non-renewable, biomass', 'MJ')  \\\n",
       "537                                           0.000727                                               \n",
       "80                                            0.000064                                               \n",
       "\n",
       "     ('Cumulative Energy Demand V1.11 / Cumulative energy demand', 'Renewable, biomass', 'MJ')  \\\n",
       "537                                           0.493512                                           \n",
       "80                                            0.044886                                           \n",
       "\n",
       "     ('Cumulative Energy Demand V1.11 / Cumulative energy demand', 'Renewable, wind, solar, geothe', 'MJ')  \\\n",
       "537                                           0.271767                                                       \n",
       "80                                            0.073176                                                       \n",
       "\n",
       "     ('Cumulative Energy Demand V1.11 / Cumulative energy demand', 'Renewable, water', 'MJ')  \n",
       "537                                           1.087382                                        \n",
       "80                                            0.388040                                        \n",
       "\n",
       "[2 rows x 64 columns]"
      ]
     },
     "execution_count": 6,
     "metadata": {},
     "output_type": "execute_result"
    }
   ],
   "source": [
    "df_lcias = df_lcias_raw.copy() # make a deepcopy of the original df\n",
    "\n",
    "# Substitute \"APOS, U - copy\" in the original df with \"APOS, S\", according to the last added markets\n",
    "lst = []\n",
    "aposRegex = re.compile((r'APOS, (.*)')) # complied regular expression of \"APOS, U - copy\" to be replaced with \"APOS, S\"\n",
    "for item in df_lcias.Activity:\n",
    "    lst.append(aposRegex.sub(r'APOS, S', item))\n",
    "df_lcias.Activity = lst\n",
    "\n",
    "shape_lcias = df_lcias.shape\n",
    "print('df of LCIAs from SimaPro '.ljust(40,'.'), f' {shape_lcias}'.rjust(13, '.'))\n",
    "df_lcias.sample(2)"
   ]
  },
  {
   "cell_type": "code",
   "execution_count": 7,
   "metadata": {},
   "outputs": [
    {
     "name": "stdout",
     "output_type": "stream",
     "text": [
      "df of master mapped db.................. . (16027, 29)\n"
     ]
    },
    {
     "data": {
      "text/html": [
       "<div>\n",
       "<style scoped>\n",
       "    .dataframe tbody tr th:only-of-type {\n",
       "        vertical-align: middle;\n",
       "    }\n",
       "\n",
       "    .dataframe tbody tr th {\n",
       "        vertical-align: top;\n",
       "    }\n",
       "\n",
       "    .dataframe thead th {\n",
       "        text-align: right;\n",
       "    }\n",
       "</style>\n",
       "<table border=\"1\" class=\"dataframe\">\n",
       "  <thead>\n",
       "    <tr style=\"text-align: right;\">\n",
       "      <th></th>\n",
       "      <th>activity_comment</th>\n",
       "      <th>type</th>\n",
       "      <th>referenceProduct</th>\n",
       "      <th>shortName_geo</th>\n",
       "      <th>activityName_SP</th>\n",
       "      <th>fullName_SimaPro</th>\n",
       "      <th>unit</th>\n",
       "      <th>amount</th>\n",
       "      <th>allocation_percentage</th>\n",
       "      <th>wasteType</th>\n",
       "      <th>...</th>\n",
       "      <th>referenceProductUnit</th>\n",
       "      <th>referenceProduct_prodVolume</th>\n",
       "      <th>referenceProduct_prodVolumeComment</th>\n",
       "      <th>referenceProduct_price</th>\n",
       "      <th>referenceProduct_priceUnit</th>\n",
       "      <th>referenceProduct_priceComment</th>\n",
       "      <th>referenceProduct_casNumber</th>\n",
       "      <th>referenceProduct_CPCclass</th>\n",
       "      <th>activity_generalComment</th>\n",
       "      <th>sourceFilename</th>\n",
       "    </tr>\n",
       "  </thead>\n",
       "  <tbody>\n",
       "    <tr>\n",
       "      <th>14162</th>\n",
       "      <td>Production volume: 1846800000 kgIncluded ac...</td>\n",
       "      <td>Waste treatment</td>\n",
       "      <td>Waste gypsum</td>\n",
       "      <td>Europe without Switzerland</td>\n",
       "      <td>treatment of waste gypsum, inert material land...</td>\n",
       "      <td>Waste gypsum {Europe without Switzerland}| tre...</td>\n",
       "      <td>kg</td>\n",
       "      <td>1</td>\n",
       "      <td>(blank)</td>\n",
       "      <td>All waste types</td>\n",
       "      <td>...</td>\n",
       "      <td>kg</td>\n",
       "      <td>1.846800e+09</td>\n",
       "      <td>Estimated value. EU production of gypsum in 20...</td>\n",
       "      <td>0.0</td>\n",
       "      <td>EUR2005</td>\n",
       "      <td>0</td>\n",
       "      <td>13397-24-5</td>\n",
       "      <td>39: Wastes or scraps</td>\n",
       "      <td>NaN</td>\n",
       "      <td>25264_6e4b1d54-7056-413d-a7f2-372927e05b2a_27a...</td>\n",
       "    </tr>\n",
       "    <tr>\n",
       "      <th>7167</th>\n",
       "      <td>Rentz O., Karl U., Peter H. (2002). Ermittlung...</td>\n",
       "      <td>Products</td>\n",
       "      <td>Heat, district or industrial, other than natur...</td>\n",
       "      <td>CZ</td>\n",
       "      <td>treatment of coal gas, in power plant</td>\n",
       "      <td>Heat, district or industrial, other than natur...</td>\n",
       "      <td>MJ</td>\n",
       "      <td>1</td>\n",
       "      <td>100</td>\n",
       "      <td>not defined</td>\n",
       "      <td>...</td>\n",
       "      <td>MJ</td>\n",
       "      <td>4.165629e+08</td>\n",
       "      <td>NaN</td>\n",
       "      <td>NaN</td>\n",
       "      <td>NaN</td>\n",
       "      <td>NaN</td>\n",
       "      <td>NaN</td>\n",
       "      <td>17300: Steam and hot water</td>\n",
       "      <td>Rentz O., Karl U., Peter H. (2002). Ermittlung...</td>\n",
       "      <td>32300_84e48164-c191-4864-bbd1-a77dbe58daff_71e...</td>\n",
       "    </tr>\n",
       "  </tbody>\n",
       "</table>\n",
       "<p>2 rows × 29 columns</p>\n",
       "</div>"
      ],
      "text/plain": [
       "                                        activity_comment             type  \\\n",
       "14162  Production volume: 1846800000 kgIncluded ac...  Waste treatment   \n",
       "7167   Rentz O., Karl U., Peter H. (2002). Ermittlung...         Products   \n",
       "\n",
       "                                        referenceProduct  \\\n",
       "14162                                       Waste gypsum   \n",
       "7167   Heat, district or industrial, other than natur...   \n",
       "\n",
       "                    shortName_geo  \\\n",
       "14162  Europe without Switzerland   \n",
       "7167                           CZ   \n",
       "\n",
       "                                         activityName_SP  \\\n",
       "14162  treatment of waste gypsum, inert material land...   \n",
       "7167               treatment of coal gas, in power plant   \n",
       "\n",
       "                                        fullName_SimaPro unit  amount  \\\n",
       "14162  Waste gypsum {Europe without Switzerland}| tre...   kg       1   \n",
       "7167   Heat, district or industrial, other than natur...   MJ       1   \n",
       "\n",
       "      allocation_percentage        wasteType  ... referenceProductUnit  \\\n",
       "14162               (blank)  All waste types  ...                   kg   \n",
       "7167                    100      not defined  ...                   MJ   \n",
       "\n",
       "      referenceProduct_prodVolume  \\\n",
       "14162                1.846800e+09   \n",
       "7167                 4.165629e+08   \n",
       "\n",
       "                      referenceProduct_prodVolumeComment  \\\n",
       "14162  Estimated value. EU production of gypsum in 20...   \n",
       "7167                                                 NaN   \n",
       "\n",
       "      referenceProduct_price referenceProduct_priceUnit  \\\n",
       "14162                    0.0                    EUR2005   \n",
       "7167                     NaN                        NaN   \n",
       "\n",
       "      referenceProduct_priceComment  referenceProduct_casNumber  \\\n",
       "14162                             0                  13397-24-5   \n",
       "7167                            NaN                         NaN   \n",
       "\n",
       "        referenceProduct_CPCclass  \\\n",
       "14162        39: Wastes or scraps   \n",
       "7167   17300: Steam and hot water   \n",
       "\n",
       "                                 activity_generalComment  \\\n",
       "14162                                                NaN   \n",
       "7167   Rentz O., Karl U., Peter H. (2002). Ermittlung...   \n",
       "\n",
       "                                          sourceFilename  \n",
       "14162  25264_6e4b1d54-7056-413d-a7f2-372927e05b2a_27a...  \n",
       "7167   32300_84e48164-c191-4864-bbd1-a77dbe58daff_71e...  \n",
       "\n",
       "[2 rows x 29 columns]"
      ]
     },
     "execution_count": 7,
     "metadata": {},
     "output_type": "execute_result"
    }
   ],
   "source": [
    "df_master_mapped_db = df_master_mapped_db_raw.copy() # make a deepcopy of the original df\n",
    "\n",
    "# Substitute \"APOS, U\" in the original df with \"APOS, S\", since the LCIAs are calculated with S-system instead of U-unit \n",
    "lst = []\n",
    "aposRegex = re.compile((r'APOS, (\\w+)')) # complied regular expression of \"APOS, U\" to be replaced with \"APOS, S\"\n",
    "for item in df_master_mapped_db.fullName_SimaPro:\n",
    "    lst.append(aposRegex.sub(r'APOS, S', item))\n",
    "df_master_mapped_db.fullName_SimaPro = lst\n",
    "\n",
    "shape_master_mapped = df_master_mapped_db.shape\n",
    "print('df of master mapped db'.ljust(40,'.'), f' {shape_master_mapped}'.rjust(13, '.'))\n",
    "\n",
    "df_master_mapped_db.sample(2)"
   ]
  },
  {
   "cell_type": "code",
   "execution_count": 8,
   "metadata": {},
   "outputs": [
    {
     "data": {
      "text/plain": [
       "Index(['activity_comment', 'type', 'referenceProduct', 'shortName_geo',\n",
       "       'activityName_SP', 'fullName_SimaPro', 'unit', 'amount',\n",
       "       'allocation_percentage', 'wasteType', 'category', 'inline_comment',\n",
       "       'activityName_EI', 'geo', 'activity_ISICclass',\n",
       "       'activity_ecoSpold01class', 'technologyLevel', 'referenceProductName',\n",
       "       'referenceProductAmount', 'referenceProductUnit',\n",
       "       'referenceProduct_prodVolume', 'referenceProduct_prodVolumeComment',\n",
       "       'referenceProduct_price', 'referenceProduct_priceUnit',\n",
       "       'referenceProduct_priceComment', 'referenceProduct_casNumber',\n",
       "       'referenceProduct_CPCclass', 'activity_generalComment',\n",
       "       'sourceFilename'],\n",
       "      dtype='object')"
      ]
     },
     "execution_count": 8,
     "metadata": {},
     "output_type": "execute_result"
    }
   ],
   "source": [
    "df_master_mapped_db.columns"
   ]
  },
  {
   "cell_type": "markdown",
   "metadata": {
    "tags": []
   },
   "source": [
    "## Mapping"
   ]
  },
  {
   "cell_type": "code",
   "execution_count": 9,
   "metadata": {},
   "outputs": [
    {
     "name": "stdout",
     "output_type": "stream",
     "text": [
      "       | LCIAs results | Master mapped db \n",
      "-----------------------------------------\n",
      "Total  |      947      |      16027       \n",
      "-----------------------------------------\n",
      "Mapped |           947 items           \n",
      "-----------------------------------------\n",
      "Merged df ..... ... (947, 93)\n"
     ]
    },
    {
     "data": {
      "text/html": [
       "<div>\n",
       "<style scoped>\n",
       "    .dataframe tbody tr th:only-of-type {\n",
       "        vertical-align: middle;\n",
       "    }\n",
       "\n",
       "    .dataframe tbody tr th {\n",
       "        vertical-align: top;\n",
       "    }\n",
       "\n",
       "    .dataframe thead th {\n",
       "        text-align: right;\n",
       "    }\n",
       "</style>\n",
       "<table border=\"1\" class=\"dataframe\">\n",
       "  <thead>\n",
       "    <tr style=\"text-align: right;\">\n",
       "      <th></th>\n",
       "      <th>wkbName</th>\n",
       "      <th>Activity</th>\n",
       "      <th>('PBs-LCIA V0.71 V0.71', 'Climate change - CO2 concentration', 'ppm')</th>\n",
       "      <th>('PBs-LCIA V0.71 V0.71', 'Climate change - Energy imbalance', 'Wm-2')</th>\n",
       "      <th>('PBs-LCIA V0.71 V0.71', 'Stratospheric ozone depletion', 'DU')</th>\n",
       "      <th>('PBs-LCIA V0.71 V0.71', 'Ocean acidification', 'Omega Aragon')</th>\n",
       "      <th>('PBs-LCIA V0.71 V0.71', 'Biogeochemical flows - P', 'Tg P')</th>\n",
       "      <th>('PBs-LCIA V0.71 V0.71', 'Biogeochemical flows - N', 'Tg N')</th>\n",
       "      <th>('PBs-LCIA V0.71 V0.71', 'Land-system change - Global', '%')</th>\n",
       "      <th>('PBs-LCIA V0.71 V0.71', 'Freshwater use - Global', 'km3')</th>\n",
       "      <th>...</th>\n",
       "      <th>referenceProductUnit</th>\n",
       "      <th>referenceProduct_prodVolume</th>\n",
       "      <th>referenceProduct_prodVolumeComment</th>\n",
       "      <th>referenceProduct_price</th>\n",
       "      <th>referenceProduct_priceUnit</th>\n",
       "      <th>referenceProduct_priceComment</th>\n",
       "      <th>referenceProduct_casNumber</th>\n",
       "      <th>referenceProduct_CPCclass</th>\n",
       "      <th>activity_generalComment</th>\n",
       "      <th>sourceFilename</th>\n",
       "    </tr>\n",
       "  </thead>\n",
       "  <tbody>\n",
       "    <tr>\n",
       "      <th>331</th>\n",
       "      <td>Chemicals-Organic-Market</td>\n",
       "      <td>2-butanol {RER}| market for 2-butanol | APOS, S</td>\n",
       "      <td>9.510684e-11</td>\n",
       "      <td>1.264309e-12</td>\n",
       "      <td>7.606072e-15</td>\n",
       "      <td>2.906214e-13</td>\n",
       "      <td>6.673130e-16</td>\n",
       "      <td>1.378311e-13</td>\n",
       "      <td>2.928519e-16</td>\n",
       "      <td>1.794665e-11</td>\n",
       "      <td>...</td>\n",
       "      <td>kg</td>\n",
       "      <td>2.187500e+08</td>\n",
       "      <td>NaN</td>\n",
       "      <td>0.546</td>\n",
       "      <td>EUR2005</td>\n",
       "      <td>Temporary price data. Calculated as 90% of pur...</td>\n",
       "      <td>78-92-2</td>\n",
       "      <td>34139: Other alcohols, phenols, phenol-alcohol...</td>\n",
       "      <td>A regional market for Europe [RER] is motivate...</td>\n",
       "      <td>17071_ab64c2c0-344b-5338-a650-5ac7da58bc7a_dab...</td>\n",
       "    </tr>\n",
       "    <tr>\n",
       "      <th>594</th>\n",
       "      <td>Chemicals-Organic-Market</td>\n",
       "      <td>Sodium chloroacetate {GLO}| market for sodium ...</td>\n",
       "      <td>7.888528e-11</td>\n",
       "      <td>1.064015e-12</td>\n",
       "      <td>1.690498e-14</td>\n",
       "      <td>2.410521e-13</td>\n",
       "      <td>1.835611e-14</td>\n",
       "      <td>7.303715e-13</td>\n",
       "      <td>7.682507e-16</td>\n",
       "      <td>8.207565e-12</td>\n",
       "      <td>...</td>\n",
       "      <td>kg</td>\n",
       "      <td>3.477011e+08</td>\n",
       "      <td>NaN</td>\n",
       "      <td>1.070</td>\n",
       "      <td>EUR2005</td>\n",
       "      <td>Calculated based on inputs: The price of the p...</td>\n",
       "      <td>NaN</td>\n",
       "      <td>34140: Carboxylic acids and their anhydrides, ...</td>\n",
       "      <td>The transport amounts are based on the default...</td>\n",
       "      <td>17251_4edccd1a-561a-4c16-8620-85521c086931_2ee...</td>\n",
       "    </tr>\n",
       "    <tr>\n",
       "      <th>724</th>\n",
       "      <td>Chemicals-Pesticides-Market</td>\n",
       "      <td>[sulfonyl]urea-compound {GLO}| market for | AP...</td>\n",
       "      <td>2.639814e-10</td>\n",
       "      <td>3.621065e-12</td>\n",
       "      <td>2.951666e-13</td>\n",
       "      <td>8.066384e-13</td>\n",
       "      <td>2.268922e-14</td>\n",
       "      <td>4.926419e-11</td>\n",
       "      <td>1.530126e-15</td>\n",
       "      <td>2.136596e-11</td>\n",
       "      <td>...</td>\n",
       "      <td>kg</td>\n",
       "      <td>2.481147e+07</td>\n",
       "      <td>NaN</td>\n",
       "      <td>5.130</td>\n",
       "      <td>EUR2005</td>\n",
       "      <td>Calculated value based on data from United Nat...</td>\n",
       "      <td>NaN</td>\n",
       "      <td>34663: Herbicides, anti-sprouting products and...</td>\n",
       "      <td>In this market, expert judgement was used to d...</td>\n",
       "      <td>20598_273cd9e8-46e7-491f-a677-1f083bef8200_4c2...</td>\n",
       "    </tr>\n",
       "  </tbody>\n",
       "</table>\n",
       "<p>3 rows × 93 columns</p>\n",
       "</div>"
      ],
      "text/plain": [
       "                         wkbName  \\\n",
       "331     Chemicals-Organic-Market   \n",
       "594     Chemicals-Organic-Market   \n",
       "724  Chemicals-Pesticides-Market   \n",
       "\n",
       "                                              Activity  \\\n",
       "331    2-butanol {RER}| market for 2-butanol | APOS, S   \n",
       "594  Sodium chloroacetate {GLO}| market for sodium ...   \n",
       "724  [sulfonyl]urea-compound {GLO}| market for | AP...   \n",
       "\n",
       "     ('PBs-LCIA V0.71 V0.71', 'Climate change - CO2 concentration', 'ppm')  \\\n",
       "331                                       9.510684e-11                       \n",
       "594                                       7.888528e-11                       \n",
       "724                                       2.639814e-10                       \n",
       "\n",
       "     ('PBs-LCIA V0.71 V0.71', 'Climate change - Energy imbalance', 'Wm-2')  \\\n",
       "331                                       1.264309e-12                       \n",
       "594                                       1.064015e-12                       \n",
       "724                                       3.621065e-12                       \n",
       "\n",
       "     ('PBs-LCIA V0.71 V0.71', 'Stratospheric ozone depletion', 'DU')  \\\n",
       "331                                       7.606072e-15                 \n",
       "594                                       1.690498e-14                 \n",
       "724                                       2.951666e-13                 \n",
       "\n",
       "     ('PBs-LCIA V0.71 V0.71', 'Ocean acidification', 'Omega Aragon')  \\\n",
       "331                                       2.906214e-13                 \n",
       "594                                       2.410521e-13                 \n",
       "724                                       8.066384e-13                 \n",
       "\n",
       "     ('PBs-LCIA V0.71 V0.71', 'Biogeochemical flows - P', 'Tg P')  \\\n",
       "331                                       6.673130e-16              \n",
       "594                                       1.835611e-14              \n",
       "724                                       2.268922e-14              \n",
       "\n",
       "     ('PBs-LCIA V0.71 V0.71', 'Biogeochemical flows - N', 'Tg N')  \\\n",
       "331                                       1.378311e-13              \n",
       "594                                       7.303715e-13              \n",
       "724                                       4.926419e-11              \n",
       "\n",
       "     ('PBs-LCIA V0.71 V0.71', 'Land-system change - Global', '%')  \\\n",
       "331                                       2.928519e-16              \n",
       "594                                       7.682507e-16              \n",
       "724                                       1.530126e-15              \n",
       "\n",
       "     ('PBs-LCIA V0.71 V0.71', 'Freshwater use - Global', 'km3')  ...  \\\n",
       "331                                       1.794665e-11           ...   \n",
       "594                                       8.207565e-12           ...   \n",
       "724                                       2.136596e-11           ...   \n",
       "\n",
       "     referenceProductUnit  referenceProduct_prodVolume  \\\n",
       "331                    kg                 2.187500e+08   \n",
       "594                    kg                 3.477011e+08   \n",
       "724                    kg                 2.481147e+07   \n",
       "\n",
       "     referenceProduct_prodVolumeComment  referenceProduct_price  \\\n",
       "331                                 NaN                   0.546   \n",
       "594                                 NaN                   1.070   \n",
       "724                                 NaN                   5.130   \n",
       "\n",
       "     referenceProduct_priceUnit  \\\n",
       "331                     EUR2005   \n",
       "594                     EUR2005   \n",
       "724                     EUR2005   \n",
       "\n",
       "                         referenceProduct_priceComment  \\\n",
       "331  Temporary price data. Calculated as 90% of pur...   \n",
       "594  Calculated based on inputs: The price of the p...   \n",
       "724  Calculated value based on data from United Nat...   \n",
       "\n",
       "     referenceProduct_casNumber  \\\n",
       "331                     78-92-2   \n",
       "594                         NaN   \n",
       "724                         NaN   \n",
       "\n",
       "                             referenceProduct_CPCclass  \\\n",
       "331  34139: Other alcohols, phenols, phenol-alcohol...   \n",
       "594  34140: Carboxylic acids and their anhydrides, ...   \n",
       "724  34663: Herbicides, anti-sprouting products and...   \n",
       "\n",
       "                               activity_generalComment  \\\n",
       "331  A regional market for Europe [RER] is motivate...   \n",
       "594  The transport amounts are based on the default...   \n",
       "724  In this market, expert judgement was used to d...   \n",
       "\n",
       "                                        sourceFilename  \n",
       "331  17071_ab64c2c0-344b-5338-a650-5ac7da58bc7a_dab...  \n",
       "594  17251_4edccd1a-561a-4c16-8620-85521c086931_2ee...  \n",
       "724  20598_273cd9e8-46e7-491f-a677-1f083bef8200_4c2...  \n",
       "\n",
       "[3 rows x 93 columns]"
      ]
     },
     "execution_count": 9,
     "metadata": {},
     "output_type": "execute_result"
    }
   ],
   "source": [
    "# Merge df_lcias with df_master_mapped_db on \"Activity\" and \"fullName_SimaPro\"\n",
    "df_merged = df_lcias.merge(df_master_mapped_db,\n",
    "                                 how='left',\n",
    "                                 left_on=['Activity'], \n",
    "                                 right_on=['fullName_SimaPro'],\n",
    "                                 suffixes=('_LCIArslts', '_SimaPro')\n",
    "                                )\n",
    "\n",
    "shape_merged = df_merged.shape\n",
    "# ----------------------------------\n",
    "\n",
    "print(\n",
    "    \"|\".rjust(8, \" \")\n",
    "    + \"LCIAs results\".center(15, \" \")\n",
    "    + \"|\"\n",
    "    + \"Master mapped db\".center(18, \" \")\n",
    ")\n",
    "print(\"\".center(41, \"-\"))\n",
    "print(\n",
    "    \"Total\"\n",
    "    + \"|\".rjust(3, \" \")\n",
    "    + f\"{shape_lcias[0]}\".center(15, \" \")\n",
    "    + \"|\"\n",
    "    + f\"{shape_master_mapped[0]}\".center(18, \" \")\n",
    ")\n",
    "print(\"\".center(41, \"-\"))\n",
    "print(\"Mapped |\", f\"{shape_merged[0]} items\".center(30, \" \"))\n",
    "print(\"\".center(41, \"-\"))\n",
    "\n",
    "print('Merged df '.ljust(15,'.'), f' {shape_merged}'.rjust(13, '.'))\n",
    "df_merged.sample(3)"
   ]
  },
  {
   "cell_type": "markdown",
   "metadata": {
    "tags": []
   },
   "source": [
    "### > Find unmatched activities and drop (if any)"
   ]
  },
  {
   "cell_type": "markdown",
   "metadata": {},
   "source": [
    "    (if there are any NaNs in columns \"on the right\" in merge function\n",
    "        e.g. 'fullName_SimaPro', or 'shortName_geo', \n",
    "    this means the activity was not matched, i.e. DOESN'T EXIST IN DF ON THE RIGHT)"
   ]
  },
  {
   "cell_type": "code",
   "execution_count": 10,
   "metadata": {},
   "outputs": [
    {
     "name": "stdout",
     "output_type": "stream",
     "text": [
      "CAUTION: These columns have at least one NaN entry:\n",
      "\n",
      "{'activityName_EI': 1,\n",
      " 'activityName_SP': 1,\n",
      " 'activity_ISICclass': 1,\n",
      " 'activity_comment': 1,\n",
      " 'activity_ecoSpold01class': 408,\n",
      " 'activity_generalComment': 400,\n",
      " 'allocation_percentage': 1,\n",
      " 'amount': 1,\n",
      " 'category': 1,\n",
      " 'fullName_SimaPro': 1,\n",
      " 'geo': 1,\n",
      " 'inline_comment': 1,\n",
      " 'referenceProduct': 1,\n",
      " 'referenceProductAmount': 1,\n",
      " 'referenceProductName': 1,\n",
      " 'referenceProductUnit': 1,\n",
      " 'referenceProduct_CPCclass': 2,\n",
      " 'referenceProduct_casNumber': 517,\n",
      " 'referenceProduct_price': 7,\n",
      " 'referenceProduct_priceComment': 7,\n",
      " 'referenceProduct_priceUnit': 7,\n",
      " 'referenceProduct_prodVolume': 1,\n",
      " 'referenceProduct_prodVolumeComment': 935,\n",
      " 'shortName_geo': 1,\n",
      " 'sourceFilename': 1,\n",
      " 'technologyLevel': 265,\n",
      " 'type': 1,\n",
      " 'unit': 1,\n",
      " 'wasteType': 1}\n"
     ]
    }
   ],
   "source": [
    "print('CAUTION: These columns have at least one NaN entry:\\n')\n",
    "\n",
    "dict_nans = dict(zip(\n",
    "                    list(df_merged.columns[df_merged.isnull().any()]),      # .isnull() exactly the same as .isna()\n",
    "                    [col for col in df_merged.isnull().sum() if col != 0]\n",
    "                    )\n",
    "                )\n",
    "\n",
    "pprint.pprint(dict_nans)"
   ]
  },
  {
   "cell_type": "markdown",
   "metadata": {},
   "source": [
    "> <font color=red>'activityName_EI'</font> is a **required** field. MUST not have empty entries!"
   ]
  },
  {
   "cell_type": "code",
   "execution_count": 11,
   "metadata": {},
   "outputs": [
    {
     "name": "stdout",
     "output_type": "stream",
     "text": [
      "This is a list of activities from SimaPro not matched in Ecoinvent db:\n",
      "\n"
     ]
    },
    {
     "data": {
      "text/plain": [
       "['Deinking emulsion, in paper production {GLO}| market for | APOS, S']"
      ]
     },
     "execution_count": 11,
     "metadata": {},
     "output_type": "execute_result"
    }
   ],
   "source": [
    "print('This is a list of activities from SimaPro not matched in Ecoinvent db:\\n')\n",
    "list(df_merged[df_merged.activityName_EI.isnull()].Activity)"
   ]
  },
  {
   "cell_type": "markdown",
   "metadata": {},
   "source": [
    "> (!) <span style='background:red'> WARNING:</span> Deinking emulsion, in paper production {GLO} is not in Ecoinvent database, only RoW and RER...<br>\n",
    "> Drop it from df.<br>"
   ]
  },
  {
   "cell_type": "code",
   "execution_count": 12,
   "metadata": {},
   "outputs": [],
   "source": [
    "df_merged = df_merged.dropna(\n",
    "    axis=0, how=\"any\", subset=[\"activityName_EI\"], inplace=False\n",
    ")"
   ]
  },
  {
   "cell_type": "markdown",
   "metadata": {
    "tags": []
   },
   "source": [
    "### > Check duplicates (if any)"
   ]
  },
  {
   "cell_type": "code",
   "execution_count": 13,
   "metadata": {},
   "outputs": [
    {
     "name": "stdout",
     "output_type": "stream",
     "text": [
      "   nº of unique items per column:  \n",
      "-----------------------------------\n"
     ]
    },
    {
     "data": {
      "text/plain": [
       "wkbName                                                                   18\n",
       "Activity                                                                 946\n",
       "('PBs-LCIA V0.71 V0.71', 'Climate change - CO2 concentration', 'ppm')    938\n",
       "('PBs-LCIA V0.71 V0.71', 'Climate change - Energy imbalance', 'Wm-2')    943\n",
       "('PBs-LCIA V0.71 V0.71', 'Stratospheric ozone depletion', 'DU')          939\n",
       "                                                                        ... \n",
       "referenceProduct_priceComment                                            361\n",
       "referenceProduct_casNumber                                               275\n",
       "referenceProduct_CPCclass                                                116\n",
       "activity_generalComment                                                  312\n",
       "sourceFilename                                                           946\n",
       "Length: 93, dtype: int64"
      ]
     },
     "execution_count": 13,
     "metadata": {},
     "output_type": "execute_result"
    }
   ],
   "source": [
    "# Unique items per column\n",
    "print('nº of unique items per column:'.center(35))\n",
    "print(''.center(35,'-'))\n",
    "df_merged.nunique()"
   ]
  },
  {
   "cell_type": "code",
   "execution_count": 14,
   "metadata": {},
   "outputs": [
    {
     "name": "stdout",
     "output_type": "stream",
     "text": [
      "These are the \"duplicated\" items in column Activity:\n",
      "\n"
     ]
    },
    {
     "data": {
      "text/html": [
       "<div>\n",
       "<style scoped>\n",
       "    .dataframe tbody tr th:only-of-type {\n",
       "        vertical-align: middle;\n",
       "    }\n",
       "\n",
       "    .dataframe tbody tr th {\n",
       "        vertical-align: top;\n",
       "    }\n",
       "\n",
       "    .dataframe thead th {\n",
       "        text-align: right;\n",
       "    }\n",
       "</style>\n",
       "<table border=\"1\" class=\"dataframe\">\n",
       "  <thead>\n",
       "    <tr style=\"text-align: right;\">\n",
       "      <th></th>\n",
       "      <th>wkbName</th>\n",
       "      <th>Activity</th>\n",
       "      <th>('PBs-LCIA V0.71 V0.71', 'Climate change - CO2 concentration', 'ppm')</th>\n",
       "      <th>('PBs-LCIA V0.71 V0.71', 'Climate change - Energy imbalance', 'Wm-2')</th>\n",
       "      <th>('PBs-LCIA V0.71 V0.71', 'Stratospheric ozone depletion', 'DU')</th>\n",
       "      <th>('PBs-LCIA V0.71 V0.71', 'Ocean acidification', 'Omega Aragon')</th>\n",
       "      <th>('PBs-LCIA V0.71 V0.71', 'Biogeochemical flows - P', 'Tg P')</th>\n",
       "      <th>('PBs-LCIA V0.71 V0.71', 'Biogeochemical flows - N', 'Tg N')</th>\n",
       "      <th>('PBs-LCIA V0.71 V0.71', 'Land-system change - Global', '%')</th>\n",
       "      <th>('PBs-LCIA V0.71 V0.71', 'Freshwater use - Global', 'km3')</th>\n",
       "      <th>...</th>\n",
       "      <th>referenceProductUnit</th>\n",
       "      <th>referenceProduct_prodVolume</th>\n",
       "      <th>referenceProduct_prodVolumeComment</th>\n",
       "      <th>referenceProduct_price</th>\n",
       "      <th>referenceProduct_priceUnit</th>\n",
       "      <th>referenceProduct_priceComment</th>\n",
       "      <th>referenceProduct_casNumber</th>\n",
       "      <th>referenceProduct_CPCclass</th>\n",
       "      <th>activity_generalComment</th>\n",
       "      <th>sourceFilename</th>\n",
       "    </tr>\n",
       "  </thead>\n",
       "  <tbody>\n",
       "  </tbody>\n",
       "</table>\n",
       "<p>0 rows × 93 columns</p>\n",
       "</div>"
      ],
      "text/plain": [
       "Empty DataFrame\n",
       "Columns: [wkbName, Activity, ('PBs-LCIA V0.71 V0.71', 'Climate change - CO2 concentration', 'ppm'), ('PBs-LCIA V0.71 V0.71', 'Climate change - Energy imbalance', 'Wm-2'), ('PBs-LCIA V0.71 V0.71', 'Stratospheric ozone depletion', 'DU'), ('PBs-LCIA V0.71 V0.71', 'Ocean acidification', 'Omega Aragon'), ('PBs-LCIA V0.71 V0.71', 'Biogeochemical flows - P', 'Tg P'), ('PBs-LCIA V0.71 V0.71', 'Biogeochemical flows - N', 'Tg N'), ('PBs-LCIA V0.71 V0.71', 'Land-system change - Global', '%'), ('PBs-LCIA V0.71 V0.71', 'Freshwater use - Global', 'km3'), ('PBs-LCIA V0.71 V0.71', 'Change in biosphere integrity - BII loss', '% BII loss'), ('PBs-LCIA (baseline) V0.72', 'Climate change - CO2 concentration', 'ppm'), ('PBs-LCIA (baseline) V0.72', 'Climate change - Energy imbalance', 'Wm-2'), ('PBs-LCIA (baseline) V0.72', 'Stratospheric ozone depletion', 'DU'), ('PBs-LCIA (baseline) V0.72', 'Ocean acidification', 'Omega Aragon'), ('PBs-LCIA (baseline) V0.72', 'Biogeochemical flows - P', 'Tg P'), ('PBs-LCIA (baseline) V0.72', 'Biogeochemical flows - N', 'Tg N'), ('PBs-LCIA (baseline) V0.72', 'Land-system change - Global', '%'), ('PBs-LCIA (baseline) V0.72', 'Freshwater use - Global', 'km3'), ('PBs-LCIA (baseline) V0.72', 'Change in biosphere integrity - BII loss', '% BII loss'), ('PBs - Alternative: EF - LANCA V0.70', 'Climate change', 'kg CO2 eq'), ('PBs - Alternative: EF - LANCA V0.70', 'Ozone depletion', 'kg CFC11 eq'), ('PBs - Alternative: EF - LANCA V0.70', 'Ionising radiation, HH', 'kBq U-235 eq'), ('PBs - Alternative: EF - LANCA V0.70', 'Photochemical ozone formation, HH', 'kg NMVOC eq'), ('PBs - Alternative: EF - LANCA V0.70', 'Respiratory inorganics', 'disease inc.'), ('PBs - Alternative: EF - LANCA V0.70', 'Non-cancer human health effects', 'CTUh'), ('PBs - Alternative: EF - LANCA V0.70', 'Cancer human health effects', 'CTUh'), ('PBs - Alternative: EF - LANCA V0.70', 'Acidification terrestrial and freshwater', 'mol H+ eq'), ('PBs - Alternative: EF - LANCA V0.70', 'Eutrophication freshwater', 'kg P eq'), ('PBs - Alternative: EF - LANCA V0.70', 'Eutrophication marine', 'kg N eq'), ('PBs - Alternative: EF - LANCA V0.70', 'Eutrophication terrestrial', 'mol N eq'), ('PBs - Alternative: EF - LANCA V0.70', 'Ecotoxicity freshwater', 'CTUe'), ('PBs - Alternative: EF - LANCA V0.70', 'Land use - Erosion', 'kg soil loss'), ('PBs - Alternative: EF - LANCA V0.70', 'Water scarcity', 'm3 depriv.'), ('PBs - Alternative: EF - LANCA V0.70', 'Resource use, energy carriers', 'MJ'), ('PBs - Alternative: EF - LANCA V0.70', 'Resource use, mineral and metals', 'kg Sb eq'), ('ReCiPe 2016 Midpoint (H) V1.03 / World (2010) H', 'Global warming', 'kg CO2 eq'), ('ReCiPe 2016 Midpoint (H) V1.03 / World (2010) H', 'Stratospheric ozone depletion', 'kg CFC11 eq'), ('ReCiPe 2016 Midpoint (H) V1.03 / World (2010) H', 'Ionizing radiation', 'kBq Co-60 eq'), ('ReCiPe 2016 Midpoint (H) V1.03 / World (2010) H', 'Ozone formation, Human health', 'kg NOx eq'), ('ReCiPe 2016 Midpoint (H) V1.03 / World (2010) H', 'Fine particulate matter formation', 'kg PM2.5 eq'), ('ReCiPe 2016 Midpoint (H) V1.03 / World (2010) H', 'Ozone formation, Terrestrial ecosystems', 'kg NOx eq'), ('ReCiPe 2016 Midpoint (H) V1.03 / World (2010) H', 'Terrestrial acidification', 'kg SO2 eq'), ('ReCiPe 2016 Midpoint (H) V1.03 / World (2010) H', 'Freshwater eutrophication', 'kg P eq'), ('ReCiPe 2016 Midpoint (H) V1.03 / World (2010) H', 'Marine eutrophication', 'kg N eq'), ('ReCiPe 2016 Midpoint (H) V1.03 / World (2010) H', 'Terrestrial ecotoxicity', 'kg 1,4-DCB'), ('ReCiPe 2016 Midpoint (H) V1.03 / World (2010) H', 'Freshwater ecotoxicity', 'kg 1,4-DCB'), ('ReCiPe 2016 Midpoint (H) V1.03 / World (2010) H', 'Marine ecotoxicity', 'kg 1,4-DCB'), ('ReCiPe 2016 Midpoint (H) V1.03 / World (2010) H', 'Human carcinogenic toxicity', 'kg 1,4-DCB'), ('ReCiPe 2016 Midpoint (H) V1.03 / World (2010) H', 'Human non-carcinogenic toxicity', 'kg 1,4-DCB'), ('ReCiPe 2016 Midpoint (H) V1.03 / World (2010) H', 'Land use', 'm2a crop eq'), ('ReCiPe 2016 Midpoint (H) V1.03 / World (2010) H', 'Mineral resource scarcity', 'kg Cu eq'), ('ReCiPe 2016 Midpoint (H) V1.03 / World (2010) H', 'Fossil resource scarcity', 'kg oil eq'), ('ReCiPe 2016 Midpoint (H) V1.03 / World (2010) H', 'Water consumption', 'm3'), ('ReCiPe 2016 Endpoint (H) V1.03 / World (2010) H/A', 'Human health', 'DALY'), ('ReCiPe 2016 Endpoint (H) V1.03 / World (2010) H/A', 'Ecosystems', 'species.yr'), ('ReCiPe 2016 Endpoint (H) V1.03 / World (2010) H/A', 'Resources', 'USD2013'), ('IPCC 2013 GWP 100a V1.03', 'IPCC GWP 100a', 'kg CO2 eq'), ('Cumulative Energy Demand V1.11 / Cumulative energy demand', 'Non renewable, fossil', 'MJ'), ('Cumulative Energy Demand V1.11 / Cumulative energy demand', 'Non-renewable, nuclear', 'MJ'), ('Cumulative Energy Demand V1.11 / Cumulative energy demand', 'Non-renewable, biomass', 'MJ'), ('Cumulative Energy Demand V1.11 / Cumulative energy demand', 'Renewable, biomass', 'MJ'), ('Cumulative Energy Demand V1.11 / Cumulative energy demand', 'Renewable, wind, solar, geothe', 'MJ'), ('Cumulative Energy Demand V1.11 / Cumulative energy demand', 'Renewable, water', 'MJ'), activity_comment, type, referenceProduct, shortName_geo, activityName_SP, fullName_SimaPro, unit, amount, allocation_percentage, wasteType, category, inline_comment, activityName_EI, geo, activity_ISICclass, activity_ecoSpold01class, technologyLevel, referenceProductName, referenceProductAmount, referenceProductUnit, referenceProduct_prodVolume, referenceProduct_prodVolumeComment, referenceProduct_price, referenceProduct_priceUnit, referenceProduct_priceComment, referenceProduct_casNumber, referenceProduct_CPCclass, activity_generalComment, sourceFilename]\n",
       "Index: []\n",
       "\n",
       "[0 rows x 93 columns]"
      ]
     },
     "execution_count": 14,
     "metadata": {},
     "output_type": "execute_result"
    }
   ],
   "source": [
    "# Check for duplicates\n",
    "\n",
    "print('These are the \"duplicated\" items in column Activity:\\n')\n",
    "df_merged[df_merged.Activity.duplicated(False)]\n",
    "# df_merged.loc[85,'activityName_Ecoinvent']"
   ]
  },
  {
   "cell_type": "markdown",
   "metadata": {
    "heading_collapsed": "true",
    "tags": []
   },
   "source": [
    "## TEMPORTAL (inactive)"
   ]
  },
  {
   "cell_type": "raw",
   "metadata": {},
   "source": [
    "df_uniques = df_merged.drop_duplicates(subset=[\"category\", \"activity_ISICclass\"])[[\"wkbName\", \"category\", \"activity_ecoSpold01class\", \"activity_ISICclass\", \"referenceProduct_CPCclass\"]]\n",
    "df_uniques_groupedbyCategory = dict(list(df_uniques.groupby(by=\"category\")))\n",
    "dict_correspondence = {}\n",
    "for key in df_uniques_groupedbyCategory:\n",
    "    dict_correspondence[key] = df_uniques_groupedbyCategory[key].activity_ISICclass.unique() \n",
    "# dict_correspondence\n",
    "\n",
    "df_uniques_groupedbyISIC = dict(list(df_uniques.groupby(by=\"activity_ISICclass\")))\n",
    "rev_dict_correspondence = {}\n",
    "for key in df_uniques_groupedbyISIC:\n",
    "    rev_dict_correspondence[key] = df_uniques_groupedbyISIC[key].category.unique()\n",
    "# rev_dict_correspondence    "
   ]
  },
  {
   "cell_type": "raw",
   "metadata": {},
   "source": [
    "pd.DataFrame.from_dict(rev_dict_correspondence, orient=\"index\")"
   ]
  },
  {
   "cell_type": "raw",
   "metadata": {},
   "source": [
    "pprint.pprint(set(list(df_uniques[df_uniques.activity_ISICclass == \"2011:Manufacture of basic chemicals\"].referenceProduct_CPCclass)))"
   ]
  },
  {
   "cell_type": "raw",
   "metadata": {},
   "source": [
    "filter_df(df_uniques, col_name=\"referenceProduct_CPCclass\", filter_in=[\"34:\"])[\n",
    "    [\n",
    "#         \"Activity\",\n",
    "#         \"referenceProductName\",\n",
    "        \"category\",\n",
    "        \"activity_ISICclass\",\n",
    "        \"referenceProduct_CPCclass\",\n",
    "#         \"referenceProduct_casNumber\",\n",
    "    ]\n",
    "]"
   ]
  },
  {
   "cell_type": "raw",
   "metadata": {},
   "source": [
    "df_merged.columns\n",
    "# df_merged[[\"wkbName\", \"category\", \"activity_ecoSpold01class\", \"activity_ISICclass\", \"referenceProduct_CPCclass\"]].nunique()\n",
    "df_merged[[\"wkbName\", \"category\", \"activity_ecoSpold01class\", \"activity_ISICclass\", \"referenceProduct_CPCclass\"]].activity_ISICclass.unique()"
   ]
  },
  {
   "cell_type": "raw",
   "metadata": {},
   "source": [
    "# find=\"3821:Treatment and disposal of non-hazardous waste\"\n",
    "# find=\"0891:Mining of chemical and fertilizer minerals\"\n",
    "# find = \"19a: Liquid and gaseous fuels from biomass\"\n",
    "# find = \"0161:Support activities for crop production\"\n",
    "# find = \"20:Manufacture of chemicals and chemical products\"\n",
    "# find = \"0729:Mining of other non-ferrous metal ores\"\n",
    "find = \"2011:Manufacture of basic chemicals\"\n",
    "df_merged[df_merged.activity_ISICclass==find]"
   ]
  },
  {
   "cell_type": "raw",
   "metadata": {},
   "source": [
    "df_groupedbyISIC2011 = dict(list(df_merged.groupby(by=\"activity_ISICclass\")))[\"2011:Manufacture of basic chemicals\"]"
   ]
  },
  {
   "cell_type": "raw",
   "metadata": {},
   "source": [
    "pprint.pprint(set(list(df_groupedbyISIC2011.referenceProduct_CPCclass.sort_values(ascending=True))))"
   ]
  },
  {
   "cell_type": "raw",
   "metadata": {},
   "source": [
    "filter_df(\n",
    "    df_merged, col_name=\"referenceProduct_CPCclass\", filter_in=[\"34\"]\n",
    ").referenceProduct_CPCclass.sort_values()"
   ]
  },
  {
   "cell_type": "raw",
   "metadata": {},
   "source": [
    "idxes = []\n",
    "for idx in df_master_mapped_db.index: #referenceProduct_CPCclass:\n",
    "    if str(df_master_mapped_db.referenceProduct_CPCclass[idx]).startswith(\"34\"):\n",
    "        idxes.append(idx)\n",
    "        \n",
    "df_CPC34_EI = filter_df(df_master_mapped_db.iloc[idxes], col_name=\"activityName_EI\", filter_in=[\"market for\"])"
   ]
  },
  {
   "cell_type": "raw",
   "metadata": {},
   "source": [
    "# set(list(df_CPC34_EI.referenceProduct_CPCclass.sort_values()))"
   ]
  },
  {
   "cell_type": "raw",
   "metadata": {},
   "source": [
    "filter_df(df_CPC34_EI, col_name=\"referenceProduct_CPCclass\", filter_in=[\"348\"])#.category.unique()"
   ]
  },
  {
   "cell_type": "raw",
   "metadata": {},
   "source": [
    "# df_merged.columns"
   ]
  },
  {
   "cell_type": "raw",
   "metadata": {},
   "source": [
    "df_merged.index"
   ]
  },
  {
   "cell_type": "raw",
   "metadata": {},
   "source": [
    "# len(idxesother)\n",
    "# df_merged.loc[idxesother]"
   ]
  },
  {
   "cell_type": "raw",
   "metadata": {},
   "source": [
    "idxesother = []\n",
    "for idx in df_merged.index: #referenceProduct_CPCclass:\n",
    "    if str(df_merged.referenceProduct_CPCclass[idx]).startswith(\"34\"):\n",
    "        idxesother.append(idx)\n",
    "        \n",
    "df_CPC34_merged = filter_df(df_merged.loc[idxesother], col_name=\"activityName_EI\", filter_in=[\"market for\"])\n",
    "# df_CPC34_merged"
   ]
  },
  {
   "cell_type": "raw",
   "metadata": {},
   "source": [
    "filter_df(df_CPC34_merged, col_name=\"referenceProduct_CPCclass\", filter_in=[\"348\"])#.category.unique()"
   ]
  },
  {
   "cell_type": "raw",
   "metadata": {},
   "source": [
    "762-633"
   ]
  },
  {
   "cell_type": "raw",
   "metadata": {},
   "source": [
    "pprint.pprint(\n",
    "    set(\n",
    "        list(\n",
    "            filter_df(\n",
    "                df_merged, col_name=\"referenceProduct_CPCclass\", filter_in=[\"34\"]\n",
    "            ).referenceProduct_CPCclass.sort_values()\n",
    "        )\n",
    "    )\n",
    ")"
   ]
  },
  {
   "cell_type": "raw",
   "metadata": {},
   "source": [
    "pprint.pprint(\n",
    "    set(\n",
    "        list(\n",
    "            filter_df(\n",
    "                df_master_mapped_db, col_name=\"referenceProduct_CPCclass\", filter_in=[\"34\"]\n",
    "            ).referenceProduct_CPCclass.sort_values()\n",
    "        )\n",
    "    )\n",
    ")"
   ]
  },
  {
   "cell_type": "raw",
   "metadata": {},
   "source": [
    "df_master_mapped_db.columns\n",
    "# find = \"0729:Mining of other non-ferrous metal ores\"\n",
    "find = \"2011:Manufacture of basic chemicals\"\n",
    "df_trial = df_master_mapped_db[df_master_mapped_db.activity_ISICclass==find]\n",
    "df_trial"
   ]
  },
  {
   "cell_type": "raw",
   "metadata": {},
   "source": [
    "filter_df(df_trial, col_name=\"activityName_EI\", filter_in=[\"market for\"])"
   ]
  },
  {
   "cell_type": "markdown",
   "metadata": {},
   "source": [
    "# OUTPUTS: Export data to excel"
   ]
  },
  {
   "cell_type": "code",
   "execution_count": 15,
   "metadata": {},
   "outputs": [
    {
     "name": "stdout",
     "output_type": "stream",
     "text": [
      "File: mapped-lcia-results.xlsx successfully created in \n",
      "C:\\Users\\ViteksPC\\Documents\\00-ETH_projects\\17-AESA_ecoinvent_chemicals\\data\\lcaforsac\n",
      "Wall time: 2.54 s\n"
     ]
    }
   ],
   "source": [
    "%%time\n",
    "\n",
    "# Set output directory\n",
    "outputs_dir = set_outputs_dir(use_default=False, rel_path_output=r\"..\\data\\lcaforsac\")  # default `..\\data\\interim`\n",
    "\n",
    "## Export dataframe to excel\n",
    "excelName = \"mapped-lcia-results.xlsx\"\n",
    "\n",
    "df_readme = make_readme_info(\n",
    "    excelName,\n",
    "    \"Sheet1: LCIA method results (per category) for ALL chemical markets from SimaPro910 \"\n",
    "    \"mapped against metadata from Ecoinvent v3.5 APOS. \"\n",
    "    \"\\ndf_lcia_labels: unique names of the LCIA methods used in Sheet1.\",\n",
    ")\n",
    "\n",
    "w_excel(\n",
    "    path_to_file=outputs_dir,\n",
    "    filename=excelName,\n",
    "    dict_data_to_write={\"Sheet1\": df_merged, \"df_lcia_labels\": df_lcia_labels},\n",
    "    readme_info=(\"readme\", df_readme),\n",
    "    ####         ExcelWriter_kwargs={\"engine\": \"openpyxl\", \"encoding\": \"UTF-8\"}\n",
    "    #     startrow=0\n",
    ")"
   ]
  },
  {
   "cell_type": "code",
   "execution_count": null,
   "metadata": {},
   "outputs": [],
   "source": []
  }
 ],
 "metadata": {
  "kernelspec": {
   "display_name": "Python (proj17)",
   "language": "python",
   "name": "17-conda-env"
  },
  "language_info": {
   "codemirror_mode": {
    "name": "ipython",
    "version": 3
   },
   "file_extension": ".py",
   "mimetype": "text/x-python",
   "name": "python",
   "nbconvert_exporter": "python",
   "pygments_lexer": "ipython3",
   "version": "3.8.5"
  }
 },
 "nbformat": 4,
 "nbformat_minor": 4
}
