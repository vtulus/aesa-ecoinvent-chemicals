{
 "cells": [
  {
   "cell_type": "markdown",
   "metadata": {},
   "source": [
    "<div class=\"alert alert-block alert-info\">\n",
    "This script maps <b>LCIA results exported from SP910</b> against previously mapped <b>DB processes/activities SP910 and Ecoinvent v3.5 APOS</b>  \n",
    "    <hr> \n",
    "    Note: <br>\n",
    "    <i><b>Input file(s)' name(s) and metadata</b></i> (if available) are <b>printed out (below 👇🏼) in 'read data to df' section.</b>\n",
    "</div>"
   ]
  },
  {
   "cell_type": "markdown",
   "metadata": {},
   "source": [
    "# Imports"
   ]
  },
  {
   "cell_type": "code",
   "execution_count": 1,
   "metadata": {},
   "outputs": [],
   "source": [
    "%config IPCompleter.use_jedi = False # disable jedi autocompleter (https://stackoverflow.com/a/65734178/14485040)\n",
    "\n",
    "import project_path  # makes possible the access to `src` directory using relative path\n",
    "from src.utils import explore_dir, make_readme_info\n",
    "from src.utils import read_excel_to_pandas as r_excel\n",
    "from src.utils import set_outputs_dir\n",
    "from src.utils import write_pandas_to_excel as w_excel\n",
    "\n",
    "%run init_nb.ipynb"
   ]
  },
  {
   "cell_type": "markdown",
   "metadata": {},
   "source": [
    "# INPUTS: Identify file(s) and read data to df"
   ]
  },
  {
   "cell_type": "code",
   "execution_count": 2,
   "metadata": {},
   "outputs": [
    {
     "name": "stdout",
     "output_type": "stream",
     "text": [
      "['CPC33to36_other_chemicals.xlsx',\n",
      " 'df_chemproperties.xlsx',\n",
      " 'extended-data-chosen-methods-metadata-pubchem-properties.xlsx',\n",
      " 'lcia-results-from-sp910-combined.xlsx',\n",
      " 'list-chemicals-not-shown-on-fig-prices-vs-impacts.xlsx',\n",
      " 'list-chemicals-not-shown-on-fig3.xlsx',\n",
      " 'list-outliers.xlsx',\n",
      " 'mapped-lcia-results.xlsx',\n",
      " 'pubchem-properties.xlsx',\n",
      " 'raw-data-chosen-lcia-methods-and-metadata.xlsx',\n",
      " 'temp-df_base_full_wCAS.xlsx',\n",
      " 'temp-df_base_full_wCAS_woOutliersRMDk9a5.xlsx',\n",
      " 'temp-dict_fullMethods.xlsx']\n",
      "--> nº of found files in C:\\Users\\ViteksPC\\Documents\\00-ETH_projects\\17-AESA_ecoinvent_chemicals\\data\\interim :  13 \n",
      "\n",
      "['ecoinvent_3.5_apos_activities_db-extracted.xlsx',\n",
      " 'mapped_processes_SP910-EI35APOS.xlsx',\n",
      " 'RybergMethod_CFs_PB-LCIA_ecoinvent_linkage_V2.037_V2037-extracted.xlsx',\n",
      " 'SP910_Impact_CFs_PBs-LCIA_(baseline)_V072-extracted.xlsx',\n",
      " 'SP910_Impact_CFs_ReCiPe_Midpoint_(H)_V113-extracted.xlsx',\n",
      " 'SP910_processes_db-extracted.xlsx',\n",
      " 'SP910_substances-extracted.xlsx',\n",
      " 'subcompartments_mapped.xlsx']\n",
      "--> nº of found files in C:\\Users\\ViteksPC\\Documents\\00-ETH_projects\\18-BW2Hub\\02.Code\\Outputs :  8\n"
     ]
    }
   ],
   "source": [
    "# Explore the directory to find the file(s)\n",
    "\n",
    "# --------------- LCIAresults file ----------------\n",
    "inputs_dir_1, files_list_1 = explore_dir(\n",
    "    path_to_dir=r\"..\\data\\interim\", file_extension=\"xlsx\", print_files_list=True,\n",
    ")\n",
    "print(\"--> nº of found files in\", inputs_dir_1, \": \", len(files_list_1), \"\\n\")\n",
    "\n",
    "# --------------- master mapped db file ----------------\n",
    "inputs_dir_2, files_list_2 = explore_dir(\n",
    "    path_to_dir=r\"..\\..\\18-BW2Hub\\02.Code\\Outputs\",\n",
    "    file_extension=\"xlsx\",\n",
    "    print_files_list=True,\n",
    ")\n",
    "print(\"--> nº of found files in\", inputs_dir_2, \": \", len(files_list_2))"
   ]
  },
  {
   "cell_type": "code",
   "execution_count": 3,
   "metadata": {},
   "outputs": [
    {
     "name": "stdout",
     "output_type": "stream",
     "text": [
      "\n",
      "===> Trying to load 'readme' data... ===\n",
      "File: lcia-results-from-sp910-combined.xlsx from\n",
      "C:\\Users\\ViteksPC\\Documents\\00-ETH_projects\\17-AESA_ecoinvent_chemicals\\notebooks\\0.01-vt-parse-lcia-results-from-sp910.ipynb\n",
      "Generated on 2021-07-29 (Thursday), 15:03:28 by Tulus, V.\n",
      "Includes:\n",
      "<<<\n",
      "Sheet1: Multiple LCIA methods results (per category) for ALL chemical markets from SimaPro910. \n",
      "df_lcia_labels: unique names of the LCIA methods used in Sheet1.\n",
      ">>>\n",
      "========================================\n",
      "\n",
      "df of LCIAs from SimaPro (raw) ......... ... (947, 64)\n",
      "\n",
      "===> Trying to load 'readme' data... ===\n",
      "File: mapped_processes_SP910-EI35APOS.xlsx from\n",
      "C:\\Users\\ViteksPC\\Documents\\00-ETH_projects\\18-BW2Hub\\02.Code\\05.map_processes_SP910-EI35APOS.ipynb\n",
      "Generated on 2021-05-12 (Wednesday), 16:44:58 by Tulus, V.\n",
      "Includes:\n",
      "<<<\n",
      "Mapped SimaPro910 (with EI35-APOS) processes against Ecoinvent v3.5 APOS activities. Note: for now only 18 activities from Ecoinvent remain unmapped after automatic mapping. Manual refinement is needed.\n",
      ">>>\n",
      "========================================\n",
      "\n",
      "df of master mapped db (raw) ........... . (16027, 29)\n",
      "Wall time: 10 s\n"
     ]
    }
   ],
   "source": [
    "%%time\n",
    "# Process raw data\n",
    "\n",
    "# LCIAs results from SimaPro\n",
    "df_lcias_raw = r_excel(\n",
    "    inputs_dir_1, \"lcia-results-from-sp910-combined.xlsx\", sheets=\"Sheet1\"\n",
    ")\n",
    "\n",
    "print(\n",
    "    \"df of LCIAs from SimaPro (raw) \".ljust(40, \".\"),\n",
    "    f\" {df_lcias_raw.shape}\".rjust(13, \".\"),\n",
    ")\n",
    "\n",
    "# master mapped db file\n",
    "df_master_mapped_db_raw = r_excel(\n",
    "    inputs_dir_2, \"mapped_processes_SP910-EI35APOS.xlsx\", sheets=\"Sheet1\"\n",
    ")\n",
    "print(\n",
    "    \"df of master mapped db (raw) \".ljust(40, \".\"),\n",
    "    f\" {df_master_mapped_db_raw.shape}\".rjust(13, \".\"),\n",
    ")"
   ]
  },
  {
   "cell_type": "code",
   "execution_count": 4,
   "metadata": {},
   "outputs": [
    {
     "data": {
      "text/html": [
       "<div>\n",
       "<style scoped>\n",
       "    .dataframe tbody tr th:only-of-type {\n",
       "        vertical-align: middle;\n",
       "    }\n",
       "\n",
       "    .dataframe tbody tr th {\n",
       "        vertical-align: top;\n",
       "    }\n",
       "\n",
       "    .dataframe thead th {\n",
       "        text-align: right;\n",
       "    }\n",
       "</style>\n",
       "<table border=\"1\" class=\"dataframe\">\n",
       "  <thead>\n",
       "    <tr style=\"text-align: right;\">\n",
       "      <th></th>\n",
       "      <th>Method</th>\n",
       "    </tr>\n",
       "  </thead>\n",
       "  <tbody>\n",
       "    <tr>\n",
       "      <th>0</th>\n",
       "      <td>ReCiPe 2016 Endpoint (H) V1.03 / World (2010) H/A</td>\n",
       "    </tr>\n",
       "    <tr>\n",
       "      <th>1</th>\n",
       "      <td>PBs - Alternative: EF - LANCA V0.70</td>\n",
       "    </tr>\n",
       "    <tr>\n",
       "      <th>2</th>\n",
       "      <td>PBs-LCIA (baseline) V0.72</td>\n",
       "    </tr>\n",
       "    <tr>\n",
       "      <th>3</th>\n",
       "      <td>ReCiPe 2016 Midpoint (H) V1.03 / World (2010) H</td>\n",
       "    </tr>\n",
       "    <tr>\n",
       "      <th>4</th>\n",
       "      <td>PBs-LCIA V0.71 V0.71</td>\n",
       "    </tr>\n",
       "    <tr>\n",
       "      <th>5</th>\n",
       "      <td>IPCC 2013 GWP 100a V1.03</td>\n",
       "    </tr>\n",
       "    <tr>\n",
       "      <th>6</th>\n",
       "      <td>Cumulative Energy Demand V1.11 / Cumulative en...</td>\n",
       "    </tr>\n",
       "  </tbody>\n",
       "</table>\n",
       "</div>"
      ],
      "text/plain": [
       "                                              Method\n",
       "0  ReCiPe 2016 Endpoint (H) V1.03 / World (2010) H/A\n",
       "1                PBs - Alternative: EF - LANCA V0.70\n",
       "2                          PBs-LCIA (baseline) V0.72\n",
       "3    ReCiPe 2016 Midpoint (H) V1.03 / World (2010) H\n",
       "4                               PBs-LCIA V0.71 V0.71\n",
       "5                           IPCC 2013 GWP 100a V1.03\n",
       "6  Cumulative Energy Demand V1.11 / Cumulative en..."
      ]
     },
     "execution_count": 4,
     "metadata": {},
     "output_type": "execute_result"
    }
   ],
   "source": [
    "# Get unique names of the LCIA methods from 'LCIAresultsSP910-combined.xlsx'\n",
    "# This df is copied to the new Excel file degerated below.\n",
    "\n",
    "df_lcia_labels = r_excel(\n",
    "    inputs_dir_1, \"lcia-results-from-sp910-combined.xlsx\", sheets=\"df_lcia_labels\", show_readme=False,\n",
    ")\n",
    "df_lcia_labels"
   ]
  },
  {
   "cell_type": "markdown",
   "metadata": {},
   "source": [
    "# Operations"
   ]
  },
  {
   "cell_type": "markdown",
   "metadata": {
    "heading_collapsed": "true",
    "tags": []
   },
   "source": [
    "## Filter/adjust data"
   ]
  },
  {
   "cell_type": "code",
   "execution_count": 5,
   "metadata": {},
   "outputs": [
    {
     "name": "stdout",
     "output_type": "stream",
     "text": [
      "df of LCIAs from SimaPro ............... ... (947, 64)\n"
     ]
    },
    {
     "data": {
      "text/html": [
       "<div>\n",
       "<style scoped>\n",
       "    .dataframe tbody tr th:only-of-type {\n",
       "        vertical-align: middle;\n",
       "    }\n",
       "\n",
       "    .dataframe tbody tr th {\n",
       "        vertical-align: top;\n",
       "    }\n",
       "\n",
       "    .dataframe thead th {\n",
       "        text-align: right;\n",
       "    }\n",
       "</style>\n",
       "<table border=\"1\" class=\"dataframe\">\n",
       "  <thead>\n",
       "    <tr style=\"text-align: right;\">\n",
       "      <th></th>\n",
       "      <th>wkbName</th>\n",
       "      <th>Activity</th>\n",
       "      <th>('PBs-LCIA V0.71 V0.71', 'Climate change - CO2 concentration', 'ppm')</th>\n",
       "      <th>('PBs-LCIA V0.71 V0.71', 'Climate change - Energy imbalance', 'Wm-2')</th>\n",
       "      <th>('PBs-LCIA V0.71 V0.71', 'Stratospheric ozone depletion', 'DU')</th>\n",
       "      <th>('PBs-LCIA V0.71 V0.71', 'Ocean acidification', 'Omega Aragon')</th>\n",
       "      <th>('PBs-LCIA V0.71 V0.71', 'Biogeochemical flows - P', 'Tg P')</th>\n",
       "      <th>('PBs-LCIA V0.71 V0.71', 'Biogeochemical flows - N', 'Tg N')</th>\n",
       "      <th>('PBs-LCIA V0.71 V0.71', 'Land-system change - Global', '%')</th>\n",
       "      <th>('PBs-LCIA V0.71 V0.71', 'Freshwater use - Global', 'km3')</th>\n",
       "      <th>...</th>\n",
       "      <th>('ReCiPe 2016 Endpoint (H) V1.03 / World (2010) H/A', 'Human health', 'DALY')</th>\n",
       "      <th>('ReCiPe 2016 Endpoint (H) V1.03 / World (2010) H/A', 'Ecosystems', 'species.yr')</th>\n",
       "      <th>('ReCiPe 2016 Endpoint (H) V1.03 / World (2010) H/A', 'Resources', 'USD2013')</th>\n",
       "      <th>('IPCC 2013 GWP 100a V1.03', 'IPCC GWP 100a', 'kg CO2 eq')</th>\n",
       "      <th>('Cumulative Energy Demand V1.11 / Cumulative energy demand', 'Non renewable, fossil', 'MJ')</th>\n",
       "      <th>('Cumulative Energy Demand V1.11 / Cumulative energy demand', 'Non-renewable, nuclear', 'MJ')</th>\n",
       "      <th>('Cumulative Energy Demand V1.11 / Cumulative energy demand', 'Non-renewable, biomass', 'MJ')</th>\n",
       "      <th>('Cumulative Energy Demand V1.11 / Cumulative energy demand', 'Renewable, biomass', 'MJ')</th>\n",
       "      <th>('Cumulative Energy Demand V1.11 / Cumulative energy demand', 'Renewable, wind, solar, geothe', 'MJ')</th>\n",
       "      <th>('Cumulative Energy Demand V1.11 / Cumulative energy demand', 'Renewable, water', 'MJ')</th>\n",
       "    </tr>\n",
       "  </thead>\n",
       "  <tbody>\n",
       "    <tr>\n",
       "      <th>158</th>\n",
       "      <td>Chemicals-Inorganic-Market</td>\n",
       "      <td>Calcium carbonate, precipitated {RoW}| market ...</td>\n",
       "      <td>4.173653e-11</td>\n",
       "      <td>5.596044e-13</td>\n",
       "      <td>5.253571e-15</td>\n",
       "      <td>1.275348e-13</td>\n",
       "      <td>5.889272e-16</td>\n",
       "      <td>9.588936e-13</td>\n",
       "      <td>2.590902e-16</td>\n",
       "      <td>5.363869e-12</td>\n",
       "      <td>...</td>\n",
       "      <td>0.000003</td>\n",
       "      <td>7.028130e-09</td>\n",
       "      <td>0.097966</td>\n",
       "      <td>1.761009</td>\n",
       "      <td>14.908673</td>\n",
       "      <td>1.147431</td>\n",
       "      <td>0.000463</td>\n",
       "      <td>0.409637</td>\n",
       "      <td>0.108292</td>\n",
       "      <td>0.719907</td>\n",
       "    </tr>\n",
       "    <tr>\n",
       "      <th>912</th>\n",
       "      <td>Plastics-Thermoplasts-Market</td>\n",
       "      <td>Ortho-phenylene diamine {GLO}| market for | AP...</td>\n",
       "      <td>3.131877e-10</td>\n",
       "      <td>4.544084e-12</td>\n",
       "      <td>1.173624e-12</td>\n",
       "      <td>9.570210e-13</td>\n",
       "      <td>2.283290e-14</td>\n",
       "      <td>1.199126e-10</td>\n",
       "      <td>2.154978e-15</td>\n",
       "      <td>4.027254e-11</td>\n",
       "      <td>...</td>\n",
       "      <td>0.000032</td>\n",
       "      <td>6.423948e-08</td>\n",
       "      <td>1.528111</td>\n",
       "      <td>14.834046</td>\n",
       "      <td>211.699090</td>\n",
       "      <td>9.399846</td>\n",
       "      <td>0.044901</td>\n",
       "      <td>2.197984</td>\n",
       "      <td>0.686347</td>\n",
       "      <td>3.076006</td>\n",
       "    </tr>\n",
       "  </tbody>\n",
       "</table>\n",
       "<p>2 rows × 64 columns</p>\n",
       "</div>"
      ],
      "text/plain": [
       "                          wkbName  \\\n",
       "158    Chemicals-Inorganic-Market   \n",
       "912  Plastics-Thermoplasts-Market   \n",
       "\n",
       "                                              Activity  \\\n",
       "158  Calcium carbonate, precipitated {RoW}| market ...   \n",
       "912  Ortho-phenylene diamine {GLO}| market for | AP...   \n",
       "\n",
       "     ('PBs-LCIA V0.71 V0.71', 'Climate change - CO2 concentration', 'ppm')  \\\n",
       "158                                       4.173653e-11                       \n",
       "912                                       3.131877e-10                       \n",
       "\n",
       "     ('PBs-LCIA V0.71 V0.71', 'Climate change - Energy imbalance', 'Wm-2')  \\\n",
       "158                                       5.596044e-13                       \n",
       "912                                       4.544084e-12                       \n",
       "\n",
       "     ('PBs-LCIA V0.71 V0.71', 'Stratospheric ozone depletion', 'DU')  \\\n",
       "158                                       5.253571e-15                 \n",
       "912                                       1.173624e-12                 \n",
       "\n",
       "     ('PBs-LCIA V0.71 V0.71', 'Ocean acidification', 'Omega Aragon')  \\\n",
       "158                                       1.275348e-13                 \n",
       "912                                       9.570210e-13                 \n",
       "\n",
       "     ('PBs-LCIA V0.71 V0.71', 'Biogeochemical flows - P', 'Tg P')  \\\n",
       "158                                       5.889272e-16              \n",
       "912                                       2.283290e-14              \n",
       "\n",
       "     ('PBs-LCIA V0.71 V0.71', 'Biogeochemical flows - N', 'Tg N')  \\\n",
       "158                                       9.588936e-13              \n",
       "912                                       1.199126e-10              \n",
       "\n",
       "     ('PBs-LCIA V0.71 V0.71', 'Land-system change - Global', '%')  \\\n",
       "158                                       2.590902e-16              \n",
       "912                                       2.154978e-15              \n",
       "\n",
       "     ('PBs-LCIA V0.71 V0.71', 'Freshwater use - Global', 'km3')  ...  \\\n",
       "158                                       5.363869e-12           ...   \n",
       "912                                       4.027254e-11           ...   \n",
       "\n",
       "     ('ReCiPe 2016 Endpoint (H) V1.03 / World (2010) H/A', 'Human health', 'DALY')  \\\n",
       "158                                           0.000003                               \n",
       "912                                           0.000032                               \n",
       "\n",
       "     ('ReCiPe 2016 Endpoint (H) V1.03 / World (2010) H/A', 'Ecosystems', 'species.yr')  \\\n",
       "158                                       7.028130e-09                                   \n",
       "912                                       6.423948e-08                                   \n",
       "\n",
       "     ('ReCiPe 2016 Endpoint (H) V1.03 / World (2010) H/A', 'Resources', 'USD2013')  \\\n",
       "158                                           0.097966                               \n",
       "912                                           1.528111                               \n",
       "\n",
       "     ('IPCC 2013 GWP 100a V1.03', 'IPCC GWP 100a', 'kg CO2 eq')  \\\n",
       "158                                           1.761009            \n",
       "912                                          14.834046            \n",
       "\n",
       "     ('Cumulative Energy Demand V1.11 / Cumulative energy demand', 'Non renewable, fossil', 'MJ')  \\\n",
       "158                                          14.908673                                              \n",
       "912                                         211.699090                                              \n",
       "\n",
       "     ('Cumulative Energy Demand V1.11 / Cumulative energy demand', 'Non-renewable, nuclear', 'MJ')  \\\n",
       "158                                           1.147431                                               \n",
       "912                                           9.399846                                               \n",
       "\n",
       "     ('Cumulative Energy Demand V1.11 / Cumulative energy demand', 'Non-renewable, biomass', 'MJ')  \\\n",
       "158                                           0.000463                                               \n",
       "912                                           0.044901                                               \n",
       "\n",
       "     ('Cumulative Energy Demand V1.11 / Cumulative energy demand', 'Renewable, biomass', 'MJ')  \\\n",
       "158                                           0.409637                                           \n",
       "912                                           2.197984                                           \n",
       "\n",
       "     ('Cumulative Energy Demand V1.11 / Cumulative energy demand', 'Renewable, wind, solar, geothe', 'MJ')  \\\n",
       "158                                           0.108292                                                       \n",
       "912                                           0.686347                                                       \n",
       "\n",
       "     ('Cumulative Energy Demand V1.11 / Cumulative energy demand', 'Renewable, water', 'MJ')  \n",
       "158                                           0.719907                                        \n",
       "912                                           3.076006                                        \n",
       "\n",
       "[2 rows x 64 columns]"
      ]
     },
     "execution_count": 5,
     "metadata": {},
     "output_type": "execute_result"
    }
   ],
   "source": [
    "df_lcias = df_lcias_raw.copy() # make a deepcopy of the original df\n",
    "\n",
    "# Substitute \"APOS, U - copy\" in the original df with \"APOS, S\", according to the last added markets\n",
    "lst = []\n",
    "aposRegex = re.compile((r'APOS, (.*)')) # complied regular expression of \"APOS, U - copy\" to be replaced with \"APOS, S\"\n",
    "for item in df_lcias.Activity:\n",
    "    lst.append(aposRegex.sub(r'APOS, S', item))\n",
    "df_lcias.Activity = lst\n",
    "\n",
    "shape_lcias = df_lcias.shape\n",
    "print('df of LCIAs from SimaPro '.ljust(40,'.'), f' {shape_lcias}'.rjust(13, '.'))\n",
    "df_lcias.sample(2)"
   ]
  },
  {
   "cell_type": "code",
   "execution_count": 6,
   "metadata": {},
   "outputs": [
    {
     "name": "stdout",
     "output_type": "stream",
     "text": [
      "df of master mapped db.................. . (16027, 29)\n"
     ]
    },
    {
     "data": {
      "text/html": [
       "<div>\n",
       "<style scoped>\n",
       "    .dataframe tbody tr th:only-of-type {\n",
       "        vertical-align: middle;\n",
       "    }\n",
       "\n",
       "    .dataframe tbody tr th {\n",
       "        vertical-align: top;\n",
       "    }\n",
       "\n",
       "    .dataframe thead th {\n",
       "        text-align: right;\n",
       "    }\n",
       "</style>\n",
       "<table border=\"1\" class=\"dataframe\">\n",
       "  <thead>\n",
       "    <tr style=\"text-align: right;\">\n",
       "      <th></th>\n",
       "      <th>activity_comment</th>\n",
       "      <th>type</th>\n",
       "      <th>referenceProduct</th>\n",
       "      <th>shortName_geo</th>\n",
       "      <th>activityName_SP</th>\n",
       "      <th>fullName_SimaPro</th>\n",
       "      <th>unit</th>\n",
       "      <th>amount</th>\n",
       "      <th>allocation_percentage</th>\n",
       "      <th>wasteType</th>\n",
       "      <th>...</th>\n",
       "      <th>referenceProductUnit</th>\n",
       "      <th>referenceProduct_prodVolume</th>\n",
       "      <th>referenceProduct_prodVolumeComment</th>\n",
       "      <th>referenceProduct_price</th>\n",
       "      <th>referenceProduct_priceUnit</th>\n",
       "      <th>referenceProduct_priceComment</th>\n",
       "      <th>referenceProduct_casNumber</th>\n",
       "      <th>referenceProduct_CPCclass</th>\n",
       "      <th>activity_generalComment</th>\n",
       "      <th>sourceFilename</th>\n",
       "    </tr>\n",
       "  </thead>\n",
       "  <tbody>\n",
       "    <tr>\n",
       "      <th>11033</th>\n",
       "      <td>landfill for untreated municipal solid waste[...</td>\n",
       "      <td>Products</td>\n",
       "      <td>Process-specific burden, sanitary landfill</td>\n",
       "      <td>CH</td>\n",
       "      <td>processing</td>\n",
       "      <td>Process-specific burden, sanitary landfill {CH...</td>\n",
       "      <td>kg</td>\n",
       "      <td>1</td>\n",
       "      <td>100</td>\n",
       "      <td>not defined</td>\n",
       "      <td>...</td>\n",
       "      <td>kg</td>\n",
       "      <td>0.033668</td>\n",
       "      <td>This is a placeholder value that does not refl...</td>\n",
       "      <td>0.00104</td>\n",
       "      <td>EUR2005</td>\n",
       "      <td>Calculated based on inputs: The price of the p...</td>\n",
       "      <td>NaN</td>\n",
       "      <td>39: Wastes or scraps</td>\n",
       "      <td>landfill for untreated municipal solid waste.\\...</td>\n",
       "      <td>24313_7d47ffb3-cc3c-4189-b825-bd92c30dbc83_4a2...</td>\n",
       "    </tr>\n",
       "    <tr>\n",
       "      <th>14576</th>\n",
       "      <td>Estimated based on UN statistics, data on plas...</td>\n",
       "      <td>Waste treatment</td>\n",
       "      <td>Waste polyethylene terephtalate</td>\n",
       "      <td>LT</td>\n",
       "      <td>market for waste polyethylene terephthalate</td>\n",
       "      <td>Waste polyethylene terephtalate {LT}| market f...</td>\n",
       "      <td>kg</td>\n",
       "      <td>1</td>\n",
       "      <td>(blank)</td>\n",
       "      <td>All waste types</td>\n",
       "      <td>...</td>\n",
       "      <td>kg</td>\n",
       "      <td>473112.604473</td>\n",
       "      <td>NaN</td>\n",
       "      <td>0.00000</td>\n",
       "      <td>EUR2005</td>\n",
       "      <td>Products classifies as Waste are not assigned ...</td>\n",
       "      <td>25038-59-9</td>\n",
       "      <td>39270: Waste, parings and scrap of plastics</td>\n",
       "      <td>Estimated based on UN statistics, data on plas...</td>\n",
       "      <td>17591_9a28f1f6-337a-58a9-8a6d-ab005792e18c_dcb...</td>\n",
       "    </tr>\n",
       "  </tbody>\n",
       "</table>\n",
       "<p>2 rows × 29 columns</p>\n",
       "</div>"
      ],
      "text/plain": [
       "                                        activity_comment             type  \\\n",
       "11033  landfill for untreated municipal solid waste[...         Products   \n",
       "14576  Estimated based on UN statistics, data on plas...  Waste treatment   \n",
       "\n",
       "                                 referenceProduct shortName_geo  \\\n",
       "11033  Process-specific burden, sanitary landfill            CH   \n",
       "14576             Waste polyethylene terephtalate            LT   \n",
       "\n",
       "                                   activityName_SP  \\\n",
       "11033                                   processing   \n",
       "14576  market for waste polyethylene terephthalate   \n",
       "\n",
       "                                        fullName_SimaPro unit  amount  \\\n",
       "11033  Process-specific burden, sanitary landfill {CH...   kg       1   \n",
       "14576  Waste polyethylene terephtalate {LT}| market f...   kg       1   \n",
       "\n",
       "      allocation_percentage        wasteType  ... referenceProductUnit  \\\n",
       "11033                   100      not defined  ...                   kg   \n",
       "14576               (blank)  All waste types  ...                   kg   \n",
       "\n",
       "      referenceProduct_prodVolume  \\\n",
       "11033                    0.033668   \n",
       "14576               473112.604473   \n",
       "\n",
       "                      referenceProduct_prodVolumeComment  \\\n",
       "11033  This is a placeholder value that does not refl...   \n",
       "14576                                                NaN   \n",
       "\n",
       "      referenceProduct_price referenceProduct_priceUnit  \\\n",
       "11033                0.00104                    EUR2005   \n",
       "14576                0.00000                    EUR2005   \n",
       "\n",
       "                           referenceProduct_priceComment  \\\n",
       "11033  Calculated based on inputs: The price of the p...   \n",
       "14576  Products classifies as Waste are not assigned ...   \n",
       "\n",
       "       referenceProduct_casNumber  \\\n",
       "11033                         NaN   \n",
       "14576                  25038-59-9   \n",
       "\n",
       "                         referenceProduct_CPCclass  \\\n",
       "11033                         39: Wastes or scraps   \n",
       "14576  39270: Waste, parings and scrap of plastics   \n",
       "\n",
       "                                 activity_generalComment  \\\n",
       "11033  landfill for untreated municipal solid waste.\\...   \n",
       "14576  Estimated based on UN statistics, data on plas...   \n",
       "\n",
       "                                          sourceFilename  \n",
       "11033  24313_7d47ffb3-cc3c-4189-b825-bd92c30dbc83_4a2...  \n",
       "14576  17591_9a28f1f6-337a-58a9-8a6d-ab005792e18c_dcb...  \n",
       "\n",
       "[2 rows x 29 columns]"
      ]
     },
     "execution_count": 6,
     "metadata": {},
     "output_type": "execute_result"
    }
   ],
   "source": [
    "df_master_mapped_db = df_master_mapped_db_raw.copy() # make a deepcopy of the original df\n",
    "\n",
    "# Substitute \"APOS, U\" in the original df with \"APOS, S\", since the LCIAs are calculated with S-system instead of U-unit \n",
    "lst = []\n",
    "aposRegex = re.compile((r'APOS, (\\w+)')) # complied regular expression of \"APOS, U\" to be replaced with \"APOS, S\"\n",
    "for item in df_master_mapped_db.fullName_SimaPro:\n",
    "    lst.append(aposRegex.sub(r'APOS, S', item))\n",
    "df_master_mapped_db.fullName_SimaPro = lst\n",
    "\n",
    "shape_master_mapped = df_master_mapped_db.shape\n",
    "print('df of master mapped db'.ljust(40,'.'), f' {shape_master_mapped}'.rjust(13, '.'))\n",
    "\n",
    "df_master_mapped_db.sample(2)"
   ]
  },
  {
   "cell_type": "code",
   "execution_count": 7,
   "metadata": {},
   "outputs": [
    {
     "data": {
      "text/plain": [
       "Index(['activity_comment', 'type', 'referenceProduct', 'shortName_geo',\n",
       "       'activityName_SP', 'fullName_SimaPro', 'unit', 'amount',\n",
       "       'allocation_percentage', 'wasteType', 'category', 'inline_comment',\n",
       "       'activityName_EI', 'geo', 'activity_ISICclass',\n",
       "       'activity_ecoSpold01class', 'technologyLevel', 'referenceProductName',\n",
       "       'referenceProductAmount', 'referenceProductUnit',\n",
       "       'referenceProduct_prodVolume', 'referenceProduct_prodVolumeComment',\n",
       "       'referenceProduct_price', 'referenceProduct_priceUnit',\n",
       "       'referenceProduct_priceComment', 'referenceProduct_casNumber',\n",
       "       'referenceProduct_CPCclass', 'activity_generalComment',\n",
       "       'sourceFilename'],\n",
       "      dtype='object')"
      ]
     },
     "execution_count": 7,
     "metadata": {},
     "output_type": "execute_result"
    }
   ],
   "source": [
    "df_master_mapped_db.columns"
   ]
  },
  {
   "cell_type": "markdown",
   "metadata": {
    "tags": []
   },
   "source": [
    "## Mapping"
   ]
  },
  {
   "cell_type": "code",
   "execution_count": 8,
   "metadata": {},
   "outputs": [
    {
     "name": "stdout",
     "output_type": "stream",
     "text": [
      "       | LCIAs results | Master mapped db \n",
      "-----------------------------------------\n",
      "Total  |      947      |      16027       \n",
      "-----------------------------------------\n",
      "Mapped |           947 items           \n",
      "-----------------------------------------\n",
      "Merged df ..... ... (947, 93)\n"
     ]
    },
    {
     "data": {
      "text/html": [
       "<div>\n",
       "<style scoped>\n",
       "    .dataframe tbody tr th:only-of-type {\n",
       "        vertical-align: middle;\n",
       "    }\n",
       "\n",
       "    .dataframe tbody tr th {\n",
       "        vertical-align: top;\n",
       "    }\n",
       "\n",
       "    .dataframe thead th {\n",
       "        text-align: right;\n",
       "    }\n",
       "</style>\n",
       "<table border=\"1\" class=\"dataframe\">\n",
       "  <thead>\n",
       "    <tr style=\"text-align: right;\">\n",
       "      <th></th>\n",
       "      <th>wkbName</th>\n",
       "      <th>Activity</th>\n",
       "      <th>('PBs-LCIA V0.71 V0.71', 'Climate change - CO2 concentration', 'ppm')</th>\n",
       "      <th>('PBs-LCIA V0.71 V0.71', 'Climate change - Energy imbalance', 'Wm-2')</th>\n",
       "      <th>('PBs-LCIA V0.71 V0.71', 'Stratospheric ozone depletion', 'DU')</th>\n",
       "      <th>('PBs-LCIA V0.71 V0.71', 'Ocean acidification', 'Omega Aragon')</th>\n",
       "      <th>('PBs-LCIA V0.71 V0.71', 'Biogeochemical flows - P', 'Tg P')</th>\n",
       "      <th>('PBs-LCIA V0.71 V0.71', 'Biogeochemical flows - N', 'Tg N')</th>\n",
       "      <th>('PBs-LCIA V0.71 V0.71', 'Land-system change - Global', '%')</th>\n",
       "      <th>('PBs-LCIA V0.71 V0.71', 'Freshwater use - Global', 'km3')</th>\n",
       "      <th>...</th>\n",
       "      <th>referenceProductUnit</th>\n",
       "      <th>referenceProduct_prodVolume</th>\n",
       "      <th>referenceProduct_prodVolumeComment</th>\n",
       "      <th>referenceProduct_price</th>\n",
       "      <th>referenceProduct_priceUnit</th>\n",
       "      <th>referenceProduct_priceComment</th>\n",
       "      <th>referenceProduct_casNumber</th>\n",
       "      <th>referenceProduct_CPCclass</th>\n",
       "      <th>activity_generalComment</th>\n",
       "      <th>sourceFilename</th>\n",
       "    </tr>\n",
       "  </thead>\n",
       "  <tbody>\n",
       "    <tr>\n",
       "      <th>66</th>\n",
       "      <td>Chemicals-Fertilisers (organic)-Market</td>\n",
       "      <td>Green manure, Swiss integrated production, unt...</td>\n",
       "      <td>2.312992e-13</td>\n",
       "      <td>9.689839e-15</td>\n",
       "      <td>2.020841e-14</td>\n",
       "      <td>7.067800e-16</td>\n",
       "      <td>1.427563e-14</td>\n",
       "      <td>7.398807e-15</td>\n",
       "      <td>3.931081e-18</td>\n",
       "      <td>1.913703e-13</td>\n",
       "      <td>...</td>\n",
       "      <td>ha</td>\n",
       "      <td>4.000000e+00</td>\n",
       "      <td>NaN</td>\n",
       "      <td>25.00</td>\n",
       "      <td>EUR2005</td>\n",
       "      <td>Calculated based on inputs: The price of the p...</td>\n",
       "      <td>NaN</td>\n",
       "      <td>34659: Fertilizers n.e.c.</td>\n",
       "      <td>NaN</td>\n",
       "      <td>21887_85187640-1ab5-4213-858e-77df40baf038_862...</td>\n",
       "    </tr>\n",
       "    <tr>\n",
       "      <th>928</th>\n",
       "      <td>Plastics-Thermoplasts-Market</td>\n",
       "      <td>Polyethylene, high density, granulate, recycle...</td>\n",
       "      <td>1.349010e-11</td>\n",
       "      <td>1.853787e-13</td>\n",
       "      <td>3.244146e-15</td>\n",
       "      <td>4.122207e-14</td>\n",
       "      <td>6.874930e-16</td>\n",
       "      <td>1.052313e-12</td>\n",
       "      <td>7.693501e-17</td>\n",
       "      <td>1.035177e-12</td>\n",
       "      <td>...</td>\n",
       "      <td>kg</td>\n",
       "      <td>2.524761e+08</td>\n",
       "      <td>Calculated global production volume (PV) based...</td>\n",
       "      <td>0.70</td>\n",
       "      <td>EUR2005</td>\n",
       "      <td>From UN data (http://data.un.org/Data.aspx?q=p...</td>\n",
       "      <td>NaN</td>\n",
       "      <td>34710: Polymers of ethylene, in primary forms</td>\n",
       "      <td>This is a constrained market. The justificatio...</td>\n",
       "      <td>26607_a6020df2-6142-4ac2-a914-b40124248704_f3a...</td>\n",
       "    </tr>\n",
       "    <tr>\n",
       "      <th>116</th>\n",
       "      <td>Chemicals-Gases-Market</td>\n",
       "      <td>Chlorine dioxide {RoW}| market for chlorine di...</td>\n",
       "      <td>2.207909e-10</td>\n",
       "      <td>3.027347e-12</td>\n",
       "      <td>4.585756e-14</td>\n",
       "      <td>6.746794e-13</td>\n",
       "      <td>8.297465e-15</td>\n",
       "      <td>2.745920e-12</td>\n",
       "      <td>1.090516e-15</td>\n",
       "      <td>2.168859e-11</td>\n",
       "      <td>...</td>\n",
       "      <td>kg</td>\n",
       "      <td>2.143281e+09</td>\n",
       "      <td>NaN</td>\n",
       "      <td>1.31</td>\n",
       "      <td>EUR2005</td>\n",
       "      <td>Calculated based on inputs: The price of the p...</td>\n",
       "      <td>10049-04-4</td>\n",
       "      <td>34110: Hydrocarbons and their halogenated, sul...</td>\n",
       "      <td>This dataset represents the supply of 1 kg of ...</td>\n",
       "      <td>25674_e41b9bc8-de9f-418c-969d-fbedf5f8165f_29f...</td>\n",
       "    </tr>\n",
       "  </tbody>\n",
       "</table>\n",
       "<p>3 rows × 93 columns</p>\n",
       "</div>"
      ],
      "text/plain": [
       "                                    wkbName  \\\n",
       "66   Chemicals-Fertilisers (organic)-Market   \n",
       "928            Plastics-Thermoplasts-Market   \n",
       "116                  Chemicals-Gases-Market   \n",
       "\n",
       "                                              Activity  \\\n",
       "66   Green manure, Swiss integrated production, unt...   \n",
       "928  Polyethylene, high density, granulate, recycle...   \n",
       "116  Chlorine dioxide {RoW}| market for chlorine di...   \n",
       "\n",
       "     ('PBs-LCIA V0.71 V0.71', 'Climate change - CO2 concentration', 'ppm')  \\\n",
       "66                                        2.312992e-13                       \n",
       "928                                       1.349010e-11                       \n",
       "116                                       2.207909e-10                       \n",
       "\n",
       "     ('PBs-LCIA V0.71 V0.71', 'Climate change - Energy imbalance', 'Wm-2')  \\\n",
       "66                                        9.689839e-15                       \n",
       "928                                       1.853787e-13                       \n",
       "116                                       3.027347e-12                       \n",
       "\n",
       "     ('PBs-LCIA V0.71 V0.71', 'Stratospheric ozone depletion', 'DU')  \\\n",
       "66                                        2.020841e-14                 \n",
       "928                                       3.244146e-15                 \n",
       "116                                       4.585756e-14                 \n",
       "\n",
       "     ('PBs-LCIA V0.71 V0.71', 'Ocean acidification', 'Omega Aragon')  \\\n",
       "66                                        7.067800e-16                 \n",
       "928                                       4.122207e-14                 \n",
       "116                                       6.746794e-13                 \n",
       "\n",
       "     ('PBs-LCIA V0.71 V0.71', 'Biogeochemical flows - P', 'Tg P')  \\\n",
       "66                                        1.427563e-14              \n",
       "928                                       6.874930e-16              \n",
       "116                                       8.297465e-15              \n",
       "\n",
       "     ('PBs-LCIA V0.71 V0.71', 'Biogeochemical flows - N', 'Tg N')  \\\n",
       "66                                        7.398807e-15              \n",
       "928                                       1.052313e-12              \n",
       "116                                       2.745920e-12              \n",
       "\n",
       "     ('PBs-LCIA V0.71 V0.71', 'Land-system change - Global', '%')  \\\n",
       "66                                        3.931081e-18              \n",
       "928                                       7.693501e-17              \n",
       "116                                       1.090516e-15              \n",
       "\n",
       "     ('PBs-LCIA V0.71 V0.71', 'Freshwater use - Global', 'km3')  ...  \\\n",
       "66                                        1.913703e-13           ...   \n",
       "928                                       1.035177e-12           ...   \n",
       "116                                       2.168859e-11           ...   \n",
       "\n",
       "     referenceProductUnit  referenceProduct_prodVolume  \\\n",
       "66                     ha                 4.000000e+00   \n",
       "928                    kg                 2.524761e+08   \n",
       "116                    kg                 2.143281e+09   \n",
       "\n",
       "                    referenceProduct_prodVolumeComment  \\\n",
       "66                                                 NaN   \n",
       "928  Calculated global production volume (PV) based...   \n",
       "116                                                NaN   \n",
       "\n",
       "     referenceProduct_price  referenceProduct_priceUnit  \\\n",
       "66                    25.00                     EUR2005   \n",
       "928                    0.70                     EUR2005   \n",
       "116                    1.31                     EUR2005   \n",
       "\n",
       "                         referenceProduct_priceComment  \\\n",
       "66   Calculated based on inputs: The price of the p...   \n",
       "928  From UN data (http://data.un.org/Data.aspx?q=p...   \n",
       "116  Calculated based on inputs: The price of the p...   \n",
       "\n",
       "     referenceProduct_casNumber  \\\n",
       "66                          NaN   \n",
       "928                         NaN   \n",
       "116                  10049-04-4   \n",
       "\n",
       "                             referenceProduct_CPCclass  \\\n",
       "66                           34659: Fertilizers n.e.c.   \n",
       "928      34710: Polymers of ethylene, in primary forms   \n",
       "116  34110: Hydrocarbons and their halogenated, sul...   \n",
       "\n",
       "                               activity_generalComment  \\\n",
       "66                                                 NaN   \n",
       "928  This is a constrained market. The justificatio...   \n",
       "116  This dataset represents the supply of 1 kg of ...   \n",
       "\n",
       "                                        sourceFilename  \n",
       "66   21887_85187640-1ab5-4213-858e-77df40baf038_862...  \n",
       "928  26607_a6020df2-6142-4ac2-a914-b40124248704_f3a...  \n",
       "116  25674_e41b9bc8-de9f-418c-969d-fbedf5f8165f_29f...  \n",
       "\n",
       "[3 rows x 93 columns]"
      ]
     },
     "execution_count": 8,
     "metadata": {},
     "output_type": "execute_result"
    }
   ],
   "source": [
    "# Merge df_lcias with df_master_mapped_db on \"Activity\" and \"fullName_SimaPro\"\n",
    "df_merged = df_lcias.merge(df_master_mapped_db,\n",
    "                                 how='left',\n",
    "                                 left_on=['Activity'], \n",
    "                                 right_on=['fullName_SimaPro'],\n",
    "                                 suffixes=('_LCIArslts', '_SimaPro')\n",
    "                                )\n",
    "\n",
    "shape_merged = df_merged.shape\n",
    "# ----------------------------------\n",
    "\n",
    "print(\n",
    "    \"|\".rjust(8, \" \")\n",
    "    + \"LCIAs results\".center(15, \" \")\n",
    "    + \"|\"\n",
    "    + \"Master mapped db\".center(18, \" \")\n",
    ")\n",
    "print(\"\".center(41, \"-\"))\n",
    "print(\n",
    "    \"Total\"\n",
    "    + \"|\".rjust(3, \" \")\n",
    "    + f\"{shape_lcias[0]}\".center(15, \" \")\n",
    "    + \"|\"\n",
    "    + f\"{shape_master_mapped[0]}\".center(18, \" \")\n",
    ")\n",
    "print(\"\".center(41, \"-\"))\n",
    "print(\"Mapped |\", f\"{shape_merged[0]} items\".center(30, \" \"))\n",
    "print(\"\".center(41, \"-\"))\n",
    "\n",
    "print('Merged df '.ljust(15,'.'), f' {shape_merged}'.rjust(13, '.'))\n",
    "df_merged.sample(3)"
   ]
  },
  {
   "cell_type": "markdown",
   "metadata": {
    "tags": []
   },
   "source": [
    "### > Find unmatched activities and drop (if any)"
   ]
  },
  {
   "cell_type": "markdown",
   "metadata": {},
   "source": [
    "    (if there are any NaNs in columns \"on the right\" in merge function\n",
    "        e.g. 'fullName_SimaPro', or 'shortName_geo', \n",
    "    this means the activity was not matched, i.e. DOESN'T EXIST IN DF ON THE RIGHT)"
   ]
  },
  {
   "cell_type": "code",
   "execution_count": 9,
   "metadata": {},
   "outputs": [
    {
     "name": "stdout",
     "output_type": "stream",
     "text": [
      "CAUTION: These columns have at least one NaN entry:\n",
      "\n",
      "{'activityName_EI': 1,\n",
      " 'activityName_SP': 1,\n",
      " 'activity_ISICclass': 1,\n",
      " 'activity_comment': 1,\n",
      " 'activity_ecoSpold01class': 408,\n",
      " 'activity_generalComment': 400,\n",
      " 'allocation_percentage': 1,\n",
      " 'amount': 1,\n",
      " 'category': 1,\n",
      " 'fullName_SimaPro': 1,\n",
      " 'geo': 1,\n",
      " 'inline_comment': 1,\n",
      " 'referenceProduct': 1,\n",
      " 'referenceProductAmount': 1,\n",
      " 'referenceProductName': 1,\n",
      " 'referenceProductUnit': 1,\n",
      " 'referenceProduct_CPCclass': 2,\n",
      " 'referenceProduct_casNumber': 517,\n",
      " 'referenceProduct_price': 7,\n",
      " 'referenceProduct_priceComment': 7,\n",
      " 'referenceProduct_priceUnit': 7,\n",
      " 'referenceProduct_prodVolume': 1,\n",
      " 'referenceProduct_prodVolumeComment': 935,\n",
      " 'shortName_geo': 1,\n",
      " 'sourceFilename': 1,\n",
      " 'technologyLevel': 265,\n",
      " 'type': 1,\n",
      " 'unit': 1,\n",
      " 'wasteType': 1}\n"
     ]
    }
   ],
   "source": [
    "print('CAUTION: These columns have at least one NaN entry:\\n')\n",
    "\n",
    "dict_nans = dict(zip(\n",
    "                    list(df_merged.columns[df_merged.isnull().any()]),      # .isnull() exactly the same as .isna()\n",
    "                    [col for col in df_merged.isnull().sum() if col != 0]\n",
    "                    )\n",
    "                )\n",
    "\n",
    "pprint.pprint(dict_nans)"
   ]
  },
  {
   "cell_type": "markdown",
   "metadata": {},
   "source": [
    "> <font color=red>'activityName_EI'</font> is a **required** field. MUST not have empty entries!"
   ]
  },
  {
   "cell_type": "code",
   "execution_count": 10,
   "metadata": {},
   "outputs": [
    {
     "name": "stdout",
     "output_type": "stream",
     "text": [
      "This is a list of activities from SimaPro not matched in Ecoinvent db:\n",
      "\n"
     ]
    },
    {
     "data": {
      "text/plain": [
       "['Deinking emulsion, in paper production {GLO}| market for | APOS, S']"
      ]
     },
     "execution_count": 10,
     "metadata": {},
     "output_type": "execute_result"
    }
   ],
   "source": [
    "print('This is a list of activities from SimaPro not matched in Ecoinvent db:\\n')\n",
    "list(df_merged[df_merged.activityName_EI.isnull()].Activity)"
   ]
  },
  {
   "cell_type": "markdown",
   "metadata": {},
   "source": [
    "> (!) <span style='background:red'> WARNING:</span> Deinking emulsion, in paper production {GLO} is not in Ecoinvent database, only RoW and RER...<br>\n",
    "> Drop it from df.<br>"
   ]
  },
  {
   "cell_type": "code",
   "execution_count": 11,
   "metadata": {},
   "outputs": [],
   "source": [
    "df_merged = df_merged.dropna(\n",
    "    axis=0, how=\"any\", subset=[\"activityName_EI\"], inplace=False\n",
    ")"
   ]
  },
  {
   "cell_type": "markdown",
   "metadata": {
    "tags": []
   },
   "source": [
    "### > Check duplicates (if any)"
   ]
  },
  {
   "cell_type": "code",
   "execution_count": 12,
   "metadata": {},
   "outputs": [
    {
     "name": "stdout",
     "output_type": "stream",
     "text": [
      "   nº of unique items per column:  \n",
      "-----------------------------------\n"
     ]
    },
    {
     "data": {
      "text/plain": [
       "wkbName                                                                   18\n",
       "Activity                                                                 946\n",
       "('PBs-LCIA V0.71 V0.71', 'Climate change - CO2 concentration', 'ppm')    938\n",
       "('PBs-LCIA V0.71 V0.71', 'Climate change - Energy imbalance', 'Wm-2')    943\n",
       "('PBs-LCIA V0.71 V0.71', 'Stratospheric ozone depletion', 'DU')          939\n",
       "                                                                        ... \n",
       "referenceProduct_priceComment                                            361\n",
       "referenceProduct_casNumber                                               275\n",
       "referenceProduct_CPCclass                                                116\n",
       "activity_generalComment                                                  312\n",
       "sourceFilename                                                           946\n",
       "Length: 93, dtype: int64"
      ]
     },
     "execution_count": 12,
     "metadata": {},
     "output_type": "execute_result"
    }
   ],
   "source": [
    "# Unique items per column\n",
    "print('nº of unique items per column:'.center(35))\n",
    "print(''.center(35,'-'))\n",
    "df_merged.nunique()"
   ]
  },
  {
   "cell_type": "code",
   "execution_count": 13,
   "metadata": {},
   "outputs": [
    {
     "name": "stdout",
     "output_type": "stream",
     "text": [
      "These are the \"duplicated\" items in column Activity:\n",
      "\n"
     ]
    },
    {
     "data": {
      "text/html": [
       "<div>\n",
       "<style scoped>\n",
       "    .dataframe tbody tr th:only-of-type {\n",
       "        vertical-align: middle;\n",
       "    }\n",
       "\n",
       "    .dataframe tbody tr th {\n",
       "        vertical-align: top;\n",
       "    }\n",
       "\n",
       "    .dataframe thead th {\n",
       "        text-align: right;\n",
       "    }\n",
       "</style>\n",
       "<table border=\"1\" class=\"dataframe\">\n",
       "  <thead>\n",
       "    <tr style=\"text-align: right;\">\n",
       "      <th></th>\n",
       "      <th>wkbName</th>\n",
       "      <th>Activity</th>\n",
       "      <th>('PBs-LCIA V0.71 V0.71', 'Climate change - CO2 concentration', 'ppm')</th>\n",
       "      <th>('PBs-LCIA V0.71 V0.71', 'Climate change - Energy imbalance', 'Wm-2')</th>\n",
       "      <th>('PBs-LCIA V0.71 V0.71', 'Stratospheric ozone depletion', 'DU')</th>\n",
       "      <th>('PBs-LCIA V0.71 V0.71', 'Ocean acidification', 'Omega Aragon')</th>\n",
       "      <th>('PBs-LCIA V0.71 V0.71', 'Biogeochemical flows - P', 'Tg P')</th>\n",
       "      <th>('PBs-LCIA V0.71 V0.71', 'Biogeochemical flows - N', 'Tg N')</th>\n",
       "      <th>('PBs-LCIA V0.71 V0.71', 'Land-system change - Global', '%')</th>\n",
       "      <th>('PBs-LCIA V0.71 V0.71', 'Freshwater use - Global', 'km3')</th>\n",
       "      <th>...</th>\n",
       "      <th>referenceProductUnit</th>\n",
       "      <th>referenceProduct_prodVolume</th>\n",
       "      <th>referenceProduct_prodVolumeComment</th>\n",
       "      <th>referenceProduct_price</th>\n",
       "      <th>referenceProduct_priceUnit</th>\n",
       "      <th>referenceProduct_priceComment</th>\n",
       "      <th>referenceProduct_casNumber</th>\n",
       "      <th>referenceProduct_CPCclass</th>\n",
       "      <th>activity_generalComment</th>\n",
       "      <th>sourceFilename</th>\n",
       "    </tr>\n",
       "  </thead>\n",
       "  <tbody>\n",
       "  </tbody>\n",
       "</table>\n",
       "<p>0 rows × 93 columns</p>\n",
       "</div>"
      ],
      "text/plain": [
       "Empty DataFrame\n",
       "Columns: [wkbName, Activity, ('PBs-LCIA V0.71 V0.71', 'Climate change - CO2 concentration', 'ppm'), ('PBs-LCIA V0.71 V0.71', 'Climate change - Energy imbalance', 'Wm-2'), ('PBs-LCIA V0.71 V0.71', 'Stratospheric ozone depletion', 'DU'), ('PBs-LCIA V0.71 V0.71', 'Ocean acidification', 'Omega Aragon'), ('PBs-LCIA V0.71 V0.71', 'Biogeochemical flows - P', 'Tg P'), ('PBs-LCIA V0.71 V0.71', 'Biogeochemical flows - N', 'Tg N'), ('PBs-LCIA V0.71 V0.71', 'Land-system change - Global', '%'), ('PBs-LCIA V0.71 V0.71', 'Freshwater use - Global', 'km3'), ('PBs-LCIA V0.71 V0.71', 'Change in biosphere integrity - BII loss', '% BII loss'), ('PBs-LCIA (baseline) V0.72', 'Climate change - CO2 concentration', 'ppm'), ('PBs-LCIA (baseline) V0.72', 'Climate change - Energy imbalance', 'Wm-2'), ('PBs-LCIA (baseline) V0.72', 'Stratospheric ozone depletion', 'DU'), ('PBs-LCIA (baseline) V0.72', 'Ocean acidification', 'Omega Aragon'), ('PBs-LCIA (baseline) V0.72', 'Biogeochemical flows - P', 'Tg P'), ('PBs-LCIA (baseline) V0.72', 'Biogeochemical flows - N', 'Tg N'), ('PBs-LCIA (baseline) V0.72', 'Land-system change - Global', '%'), ('PBs-LCIA (baseline) V0.72', 'Freshwater use - Global', 'km3'), ('PBs-LCIA (baseline) V0.72', 'Change in biosphere integrity - BII loss', '% BII loss'), ('PBs - Alternative: EF - LANCA V0.70', 'Climate change', 'kg CO2 eq'), ('PBs - Alternative: EF - LANCA V0.70', 'Ozone depletion', 'kg CFC11 eq'), ('PBs - Alternative: EF - LANCA V0.70', 'Ionising radiation, HH', 'kBq U-235 eq'), ('PBs - Alternative: EF - LANCA V0.70', 'Photochemical ozone formation, HH', 'kg NMVOC eq'), ('PBs - Alternative: EF - LANCA V0.70', 'Respiratory inorganics', 'disease inc.'), ('PBs - Alternative: EF - LANCA V0.70', 'Non-cancer human health effects', 'CTUh'), ('PBs - Alternative: EF - LANCA V0.70', 'Cancer human health effects', 'CTUh'), ('PBs - Alternative: EF - LANCA V0.70', 'Acidification terrestrial and freshwater', 'mol H+ eq'), ('PBs - Alternative: EF - LANCA V0.70', 'Eutrophication freshwater', 'kg P eq'), ('PBs - Alternative: EF - LANCA V0.70', 'Eutrophication marine', 'kg N eq'), ('PBs - Alternative: EF - LANCA V0.70', 'Eutrophication terrestrial', 'mol N eq'), ('PBs - Alternative: EF - LANCA V0.70', 'Ecotoxicity freshwater', 'CTUe'), ('PBs - Alternative: EF - LANCA V0.70', 'Land use - Erosion', 'kg soil loss'), ('PBs - Alternative: EF - LANCA V0.70', 'Water scarcity', 'm3 depriv.'), ('PBs - Alternative: EF - LANCA V0.70', 'Resource use, energy carriers', 'MJ'), ('PBs - Alternative: EF - LANCA V0.70', 'Resource use, mineral and metals', 'kg Sb eq'), ('ReCiPe 2016 Midpoint (H) V1.03 / World (2010) H', 'Global warming', 'kg CO2 eq'), ('ReCiPe 2016 Midpoint (H) V1.03 / World (2010) H', 'Stratospheric ozone depletion', 'kg CFC11 eq'), ('ReCiPe 2016 Midpoint (H) V1.03 / World (2010) H', 'Ionizing radiation', 'kBq Co-60 eq'), ('ReCiPe 2016 Midpoint (H) V1.03 / World (2010) H', 'Ozone formation, Human health', 'kg NOx eq'), ('ReCiPe 2016 Midpoint (H) V1.03 / World (2010) H', 'Fine particulate matter formation', 'kg PM2.5 eq'), ('ReCiPe 2016 Midpoint (H) V1.03 / World (2010) H', 'Ozone formation, Terrestrial ecosystems', 'kg NOx eq'), ('ReCiPe 2016 Midpoint (H) V1.03 / World (2010) H', 'Terrestrial acidification', 'kg SO2 eq'), ('ReCiPe 2016 Midpoint (H) V1.03 / World (2010) H', 'Freshwater eutrophication', 'kg P eq'), ('ReCiPe 2016 Midpoint (H) V1.03 / World (2010) H', 'Marine eutrophication', 'kg N eq'), ('ReCiPe 2016 Midpoint (H) V1.03 / World (2010) H', 'Terrestrial ecotoxicity', 'kg 1,4-DCB'), ('ReCiPe 2016 Midpoint (H) V1.03 / World (2010) H', 'Freshwater ecotoxicity', 'kg 1,4-DCB'), ('ReCiPe 2016 Midpoint (H) V1.03 / World (2010) H', 'Marine ecotoxicity', 'kg 1,4-DCB'), ('ReCiPe 2016 Midpoint (H) V1.03 / World (2010) H', 'Human carcinogenic toxicity', 'kg 1,4-DCB'), ('ReCiPe 2016 Midpoint (H) V1.03 / World (2010) H', 'Human non-carcinogenic toxicity', 'kg 1,4-DCB'), ('ReCiPe 2016 Midpoint (H) V1.03 / World (2010) H', 'Land use', 'm2a crop eq'), ('ReCiPe 2016 Midpoint (H) V1.03 / World (2010) H', 'Mineral resource scarcity', 'kg Cu eq'), ('ReCiPe 2016 Midpoint (H) V1.03 / World (2010) H', 'Fossil resource scarcity', 'kg oil eq'), ('ReCiPe 2016 Midpoint (H) V1.03 / World (2010) H', 'Water consumption', 'm3'), ('ReCiPe 2016 Endpoint (H) V1.03 / World (2010) H/A', 'Human health', 'DALY'), ('ReCiPe 2016 Endpoint (H) V1.03 / World (2010) H/A', 'Ecosystems', 'species.yr'), ('ReCiPe 2016 Endpoint (H) V1.03 / World (2010) H/A', 'Resources', 'USD2013'), ('IPCC 2013 GWP 100a V1.03', 'IPCC GWP 100a', 'kg CO2 eq'), ('Cumulative Energy Demand V1.11 / Cumulative energy demand', 'Non renewable, fossil', 'MJ'), ('Cumulative Energy Demand V1.11 / Cumulative energy demand', 'Non-renewable, nuclear', 'MJ'), ('Cumulative Energy Demand V1.11 / Cumulative energy demand', 'Non-renewable, biomass', 'MJ'), ('Cumulative Energy Demand V1.11 / Cumulative energy demand', 'Renewable, biomass', 'MJ'), ('Cumulative Energy Demand V1.11 / Cumulative energy demand', 'Renewable, wind, solar, geothe', 'MJ'), ('Cumulative Energy Demand V1.11 / Cumulative energy demand', 'Renewable, water', 'MJ'), activity_comment, type, referenceProduct, shortName_geo, activityName_SP, fullName_SimaPro, unit, amount, allocation_percentage, wasteType, category, inline_comment, activityName_EI, geo, activity_ISICclass, activity_ecoSpold01class, technologyLevel, referenceProductName, referenceProductAmount, referenceProductUnit, referenceProduct_prodVolume, referenceProduct_prodVolumeComment, referenceProduct_price, referenceProduct_priceUnit, referenceProduct_priceComment, referenceProduct_casNumber, referenceProduct_CPCclass, activity_generalComment, sourceFilename]\n",
       "Index: []\n",
       "\n",
       "[0 rows x 93 columns]"
      ]
     },
     "execution_count": 13,
     "metadata": {},
     "output_type": "execute_result"
    }
   ],
   "source": [
    "# Check for duplicates\n",
    "\n",
    "print('These are the \"duplicated\" items in column Activity:\\n')\n",
    "df_merged[df_merged.Activity.duplicated(False)]\n",
    "# df_merged.loc[85,'activityName_Ecoinvent']"
   ]
  },
  {
   "cell_type": "markdown",
   "metadata": {
    "heading_collapsed": "true",
    "tags": []
   },
   "source": [
    "## TEMPORTAL (inactive)"
   ]
  },
  {
   "cell_type": "raw",
   "metadata": {},
   "source": [
    "df_uniques = df_merged.drop_duplicates(subset=[\"category\", \"activity_ISICclass\"])[[\"wkbName\", \"category\", \"activity_ecoSpold01class\", \"activity_ISICclass\", \"referenceProduct_CPCclass\"]]\n",
    "df_uniques_groupedbyCategory = dict(list(df_uniques.groupby(by=\"category\")))\n",
    "dict_correspondence = {}\n",
    "for key in df_uniques_groupedbyCategory:\n",
    "    dict_correspondence[key] = df_uniques_groupedbyCategory[key].activity_ISICclass.unique() \n",
    "# dict_correspondence\n",
    "\n",
    "df_uniques_groupedbyISIC = dict(list(df_uniques.groupby(by=\"activity_ISICclass\")))\n",
    "rev_dict_correspondence = {}\n",
    "for key in df_uniques_groupedbyISIC:\n",
    "    rev_dict_correspondence[key] = df_uniques_groupedbyISIC[key].category.unique()\n",
    "# rev_dict_correspondence    "
   ]
  },
  {
   "cell_type": "raw",
   "metadata": {},
   "source": [
    "pd.DataFrame.from_dict(rev_dict_correspondence, orient=\"index\")"
   ]
  },
  {
   "cell_type": "raw",
   "metadata": {},
   "source": [
    "pprint.pprint(set(list(df_uniques[df_uniques.activity_ISICclass == \"2011:Manufacture of basic chemicals\"].referenceProduct_CPCclass)))"
   ]
  },
  {
   "cell_type": "raw",
   "metadata": {},
   "source": [
    "filter_df(df_uniques, col_name=\"referenceProduct_CPCclass\", filter_in=[\"34:\"])[\n",
    "    [\n",
    "#         \"Activity\",\n",
    "#         \"referenceProductName\",\n",
    "        \"category\",\n",
    "        \"activity_ISICclass\",\n",
    "        \"referenceProduct_CPCclass\",\n",
    "#         \"referenceProduct_casNumber\",\n",
    "    ]\n",
    "]"
   ]
  },
  {
   "cell_type": "raw",
   "metadata": {},
   "source": [
    "df_merged.columns\n",
    "# df_merged[[\"wkbName\", \"category\", \"activity_ecoSpold01class\", \"activity_ISICclass\", \"referenceProduct_CPCclass\"]].nunique()\n",
    "df_merged[[\"wkbName\", \"category\", \"activity_ecoSpold01class\", \"activity_ISICclass\", \"referenceProduct_CPCclass\"]].activity_ISICclass.unique()"
   ]
  },
  {
   "cell_type": "raw",
   "metadata": {},
   "source": [
    "# find=\"3821:Treatment and disposal of non-hazardous waste\"\n",
    "# find=\"0891:Mining of chemical and fertilizer minerals\"\n",
    "# find = \"19a: Liquid and gaseous fuels from biomass\"\n",
    "# find = \"0161:Support activities for crop production\"\n",
    "# find = \"20:Manufacture of chemicals and chemical products\"\n",
    "# find = \"0729:Mining of other non-ferrous metal ores\"\n",
    "find = \"2011:Manufacture of basic chemicals\"\n",
    "df_merged[df_merged.activity_ISICclass==find]"
   ]
  },
  {
   "cell_type": "raw",
   "metadata": {},
   "source": [
    "df_groupedbyISIC2011 = dict(list(df_merged.groupby(by=\"activity_ISICclass\")))[\"2011:Manufacture of basic chemicals\"]"
   ]
  },
  {
   "cell_type": "raw",
   "metadata": {},
   "source": [
    "pprint.pprint(set(list(df_groupedbyISIC2011.referenceProduct_CPCclass.sort_values(ascending=True))))"
   ]
  },
  {
   "cell_type": "raw",
   "metadata": {},
   "source": [
    "filter_df(\n",
    "    df_merged, col_name=\"referenceProduct_CPCclass\", filter_in=[\"34\"]\n",
    ").referenceProduct_CPCclass.sort_values()"
   ]
  },
  {
   "cell_type": "raw",
   "metadata": {},
   "source": [
    "idxes = []\n",
    "for idx in df_master_mapped_db.index: #referenceProduct_CPCclass:\n",
    "    if str(df_master_mapped_db.referenceProduct_CPCclass[idx]).startswith(\"34\"):\n",
    "        idxes.append(idx)\n",
    "        \n",
    "df_CPC34_EI = filter_df(df_master_mapped_db.iloc[idxes], col_name=\"activityName_EI\", filter_in=[\"market for\"])"
   ]
  },
  {
   "cell_type": "raw",
   "metadata": {},
   "source": [
    "# set(list(df_CPC34_EI.referenceProduct_CPCclass.sort_values()))"
   ]
  },
  {
   "cell_type": "raw",
   "metadata": {},
   "source": [
    "filter_df(df_CPC34_EI, col_name=\"referenceProduct_CPCclass\", filter_in=[\"348\"])#.category.unique()"
   ]
  },
  {
   "cell_type": "raw",
   "metadata": {},
   "source": [
    "# df_merged.columns"
   ]
  },
  {
   "cell_type": "raw",
   "metadata": {},
   "source": [
    "df_merged.index"
   ]
  },
  {
   "cell_type": "raw",
   "metadata": {},
   "source": [
    "# len(idxesother)\n",
    "# df_merged.loc[idxesother]"
   ]
  },
  {
   "cell_type": "raw",
   "metadata": {},
   "source": [
    "idxesother = []\n",
    "for idx in df_merged.index: #referenceProduct_CPCclass:\n",
    "    if str(df_merged.referenceProduct_CPCclass[idx]).startswith(\"34\"):\n",
    "        idxesother.append(idx)\n",
    "        \n",
    "df_CPC34_merged = filter_df(df_merged.loc[idxesother], col_name=\"activityName_EI\", filter_in=[\"market for\"])\n",
    "# df_CPC34_merged"
   ]
  },
  {
   "cell_type": "raw",
   "metadata": {},
   "source": [
    "filter_df(df_CPC34_merged, col_name=\"referenceProduct_CPCclass\", filter_in=[\"348\"])#.category.unique()"
   ]
  },
  {
   "cell_type": "raw",
   "metadata": {},
   "source": [
    "762-633"
   ]
  },
  {
   "cell_type": "raw",
   "metadata": {},
   "source": [
    "pprint.pprint(\n",
    "    set(\n",
    "        list(\n",
    "            filter_df(\n",
    "                df_merged, col_name=\"referenceProduct_CPCclass\", filter_in=[\"34\"]\n",
    "            ).referenceProduct_CPCclass.sort_values()\n",
    "        )\n",
    "    )\n",
    ")"
   ]
  },
  {
   "cell_type": "raw",
   "metadata": {},
   "source": [
    "pprint.pprint(\n",
    "    set(\n",
    "        list(\n",
    "            filter_df(\n",
    "                df_master_mapped_db, col_name=\"referenceProduct_CPCclass\", filter_in=[\"34\"]\n",
    "            ).referenceProduct_CPCclass.sort_values()\n",
    "        )\n",
    "    )\n",
    ")"
   ]
  },
  {
   "cell_type": "raw",
   "metadata": {},
   "source": [
    "df_master_mapped_db.columns\n",
    "# find = \"0729:Mining of other non-ferrous metal ores\"\n",
    "find = \"2011:Manufacture of basic chemicals\"\n",
    "df_trial = df_master_mapped_db[df_master_mapped_db.activity_ISICclass==find]\n",
    "df_trial"
   ]
  },
  {
   "cell_type": "raw",
   "metadata": {},
   "source": [
    "filter_df(df_trial, col_name=\"activityName_EI\", filter_in=[\"market for\"])"
   ]
  },
  {
   "cell_type": "markdown",
   "metadata": {},
   "source": [
    "# OUTPUTS: Export data to excel"
   ]
  },
  {
   "cell_type": "code",
   "execution_count": 14,
   "metadata": {},
   "outputs": [
    {
     "name": "stdout",
     "output_type": "stream",
     "text": [
      "File: mapped-lcia-results.xlsx successfully created in \n",
      "C:\\Users\\ViteksPC\\Documents\\00-ETH_projects\\17-AESA_ecoinvent_chemicals\\data\\interim\n",
      "Wall time: 1.73 s\n"
     ]
    }
   ],
   "source": [
    "%%time\n",
    "\n",
    "# Set output directory\n",
    "outputs_dir = set_outputs_dir(use_default=True)  # default `..\\data\\interim`\n",
    "\n",
    "## Export dataframe to excel\n",
    "excelName = \"mapped-lcia-results.xlsx\"\n",
    "\n",
    "df_readme = make_readme_info(\n",
    "    excelName,\n",
    "    \"Sheet1: LCIA method results (per category) for ALL chemical markets from SimaPro910 \"\n",
    "    \"mapped against metadata from Ecoinvent v3.5 APOS. \"\n",
    "    \"\\ndf_lcia_labels: unique names of the LCIA methods used in Sheet1.\",\n",
    ")\n",
    "\n",
    "w_excel(\n",
    "    path_to_file=outputs_dir,\n",
    "    filename=excelName,\n",
    "    dict_data_to_write={\"Sheet1\": df_merged, \"df_lcia_labels\": df_lcia_labels},\n",
    "    readme_info=(\"readme\", df_readme),\n",
    "    ####         ExcelWriter_kwargs={\"engine\": \"openpyxl\", \"encoding\": \"UTF-8\"}\n",
    "    #     startrow=0\n",
    ")"
   ]
  }
 ],
 "metadata": {
  "kernelspec": {
   "display_name": "Python (proj17)",
   "language": "python",
   "name": "17-conda-env"
  },
  "language_info": {
   "codemirror_mode": {
    "name": "ipython",
    "version": 3
   },
   "file_extension": ".py",
   "mimetype": "text/x-python",
   "name": "python",
   "nbconvert_exporter": "python",
   "pygments_lexer": "ipython3",
   "version": "3.8.5"
  }
 },
 "nbformat": 4,
 "nbformat_minor": 4
}
