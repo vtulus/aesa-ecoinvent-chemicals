{
 "cells": [
  {
   "cell_type": "markdown",
   "metadata": {},
   "source": [
    "<div class=\"alert alert-block alert-info\">\n",
    "This script <b>extends the data by adding properties extracted from PubChem</b>.\n",
    "    <hr> \n",
    "    Note: <br>\n",
    "    <i><b>Input file(s)' name(s) and metadata</b></i> (if available) are <b>printed out (below 👇🏼) in 'read data to df' section.</b>\n",
    "</div>"
   ]
  },
  {
   "cell_type": "code",
   "execution_count": null,
   "metadata": {},
   "outputs": [],
   "source": [
    "# %env\n",
    "# %who_ls\n",
    "# %who\n",
    "# %who int\n",
    "# %pinfo <var name>"
   ]
  },
  {
   "cell_type": "markdown",
   "metadata": {
    "tags": []
   },
   "source": [
    "# Imports"
   ]
  },
  {
   "cell_type": "code",
   "execution_count": null,
   "metadata": {},
   "outputs": [],
   "source": [
    "%config IPCompleter.use_jedi = False # disable jedi autocompleter (https://stackoverflow.com/a/65734178/14485040)\n",
    "\n",
    "import project_path  # makes possible the access to `src` directory using relative path\n",
    "from src.data import filter_dataframe, internal_funcs\n",
    "from src.utils import explore_dir, make_readme_info\n",
    "from src.utils import read_excel_to_pandas as r_excel\n",
    "from src.utils import set_outputs_dir\n",
    "from src.utils import write_pandas_to_excel as w_excel\n",
    "\n",
    "%run init_nb.ipynb"
   ]
  },
  {
   "cell_type": "markdown",
   "metadata": {},
   "source": [
    "# INPUTS: Identify file(s) and read data to df"
   ]
  },
  {
   "cell_type": "code",
   "execution_count": null,
   "metadata": {},
   "outputs": [],
   "source": [
    "# Explore the directory to find the file(s)\n",
    "inputs_dir, files_list = explore_dir(\n",
    "    path_to_dir=r\"..\\data\\interim\", file_extension=\"xlsx\", print_files_list=True\n",
    ")"
   ]
  },
  {
   "cell_type": "code",
   "execution_count": null,
   "metadata": {},
   "outputs": [],
   "source": [
    "# Read data\n",
    "df_raw_data = r_excel(inputs_dir, \"raw-data-chosen-lcia-methods-and-metadata.xlsx\")\n",
    "print(\n",
    "    \"df of raw data\".ljust(40, \".\"),\n",
    "    f\"{df_raw_data.shape}\\n\".rjust(13, \".\"),\n",
    ")\n",
    "\n",
    "# Get list of LCIA methods and list of metadata\n",
    "METHODS = r_excel(\n",
    "    inputs_dir, \"raw-data-chosen-lcia-methods-and-metadata.xlsx\", sheets=\"METHODS\", show_readme=False,\n",
    ")[\"METHODS\"].to_list()\n",
    "\n",
    "METADATA = r_excel(\n",
    "    inputs_dir, \"raw-data-chosen-lcia-methods-and-metadata.xlsx\", sheets=\"METADATA\", show_readme=False,\n",
    ")[\"METADATA\"].to_list()\n",
    "\n",
    "# Read PubChem properties\n",
    "df_pubchem_prop = r_excel(inputs_dir, \"pubchem-properties.xlsx\")\n",
    "print(\n",
    "    \"df of PubChem chemical properties\".ljust(40, \".\"),\n",
    "    f\"{df_pubchem_prop.shape}\\n\".rjust(13, \".\"),\n",
    ")"
   ]
  },
  {
   "cell_type": "markdown",
   "metadata": {
    "tags": []
   },
   "source": [
    "# Operations \n",
    "- add data with chemical properties (from PubChem) to df_raw_data\n",
    "<div class=\"alert alert-block alert-info\">\n",
    "    created: <strong>df_analysis</strong>\n",
    "</div>"
   ]
  },
  {
   "cell_type": "code",
   "execution_count": null,
   "metadata": {},
   "outputs": [],
   "source": [
    "df_pubchem_prop.sort_values(by=[\"MW\", \"pubchem_match\"], ascending=True, inplace=True)\n",
    "df_pubchem_prop.sample(3)"
   ]
  },
  {
   "cell_type": "code",
   "execution_count": null,
   "metadata": {},
   "outputs": [],
   "source": [
    "percent_not_matched = (\n",
    "    1\n",
    "    - df_pubchem_prop[df_pubchem_prop.num_matches != 0].referenceProduct.count()\n",
    "    / df_pubchem_prop.referenceProduct.count()\n",
    ") * 100\n",
    "print(\"{}% of referenceProducts had no match...\".format(percent_not_matched.round(2)))"
   ]
  },
  {
   "cell_type": "markdown",
   "metadata": {
    "heading_collapsed": "true",
    "tags": []
   },
   "source": [
    "## Explore df_pubchem_prop"
   ]
  },
  {
   "cell_type": "code",
   "execution_count": null,
   "metadata": {},
   "outputs": [],
   "source": [
    "# df_pubchem_prop[df_pubchem_prop.num_matches == 0]"
   ]
  },
  {
   "cell_type": "code",
   "execution_count": null,
   "metadata": {},
   "outputs": [],
   "source": [
    "df_pubchem_prop[df_pubchem_prop.num_matches == 0]"
   ]
  },
  {
   "cell_type": "code",
   "execution_count": null,
   "metadata": {},
   "outputs": [],
   "source": [
    "# Components not identified automatically by PubChem\n",
    "# have to be added manually !\n",
    "\n",
    "COMP_ADDED_MANUALLY = [\n",
    "    # from Javier's list\n",
    "    \"Liquefied petroleum gas\",\n",
    "    \"Petrol, low-sulfur\",  # or 'Petrol, unleaded',\n",
    "    \"Diesel\",\n",
    "    \"Diesel, low-sulfur\",\n",
    "    \"Kerosene\",\n",
    "    # other\n",
    "    \"Xylene\",  # o-, m- or p-\n",
    "]\n",
    "COMP_ADDED_MANUALLY"
   ]
  },
  {
   "cell_type": "code",
   "execution_count": null,
   "metadata": {},
   "outputs": [],
   "source": [
    "# Properties added here, \n",
    "# if desired, specific MW and complexity and other can be added below\n",
    "\n",
    "df_pubchem_prop.loc[\n",
    "    df_pubchem_prop.referenceProduct == \"Liquefied petroleum gas\",\n",
    "    [\"pubchem_match\", \"num_matches\", \"MW\"],\n",
    "] = [\"manual match\", 1, 44.097] # Propane MW used as proxy\n",
    "\n",
    "df_pubchem_prop.loc[\n",
    "    df_pubchem_prop.referenceProduct == \"Petrol, low-sulfur\",\n",
    "    [\"pubchem_match\", \"num_matches\", \"MW\"],\n",
    "] = [\"manual match\", 1, 105] # MW taken as average...\n",
    "\n",
    "df_pubchem_prop.loc[\n",
    "    df_pubchem_prop.referenceProduct == \"Diesel\",\n",
    "    [\"pubchem_match\", \"num_matches\", \"MW\"],\n",
    "] = [\"manual match\", 1, 200] # MW taken as average...\n",
    "\n",
    "df_pubchem_prop.loc[\n",
    "    df_pubchem_prop.referenceProduct == \"Diesel, low-sulfur\",\n",
    "    [\"pubchem_match\", \"num_matches\", \"MW\"],\n",
    "] = [\"manual match\", 1, 200] # MW taken as average...\n",
    "\n",
    "df_pubchem_prop.loc[\n",
    "    df_pubchem_prop.referenceProduct == \"Kerosene\",\n",
    "    [\"pubchem_match\", \"num_matches\", \"MW\"],\n",
    "] = [\"manual match\", 1, 170] # MW taken as average...\n",
    "\n",
    "df_pubchem_prop.loc[\n",
    "    df_pubchem_prop.referenceProduct == \"Xylene\",\n",
    "    [\"pubchem_match\", \"num_matches\", \"MW\"],\n",
    "] = [\"manual match\", 1, 106]\n",
    "\n",
    "for item in COMP_ADDED_MANUALLY:\n",
    "    if df_pubchem_prop.loc[df_pubchem_prop.referenceProduct == item, [\"pubchem_match\"]].values[0] == \"No match\":\n",
    "        df_pubchem_prop.loc[\n",
    "            df_pubchem_prop.referenceProduct == item, [\"pubchem_match\", \"num_matches\", \"MW\"],\n",
    "        ] = [\"manual match\", 1, 100] # dummy MW"
   ]
  },
  {
   "cell_type": "code",
   "execution_count": null,
   "metadata": {},
   "outputs": [],
   "source": [
    "filter_dataframe(\n",
    "    df_in=df_pubchem_prop,\n",
    "    col_name=\"referenceProduct\",\n",
    "    filter_in=COMP_ADDED_MANUALLY,\n",
    "    exact_match=True,\n",
    "    print_unique=True,\n",
    ")"
   ]
  },
  {
   "cell_type": "code",
   "execution_count": null,
   "metadata": {},
   "outputs": [],
   "source": [
    "percent_not_matched = (\n",
    "    1\n",
    "    - df_pubchem_prop[df_pubchem_prop.num_matches != 0].referenceProduct.count()\n",
    "    / df_pubchem_prop.referenceProduct.count()\n",
    ") * 100\n",
    "print(\"{}% of referenceProducts had no match...\".format(percent_not_matched.round(2)))"
   ]
  },
  {
   "cell_type": "markdown",
   "metadata": {},
   "source": [
    "<div class=\"alert alert-block alert-warning\"> \n",
    "❗❗❗ <br>\n",
    "    the cas number of \"Praseodymium oxide\" is not found in the PubChem database, <br>\n",
    "    but could be found in Sigma-Aldrich (which references to a compound name in PubChem -> \"Praseodymium (III, IV) oxide\"). <br>\n",
    "    <strong>Change the name to make it searchable in PubChem...</strong> \n",
    "</div>"
   ]
  },
  {
   "cell_type": "code",
   "execution_count": null,
   "metadata": {},
   "outputs": [],
   "source": [
    "NO_MATCH_PRODS = list(df_pubchem_prop[df_pubchem_prop.num_matches == 0].referenceProduct)\n",
    "e, *_ = NO_MATCH_PRODS[0].split(\", \")\n",
    "print(\"{} not matched reference products\".format(len(NO_MATCH_PRODS)))\n",
    "NO_MATCH_PRODS"
   ]
  },
  {
   "cell_type": "markdown",
   "metadata": {
    "heading_collapsed": "true",
    "tags": []
   },
   "source": [
    "### Try cirpy module (should be used in combination with pubchempy?)"
   ]
  },
  {
   "cell_type": "code",
   "execution_count": null,
   "metadata": {},
   "outputs": [],
   "source": [
    "import cirpy as crp\n",
    "import pubchempy as pcp\n",
    "from cirpy import Molecule"
   ]
  },
  {
   "cell_type": "code",
   "execution_count": null,
   "metadata": {},
   "outputs": [],
   "source": [
    "crp.resolve(\"Anhydrite\", \"iupac_name\")"
   ]
  },
  {
   "cell_type": "code",
   "execution_count": null,
   "metadata": {},
   "outputs": [],
   "source": [
    "crp.query(\"Krypton\", \"iupac_name\")"
   ]
  },
  {
   "cell_type": "code",
   "execution_count": null,
   "metadata": {},
   "outputs": [],
   "source": [
    "c = pcp.get_compounds(\"EINECS 222-037-3\", namespace=\"name\", searchtype=None, as_dataframe=False)\n",
    "print(c[0].molecular_formula)\n",
    "print(c[0].molecular_weight)"
   ]
  },
  {
   "cell_type": "code",
   "execution_count": null,
   "metadata": {},
   "outputs": [],
   "source": [
    "mol = Molecule(\"Nylon 6/6\")\n",
    "print(mol.cas)\n",
    "print(mol.formula)\n",
    "print(mol.mw)\n",
    "print(mol.image_url)\n",
    "print(mol.names)"
   ]
  },
  {
   "cell_type": "code",
   "execution_count": null,
   "metadata": {},
   "outputs": [],
   "source": [
    "c = pcp.get_compounds(\"52349-42-5\", namespace=\"name\", searchtype=None, as_dataframe=False)\n",
    "print(c[0].molecular_formula)\n",
    "print(c[0].molecular_weight)"
   ]
  },
  {
   "cell_type": "code",
   "execution_count": null,
   "metadata": {},
   "outputs": [],
   "source": [
    "indices_NO_MATCH_PRODS = [\n",
    "    idx\n",
    "    for idx in df_raw_data.index\n",
    "    if df_raw_data.referenceProduct[idx] in NO_MATCH_PRODS\n",
    "]\n",
    "print(\"{} not matched reference products in df_analysis_prev\".format(len(indices_NO_MATCH_PRODS)))\n",
    "# indices_NO_MATCH_PRODS"
   ]
  },
  {
   "cell_type": "code",
   "execution_count": null,
   "metadata": {},
   "outputs": [],
   "source": [
    "df_raw_data.columns"
   ]
  },
  {
   "cell_type": "code",
   "execution_count": null,
   "metadata": {},
   "outputs": [],
   "source": [
    "df_to_explore = df_raw_data.loc[indices_NO_MATCH_PRODS][\n",
    "    METADATA\n",
    "    #     [\n",
    "    #         \"Activity\",\n",
    "    #         \"category\",\n",
    "    #         \"referenceProduct_CPCclass\",\n",
    "    #         \"referenceProduct\",\n",
    "    #         \"referenceProduct_prodVolume\",\n",
    "    #         \"wasteType\",\n",
    "    #         \"geo\",\n",
    "    #         \"referenceProductUnit\",\n",
    "    #         \"referenceProduct_casNumber\",\n",
    "    #     ]\n",
    "].sort_values(\n",
    "    by=[\"referenceProduct_prodVolume\", \"category\"]\n",
    ")  # .category.unique()  # .sort_index()\n",
    "\n",
    "# df_to_explore\n",
    "# sorted(\n",
    "#     filter_dataframe(\n",
    "#         _filter_by_geo_and_FU(df_to_explore, geo=\"GLO\", FU=\"kg\"),\n",
    "#         col_name=\"referenceProduct_CPCclass\",\n",
    "#         filter_in=[\"3\"],\n",
    "#     ).Activity,  # .referenceProduct_CPCclass\n",
    "#     reverse=False,\n",
    "# )\n",
    "\n",
    "\n",
    "lst_temp = []\n",
    "\n",
    "for idx in internal_funcs.filter_by_geo_and_fu(\n",
    "    df_to_explore, geo=\"GLO\", funit=\"kg\"\n",
    ").index:\n",
    "    x = df_to_explore.referenceProduct_CPCclass[idx]\n",
    "    if (\n",
    "        str(x).startswith(\"33\")\n",
    "        or str(x).startswith(\"34\")\n",
    "        or str(x).startswith(\"35\")\n",
    "        or str(x).startswith(\"36\")\n",
    "    ):\n",
    "        lst_temp.append(df_to_explore.Activity[idx])\n",
    "sorted(lst_temp)"
   ]
  },
  {
   "cell_type": "code",
   "execution_count": null,
   "metadata": {},
   "outputs": [],
   "source": [
    "len(lst_temp)"
   ]
  },
  {
   "cell_type": "code",
   "execution_count": null,
   "metadata": {},
   "outputs": [],
   "source": [
    "# find = 'Stone meal'\n",
    "# find = \"Horn meal\"\n",
    "find = \"Polyvinylfluoride, dispersion\"\n",
    "\n",
    "print(list(df_raw_data[df_raw_data.referenceProduct==find].activity_comment),\"\\n\")\n",
    "print(list(df_raw_data[df_raw_data.referenceProduct==find].inline_comment),\"\\n\")\n",
    "print(list(df_raw_data[df_raw_data.referenceProduct==find].referenceProduct_prodVolumeComment),\"\\n\")\n",
    "print(list(df_raw_data[df_raw_data.referenceProduct==find].referenceProduct_priceComment),\"\\n\")\n",
    "print(list(df_raw_data[df_raw_data.referenceProduct==find].activity_generalComment),\"\\n\")\n",
    "\n",
    "df_raw_data[df_raw_data.referenceProduct==find]"
   ]
  },
  {
   "cell_type": "markdown",
   "metadata": {
    "tags": []
   },
   "source": [
    "## Created ``df_analysis``, ``df_metadata`` and ``df_methods``"
   ]
  },
  {
   "cell_type": "code",
   "execution_count": null,
   "metadata": {},
   "outputs": [],
   "source": [
    "df_analysis = df_raw_data.merge(\n",
    "    df_pubchem_prop, how=\"left\", on=[\"referenceProduct\", \"referenceProduct_casNumber\"]\n",
    ")\n",
    "\n",
    "\n",
    "# (!) update the list of non-method column labels\n",
    "cols_from_pubchem_prop = df_pubchem_prop.columns.difference(df_raw_data.columns)\n",
    "METADATA = [i for i in METADATA if i not in cols_from_pubchem_prop]\n",
    "METADATA = METADATA + cols_from_pubchem_prop.to_list()\n",
    "# # ---------------\n",
    "df_analysis = df_analysis.loc[:, list(METADATA + METHODS)]\n",
    "\n",
    "pd.options.display.max_columns = None\n",
    "\n",
    "print(\"Created **df_analysis** dataframe is of {} shape.\\n\".format(df_analysis.shape))\n",
    "df_analysis.sample(3)"
   ]
  },
  {
   "cell_type": "code",
   "execution_count": null,
   "metadata": {},
   "outputs": [],
   "source": [
    "# Make df of METADATA and METHODS for later export\n",
    "df_metadata = pd.DataFrame(METADATA, columns=[\"METADATA\"])\n",
    "df_methods = pd.DataFrame(METHODS, columns=[\"METHODS\"])"
   ]
  },
  {
   "cell_type": "markdown",
   "metadata": {
    "tags": []
   },
   "source": [
    "# OUTPUTS: Export data to excel"
   ]
  },
  {
   "cell_type": "code",
   "execution_count": null,
   "metadata": {},
   "outputs": [],
   "source": [
    "%%time\n",
    "\n",
    "# Set output directory\n",
    "outputs_dir = set_outputs_dir(use_default=True)  # default `..\\data\\interim`\n",
    "\n",
    "## Export dataframe to excel\n",
    "excelName = \"extended-data-chosen-methods-metadata-pubchem-properties.xlsx\"\n",
    "\n",
    "df_readme = make_readme_info(\n",
    "    excelName,\n",
    "    \"Sheet1: Extended data with chosen LCIA methods, important metadata and PubChem properties\"\n",
    "    \"\\nMETADATA: list of relevant metadata used in Sheet1.\"\n",
    "    \"\\nMETHODS: list of LCIA methods used in Sheet1.\"\n",
    "    \"\\n[METHODS + METADATA have to be the only column labels in Sheet1]\",\n",
    ")\n",
    "\n",
    "w_excel(\n",
    "    path_to_file=outputs_dir,\n",
    "    filename=excelName,\n",
    "    dict_data_to_write={\n",
    "        \"Sheet1\": df_analysis,\n",
    "        \"METADATA\": df_metadata,\n",
    "        \"METHODS\": df_methods,\n",
    "    },\n",
    "    readme_info=(\"readme\", df_readme),\n",
    "    #     ExcelWriter_kwargs={\"engine\": \"openpyxl\", \"encoding\": \"UTF-8\"}\n",
    "    #     startrow=0\n",
    ")"
   ]
  }
 ],
 "metadata": {
  "kernelspec": {
   "display_name": "Python (proj17)",
   "language": "python",
   "name": "17-conda-env"
  },
  "language_info": {
   "codemirror_mode": {
    "name": "ipython",
    "version": 3
   },
   "file_extension": ".py",
   "mimetype": "text/x-python",
   "name": "python",
   "nbconvert_exporter": "python",
   "pygments_lexer": "ipython3",
   "version": "3.8.5"
  },
  "toc-autonumbering": false,
  "toc-showcode": false,
  "toc-showmarkdowntxt": false,
  "toc-showtags": false
 },
 "nbformat": 4,
 "nbformat_minor": 4
}
