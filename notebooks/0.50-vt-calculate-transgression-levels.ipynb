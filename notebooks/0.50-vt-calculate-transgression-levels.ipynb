{
 "cells": [
  {
   "cell_type": "markdown",
   "metadata": {},
   "source": [
    "<div class=\"alert alert-block alert-info\">\n",
    "    This script <b> calculates transgression levels for multiple PBs and adjusts prices from <code>EUR2005</code> to <code>USD2018</code></b>.\n",
    "    <hr> \n",
    "    Note: <br>\n",
    "    <i><b>Input file(s)' name(s) and metadata</b></i> (if available) are <b>printed out (below 👇🏼) in 'read data to df' section.</b>"
   ]
  },
  {
   "cell_type": "code",
   "execution_count": null,
   "metadata": {},
   "outputs": [],
   "source": [
    "# %env\n",
    "# %who_ls\n",
    "# %who\n",
    "# %who int\n",
    "# %pinfo <var name>"
   ]
  },
  {
   "cell_type": "markdown",
   "metadata": {
    "tags": []
   },
   "source": [
    "# Imports"
   ]
  },
  {
   "cell_type": "code",
   "execution_count": null,
   "metadata": {},
   "outputs": [],
   "source": [
    "%config IPCompleter.use_jedi = False # disable jedi autocompleter (https://stackoverflow.com/a/65734178/14485040)\n",
    "\n",
    "import project_path  # makes possible the access to `src` directory using relative path\n",
    "from src.data import (\n",
    "    calculate_transgression_pb,\n",
    "    internal_funcs,\n",
    "    transform_from_eur_to_usd,\n",
    ")\n",
    "from src.utils import explore_dir, make_readme_info\n",
    "from src.utils import read_excel_to_pandas as r_excel\n",
    "from src.utils import set_outputs_dir\n",
    "from src.utils import write_pandas_to_excel as w_excel\n",
    "\n",
    "%run init_nb.ipynb"
   ]
  },
  {
   "cell_type": "code",
   "execution_count": null,
   "metadata": {},
   "outputs": [],
   "source": [
    "pd.options.display.max_columns = None"
   ]
  },
  {
   "cell_type": "markdown",
   "metadata": {},
   "source": [
    "# INPUTS: Identify file(s) and read data to df"
   ]
  },
  {
   "cell_type": "code",
   "execution_count": null,
   "metadata": {},
   "outputs": [],
   "source": [
    "# Explore the directory to find the file(s)\n",
    "inputs_dir, files_list = explore_dir(\n",
    "    path_to_dir=r\"..\\data\\interim\", file_extension=\"xlsx\", print_files_list=True\n",
    ")"
   ]
  },
  {
   "cell_type": "code",
   "execution_count": null,
   "metadata": {},
   "outputs": [],
   "source": [
    "# Read data\n",
    "df_base = r_excel(inputs_dir, \"data-extended-glo-markets-and-fu-kg.xlsx\")\n",
    "print(\n",
    "    \"df_base\".ljust(40, \".\"), f\"{df_base.shape}\\n\".rjust(13, \".\"),\n",
    ")\n",
    "\n",
    "# Get list of LCIA methods and list of metadata\n",
    "METHODS = r_excel(\n",
    "    inputs_dir,\n",
    "    \"data-extended-glo-markets-and-fu-kg.xlsx\",\n",
    "    sheets=\"METHODS\",\n",
    "    show_readme=False,\n",
    ")[\"METHODS\"].to_list()\n",
    "\n",
    "METADATA = r_excel(\n",
    "    inputs_dir,\n",
    "    \"data-extended-glo-markets-and-fu-kg.xlsx\",\n",
    "    sheets=\"METADATA\",\n",
    "    show_readme=False,\n",
    ")[\"METADATA\"].to_list()"
   ]
  },
  {
   "cell_type": "markdown",
   "metadata": {
    "tags": []
   },
   "source": [
    "# Operations"
   ]
  },
  {
   "cell_type": "markdown",
   "metadata": {},
   "source": [
    "## Convert `df_base.referenceProduct_price` from EUR2005 to USD2018\n",
    "<div class=\"alert alert-block alert-info\">\n",
    "updated: <code>df_base</code>\n",
    "</div>"
   ]
  },
  {
   "cell_type": "code",
   "execution_count": null,
   "metadata": {},
   "outputs": [],
   "source": [
    "print(\n",
    "    \"There are {} unique price units in the DataFrame. And they are:\".format(\n",
    "        df_base.referenceProduct_priceUnit.nunique()\n",
    "    )\n",
    ")\n",
    "pprint.pprint(list(df_base.referenceProduct_priceUnit.unique()))"
   ]
  },
  {
   "cell_type": "code",
   "execution_count": null,
   "metadata": {},
   "outputs": [],
   "source": [
    "# change from EUR2005 to USD2018, update df_base\n",
    "new_prices, new_priceUnit = transform_from_eur_to_usd(\n",
    "    prices_in=df_base.referenceProduct_price,\n",
    "    currency_in=df_base.referenceProduct_priceUnit[0],\n",
    "    year_out=2018,\n",
    "    usd_per_eur=1.1811, # average exchange rate for 2018\n",
    "    adjust_inflation=True,\n",
    ")\n",
    "\n",
    "df_base.referenceProduct_price = new_prices\n",
    "df_base.referenceProduct_priceUnit = new_priceUnit"
   ]
  },
  {
   "cell_type": "markdown",
   "metadata": {},
   "source": [
    "## Add transgression levels (TLs) to `df_base`\n",
    "<div class=\"alert alert-block alert-info\">\n",
    "    created: <code>df_base_full</code>  \n",
    "</div> "
   ]
  },
  {
   "cell_type": "code",
   "execution_count": null,
   "metadata": {},
   "outputs": [],
   "source": [
    "df_base_full, TL_METHODS = calculate_transgression_pb(\n",
    "    df_in=df_base, sharing_principle=\"epc\",  # [METADATA + METHODS],  # equal-per-capita\n",
    ")\n",
    "\n",
    "print(\n",
    "    \"Created **df_base_full** dataframe is of {} shape.\"\n",
    "    \"\\nAnd contains these {} new methods:\".format(df_base_full.shape, len(TL_METHODS))\n",
    ")\n",
    "pprint.pprint(TL_METHODS)\n",
    "print(\"\\n(make sure to store these methods for later use)\\n\")\n",
    "df_base_full.tail(5)\n",
    "\n",
    "\n",
    "# NOW THIS FUNCTION RETURNS THE PASSED DF + NEW TL COLUMNS, AND LIST OF TL COLUMNS\n",
    "# MAKE SURE TO CHECK THIS FURTHER\n",
    "\n",
    "# ALSO ARE AVIALABLE DICTS WITH SOS AND CURRENT PB VALUES... USE THEM"
   ]
  },
  {
   "cell_type": "code",
   "execution_count": null,
   "metadata": {},
   "outputs": [],
   "source": [
    "# Grouping by 'category_regrouped' and ploting the size of each group on a barh plot (in one line)\n",
    "internal_funcs.plot_categories(\n",
    "    df_in=df_base_full,\n",
    "    groupby=\"category_regrouped\",\n",
    "    color=\"green\",\n",
    "    fontsize=12,\n",
    ")"
   ]
  },
  {
   "cell_type": "code",
   "execution_count": null,
   "metadata": {},
   "outputs": [],
   "source": [
    "# Make df of METADATA, METHODS, and TL_METHODS for later export\n",
    "df_metadata = pd.DataFrame(METADATA, columns=[\"METADATA\"])\n",
    "df_methods = pd.DataFrame(METHODS, columns=[\"METHODS\"])\n",
    "df_tl_methods = pd.DataFrame(TL_METHODS, columns=[\"TL_METHODS\"])"
   ]
  },
  {
   "cell_type": "markdown",
   "metadata": {
    "tags": []
   },
   "source": [
    "# OUTPUTS: Export data to excel"
   ]
  },
  {
   "cell_type": "code",
   "execution_count": null,
   "metadata": {},
   "outputs": [],
   "source": [
    "%%time\n",
    "\n",
    "# Set output directory\n",
    "outputs_dir = set_outputs_dir(use_default=True)  # default `..\\data\\interim`\n",
    "\n",
    "## Export dataframe to excel\n",
    "excelName = \"data-extended-added-transgression-pbs.xlsx\"\n",
    "\n",
    "df_readme = make_readme_info(\n",
    "    excelName,\n",
    "    \"Sheet1: Extended dataframe, which also includes 9 transgression level (TL) PBs.\"\n",
    "    \"\\nMETADATA: list of relevant metadata used in Sheet1.\"\n",
    "    \"\\nMETHODS: list of LCIA methods used in Sheet1.\"\n",
    "    \"\\nTL_METHODS: list of TL in PBs used in Sheet1.\"\n",
    "    \"\\n[METHODS + METADATA + TL_METHODS have to be the only column labels in Sheet1]\",\n",
    ")\n",
    "\n",
    "w_excel(\n",
    "    path_to_file=outputs_dir,\n",
    "    filename=excelName,\n",
    "    dict_data_to_write={\n",
    "        \"Sheet1\": df_base_full,\n",
    "        \"METADATA\": df_metadata,\n",
    "        \"METHODS\": df_methods,\n",
    "        \"TL_METHODS\": df_tl_methods,\n",
    "    },\n",
    "    readme_info=(\"readme\", df_readme),\n",
    "    #     ExcelWriter_kwargs={\"engine\": \"openpyxl\", \"encoding\": \"UTF-8\"}\n",
    "    #     startrow=0\n",
    ")"
   ]
  }
 ],
 "metadata": {
  "kernelspec": {
   "display_name": "Python (proj17)",
   "language": "python",
   "name": "17-conda-env"
  },
  "language_info": {
   "codemirror_mode": {
    "name": "ipython",
    "version": 3
   },
   "file_extension": ".py",
   "mimetype": "text/x-python",
   "name": "python",
   "nbconvert_exporter": "python",
   "pygments_lexer": "ipython3",
   "version": "3.8.5"
  },
  "toc-autonumbering": false,
  "toc-showcode": false,
  "toc-showmarkdowntxt": false,
  "toc-showtags": false
 },
 "nbformat": 4,
 "nbformat_minor": 4
}
