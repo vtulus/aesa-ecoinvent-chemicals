{
 "cells": [
  {
   "cell_type": "markdown",
   "metadata": {},
   "source": [
    "<div class=\"alert alert-block alert-info\">\n",
    "This script <b>filters the data according to the United Nations Central Product Classification (CPC) v2.1. divisions</b>.\n",
    "    <hr> \n",
    "    Note: <br>\n",
    "    <i><b>Input file(s)' name(s) and metadata</b></i> (if available) are <b>printed out (below 👇🏼) in 'read data to df' section.</b><br><br>\n",
    "    \n",
    "    Ref: <a href=\"https://digitallibrary.un.org/record/3900378\">CPCv2.1_complete(PDF)_English.pdf</a>\n",
    "</div>"
   ]
  },
  {
   "cell_type": "code",
   "execution_count": null,
   "metadata": {},
   "outputs": [],
   "source": [
    "# %env\n",
    "# %who_ls\n",
    "# %who\n",
    "# %who int\n",
    "# %pinfo <var name>"
   ]
  },
  {
   "cell_type": "markdown",
   "metadata": {
    "tags": []
   },
   "source": [
    "# Imports"
   ]
  },
  {
   "cell_type": "code",
   "execution_count": null,
   "metadata": {},
   "outputs": [],
   "source": [
    "%config IPCompleter.use_jedi = False # disable jedi autocompleter (https://stackoverflow.com/a/65734178/14485040)\n",
    "\n",
    "import project_path  # makes possible the access to `src` directory using relative path\n",
    "from src.data import filter_dataframe, internal_funcs\n",
    "from src.utils import explore_dir, make_readme_info\n",
    "from src.utils import read_excel_to_pandas as r_excel\n",
    "from src.utils import set_outputs_dir\n",
    "from src.utils import write_pandas_to_excel as w_excel\n",
    "\n",
    "%run init_nb.ipynb"
   ]
  },
  {
   "cell_type": "markdown",
   "metadata": {},
   "source": [
    "# INPUTS: Identify file(s) and read data to df"
   ]
  },
  {
   "cell_type": "code",
   "execution_count": null,
   "metadata": {},
   "outputs": [],
   "source": [
    "# Explore the directory to find the file(s)\n",
    "inputs_dir, files_list = explore_dir(\n",
    "    path_to_dir=r\"..\\data\\interim\", file_extension=\"xlsx\", print_files_list=True\n",
    ")"
   ]
  },
  {
   "cell_type": "code",
   "execution_count": null,
   "metadata": {},
   "outputs": [],
   "source": [
    "# Read data\n",
    "df_analysis = r_excel(\n",
    "    inputs_dir, \"extended-data-chosen-methods-metadata-pubchem-properties.xlsx\"\n",
    ")\n",
    "print(\n",
    "    \"df_analysis\".ljust(40, \".\"), f\"{df_analysis.shape}\\n\".rjust(13, \".\"),\n",
    ")\n",
    "\n",
    "# Get list of LCIA methods and list of metadata\n",
    "METHODS = r_excel(\n",
    "    inputs_dir,\n",
    "    \"extended-data-chosen-methods-metadata-pubchem-properties.xlsx\",\n",
    "    sheets=\"METHODS\",\n",
    "    show_readme=False,\n",
    ")[\"METHODS\"].to_list()\n",
    "\n",
    "METADATA = r_excel(\n",
    "    inputs_dir,\n",
    "    \"extended-data-chosen-methods-metadata-pubchem-properties.xlsx\",\n",
    "    sheets=\"METADATA\",\n",
    "    show_readme=False,\n",
    ")[\"METADATA\"].to_list()"
   ]
  },
  {
   "cell_type": "code",
   "execution_count": null,
   "metadata": {},
   "outputs": [],
   "source": [
    "pd.options.display.max_columns = None"
   ]
  },
  {
   "cell_type": "markdown",
   "metadata": {},
   "source": [
    "# Operations \n",
    "<div class=\"alert alert-block alert-info\">\n",
    "filter the df using CPC classification <strong>(only divisions 3.3 to 3.6)</strong>\n",
    "</div>"
   ]
  },
  {
   "cell_type": "code",
   "execution_count": null,
   "metadata": {},
   "outputs": [],
   "source": [
    "regrouped_cat = []\n",
    "for item in df_analysis.index:\n",
    "    if str(df_analysis.referenceProduct_CPCclass[item]).startswith(\"33\"):\n",
    "        regrouped_cat.append(\n",
    "            \"33: Coke oven products; refined petroleum products; nuclear fuel\"\n",
    "        )\n",
    "    elif str(df_analysis.referenceProduct_CPCclass[item]).startswith(\"34\"):\n",
    "        regrouped_cat.append(\"34: Basic chemicals\")\n",
    "    elif str(df_analysis.referenceProduct_CPCclass[item]).startswith(\"35\"):\n",
    "        regrouped_cat.append(\"35: Other chemical products; man-made fibres\")\n",
    "    elif str(df_analysis.referenceProduct_CPCclass[item]).startswith(\"36\"):\n",
    "        regrouped_cat.append(\"36: Rubber and plastics products\")\n",
    "    else:\n",
    "        regrouped_cat.append(\"Other products (not in CPC: 33-36 divisions)\")\n",
    "\n",
    "try:\n",
    "    df_analysis.insert(1, \"category_regrouped\", regrouped_cat, allow_duplicates=False)\n",
    "except:\n",
    "    df_analysis.drop(\"category_regrouped\", axis=1, inplace=True)\n",
    "    df_analysis.insert(1, \"category_regrouped\", regrouped_cat)\n",
    "\n",
    "\n",
    "# (!) update the list of non-method column labels\n",
    "METADATA = list(filter(lambda a: a != \"category_regrouped\", METADATA))\n",
    "METADATA.insert(1, \"category_regrouped\")\n",
    "print(\"Updated **df_analysis** dataframe is of {} shape.\\n\".format(df_analysis.shape))\n",
    "df_analysis.sample(2)\n",
    "\n",
    "internal_funcs.plot_categories(\n",
    "    df_in=df_analysis,\n",
    "    groupby=\"category_regrouped\",\n",
    "    color=\"gray\",\n",
    "    fontsize=12,\n",
    "    cutoff_value=8,\n",
    ")"
   ]
  },
  {
   "cell_type": "raw",
   "metadata": {
    "tags": []
   },
   "source": [
    "# df_analysis[\n",
    "#     df_analysis.category_regrouped.isin(\n",
    "#         [\n",
    "# #             \"36: Rubber and plastics products\",\n",
    "#             \"Other product (not in CPC: 33-36 divisions)\",\n",
    "#         ]\n",
    "#     )\n",
    "# ]"
   ]
  },
  {
   "cell_type": "code",
   "execution_count": null,
   "metadata": {},
   "outputs": [],
   "source": [
    "# drop all activities not from CPC 33-36\n",
    "df_cpc33to36 = filter_dataframe(\n",
    "    df_analysis,\n",
    "    col_name=\"category_regrouped\",\n",
    "    filter_out=[\n",
    "        \"Other products (not in CPC: 33-36 divisions)\",\n",
    "#         \"36: Rubber and plastics products\",\n",
    "    ],\n",
    ")\n",
    "print(\n",
    "    \"Created **df_cpc33to36** dataframe is of {} shape.\\n\".format(\n",
    "        df_cpc33to36.shape\n",
    "    )\n",
    ")\n",
    "# df_cpc33to36.sample(3)\n",
    "\n",
    "internal_funcs.plot_categories(\n",
    "    df_in=df_cpc33to36,\n",
    "    groupby=\"category_regrouped\",\n",
    "    color=\"purple\",\n",
    "    fontsize=12,\n",
    "    cutoff_value=8,\n",
    ")"
   ]
  },
  {
   "cell_type": "code",
   "execution_count": null,
   "metadata": {},
   "outputs": [],
   "source": [
    "print(\"\".ljust(40, \"=\"))\n",
    "print(\n",
    "    \"Before creating new GLO markets, there are {} unique GLO markets with FU=1kg \"\n",
    "    \"belonging to CPC 33-36 in the database.\"\n",
    "    \"\\nAnd {} non-GLO markets with FU=1kg, of which {} are unique.\".format(\n",
    "        df_cpc33to36[\n",
    "            (df_cpc33to36.geo == \"GLO\")\n",
    "            & (df_cpc33to36.referenceProductUnit == \"kg\")\n",
    "        ]\n",
    "        .referenceProduct.unique()\n",
    "        .shape[0],\n",
    "        df_cpc33to36[\n",
    "            (df_cpc33to36.geo != \"GLO\")\n",
    "            & (df_cpc33to36.referenceProductUnit == \"kg\")\n",
    "        ].shape[0],\n",
    "        df_cpc33to36[\n",
    "            (df_cpc33to36.geo != \"GLO\")\n",
    "            & (df_cpc33to36.referenceProductUnit == \"kg\")\n",
    "        ]\n",
    "        .referenceProduct.unique()\n",
    "        .shape[0],\n",
    "    )\n",
    ")"
   ]
  },
  {
   "cell_type": "raw",
   "metadata": {
    "tags": []
   },
   "source": [
    "# df_cpc33to36[df_cpc33to36.referenceProduct.isin([\"Diesel\", \"Diesel, low-sulfur\"])]"
   ]
  },
  {
   "cell_type": "code",
   "execution_count": null,
   "metadata": {},
   "outputs": [],
   "source": [
    "# Make df of METADATA and METHODS for later export\n",
    "df_metadata = pd.DataFrame(METADATA, columns=[\"METADATA\"])\n",
    "df_methods = pd.DataFrame(METHODS, columns=[\"METHODS\"])"
   ]
  },
  {
   "cell_type": "markdown",
   "metadata": {
    "tags": []
   },
   "source": [
    "# OUTPUTS: Export data to excel"
   ]
  },
  {
   "cell_type": "code",
   "execution_count": null,
   "metadata": {},
   "outputs": [],
   "source": [
    "%%time\n",
    "\n",
    "# Set output directory\n",
    "outputs_dir = set_outputs_dir(use_default=True)  # default `..\\data\\interim`\n",
    "\n",
    "## Export dataframe to excel\n",
    "excelName = \"data-filtered-cpc-33to36-divisions.xlsx\"\n",
    "\n",
    "df_readme = make_readme_info(\n",
    "    excelName,\n",
    "    \"Sheet1: Filtered dataframe includes any chemicals \"\n",
    "    \"that belong to CPC divisions 33, 34 , 35 or 36.\"\n",
    "    \"\\nMETADATA: list of relevant metadata used in Sheet1.\"\n",
    "    \"\\nMETHODS: list of LCIA methods used in Sheet1.\"\n",
    "    \"\\n[METHODS + METADATA have to be the only column labels in Sheet1]\",\n",
    ")\n",
    "\n",
    "w_excel(\n",
    "    path_to_file=outputs_dir,\n",
    "    filename=excelName,\n",
    "    dict_data_to_write={\n",
    "        \"Sheet1\": df_cpc33to36,\n",
    "        \"METADATA\": df_metadata,\n",
    "        \"METHODS\": df_methods,\n",
    "    },\n",
    "    readme_info=(\"readme\", df_readme),\n",
    "    #     ExcelWriter_kwargs={\"engine\": \"openpyxl\", \"encoding\": \"UTF-8\"}\n",
    "    #     startrow=0\n",
    ")"
   ]
  }
 ],
 "metadata": {
  "kernelspec": {
   "display_name": "Python (proj17)",
   "language": "python",
   "name": "17-conda-env"
  },
  "language_info": {
   "codemirror_mode": {
    "name": "ipython",
    "version": 3
   },
   "file_extension": ".py",
   "mimetype": "text/x-python",
   "name": "python",
   "nbconvert_exporter": "python",
   "pygments_lexer": "ipython3",
   "version": "3.8.5"
  },
  "toc-autonumbering": false,
  "toc-showcode": false,
  "toc-showmarkdowntxt": false,
  "toc-showtags": false
 },
 "nbformat": 4,
 "nbformat_minor": 4
}
