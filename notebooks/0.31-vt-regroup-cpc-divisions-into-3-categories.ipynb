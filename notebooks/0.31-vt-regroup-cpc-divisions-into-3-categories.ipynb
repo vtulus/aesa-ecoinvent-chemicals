{
 "cells": [
  {
   "cell_type": "markdown",
   "metadata": {},
   "source": [
    "<div class=\"alert alert-block alert-info\">\n",
    "This script <b> regroupes the CPC 33 to 36 divisions data into 3 categories</b>.\n",
    "    <hr> \n",
    "    Note: <br>\n",
    "    <i><b>Input file(s)' name(s) and metadata</b></i> (if available) are <b>printed out (below 👇🏼) in 'read data to df' section.</b>"
   ]
  },
  {
   "cell_type": "code",
   "execution_count": null,
   "metadata": {},
   "outputs": [],
   "source": [
    "# %env\n",
    "# %who_ls\n",
    "# %who\n",
    "# %who int\n",
    "# %pinfo <var name>"
   ]
  },
  {
   "cell_type": "markdown",
   "metadata": {
    "tags": []
   },
   "source": [
    "# Imports"
   ]
  },
  {
   "cell_type": "code",
   "execution_count": null,
   "metadata": {},
   "outputs": [],
   "source": [
    "%config IPCompleter.use_jedi = False # disable jedi autocompleter (https://stackoverflow.com/a/65734178/14485040)\n",
    "\n",
    "import project_path  # makes possible the access to `src` directory using relative path\n",
    "from src.data import internal_funcs\n",
    "from src.utils import explore_dir, make_readme_info\n",
    "from src.utils import read_excel_to_pandas as r_excel\n",
    "from src.utils import set_outputs_dir\n",
    "from src.utils import write_pandas_to_excel as w_excel\n",
    "\n",
    "%run init_nb.ipynb"
   ]
  },
  {
   "cell_type": "markdown",
   "metadata": {},
   "source": [
    "# INPUTS: Identify file(s) and read data to df"
   ]
  },
  {
   "cell_type": "code",
   "execution_count": null,
   "metadata": {},
   "outputs": [],
   "source": [
    "# Explore the directory to find the file(s)\n",
    "inputs_dir, files_list = explore_dir(\n",
    "    path_to_dir=r\"..\\data\\interim\", file_extension=\"xlsx\", print_files_list=True\n",
    ")"
   ]
  },
  {
   "cell_type": "code",
   "execution_count": null,
   "metadata": {},
   "outputs": [],
   "source": [
    "# Read data\n",
    "df_cpc33to36 = r_excel(\n",
    "    inputs_dir, \"data-filtered-cpc-33to36-divisions.xlsx\"\n",
    ")\n",
    "print(\n",
    "    \"df_cpc33to36\".ljust(40, \".\"),\n",
    "    f\"{df_cpc33to36.shape}\\n\".rjust(13, \".\"),\n",
    ")\n",
    "\n",
    "# Get list of LCIA methods and list of metadata\n",
    "METHODS = r_excel(\n",
    "    inputs_dir,\n",
    "    \"data-filtered-cpc-33to36-divisions.xlsx\",\n",
    "    sheets=\"METHODS\",\n",
    "    show_readme=False,\n",
    ")[\"METHODS\"].to_list()\n",
    "\n",
    "METADATA = r_excel(\n",
    "    inputs_dir,\n",
    "    \"data-filtered-cpc-33to36-divisions.xlsx\",\n",
    "    sheets=\"METADATA\",\n",
    "    show_readme=False,\n",
    ")[\"METADATA\"].to_list()"
   ]
  },
  {
   "cell_type": "code",
   "execution_count": null,
   "metadata": {},
   "outputs": [],
   "source": [
    "pd.options.display.max_columns = None"
   ]
  },
  {
   "cell_type": "markdown",
   "metadata": {},
   "source": [
    "# Operations \n",
    "<div class=\"alert alert-block alert-info\">\n",
    "    regroup the <code>category_regrouped</code> column with CPC divisions into 3 categories: <strong>organic, inorganic, other</strong>.\n",
    "</div>"
   ]
  },
  {
   "cell_type": "code",
   "execution_count": null,
   "metadata": {},
   "outputs": [],
   "source": [
    "regrouped_cat = []\n",
    "for item in df_cpc33to36.index:\n",
    "    if str(df_cpc33to36.referenceProduct_CPCclass[item]).startswith(\n",
    "        (\"331\", \"332\", \"333\", \"334\", \"335\", \"341\", \"343\", \"347\", \"352\", \"36\")\n",
    "    ):\n",
    "        regrouped_cat.append(\"Organic chemical\")\n",
    "    elif str(df_cpc33to36.referenceProduct_CPCclass[item]).startswith(\n",
    "        (\"342\", \"344\")\n",
    "    ):\n",
    "        regrouped_cat.append(\"Inorganic chemical\")\n",
    "    else:\n",
    "        regrouped_cat.append(\"Other chemical\")\n",
    "\n",
    "try:\n",
    "    df_cpc33to36.insert(\n",
    "        1, \"category_regrouped\", regrouped_cat, allow_duplicates=False\n",
    "    )\n",
    "except:\n",
    "    df_cpc33to36.drop(\"category_regrouped\", axis=1, inplace=True)\n",
    "    df_cpc33to36.insert(1, \"category_regrouped\", regrouped_cat)\n",
    "\n",
    "\n",
    "# (!) update the list of non-method column labels\n",
    "METADATA = list(filter(lambda a: a != \"category_regrouped\", METADATA))\n",
    "METADATA.insert(1, \"category_regrouped\")\n",
    "print(\"Updated **df_cpc33to36** dataframe is of {} shape.\\n\".format(df_cpc33to36.shape))\n",
    "df_cpc33to36.sample(2)\n",
    "\n",
    "internal_funcs.plot_categories(\n",
    "    df_cpc33to36,\n",
    "    groupby=\"category_regrouped\",\n",
    "    cutoff_value=0,\n",
    "    color=\"green\",\n",
    "    fontsize=12,\n",
    ")"
   ]
  },
  {
   "cell_type": "code",
   "execution_count": null,
   "metadata": {},
   "outputs": [],
   "source": [
    "# Make df of METADATA and METHODS for later export\n",
    "df_metadata = pd.DataFrame(METADATA, columns=[\"METADATA\"])\n",
    "df_methods = pd.DataFrame(METHODS, columns=[\"METHODS\"])"
   ]
  },
  {
   "cell_type": "markdown",
   "metadata": {
    "tags": []
   },
   "source": [
    "# OUTPUTS: Export data to excel"
   ]
  },
  {
   "cell_type": "code",
   "execution_count": null,
   "metadata": {},
   "outputs": [],
   "source": [
    "%%time\n",
    "# WHAT ARE THE OTHER CHEMICALS? DO THEY BELONG TO ORGANIC OR INORGANIC???\n",
    "# CHECK LATER!\n",
    "\n",
    "df_toprint = df_cpc33to36[df_cpc33to36.category_regrouped == \"Other chemical\"][\n",
    "    [\n",
    "        \"referenceProduct\",\n",
    "        \"MF\",\n",
    "        \"category_regrouped\",\n",
    "        \"referenceProduct_CPCclass\",\n",
    "        \"category\",\n",
    "        \"Activity\",\n",
    "    ]\n",
    "]\n",
    "\n",
    "outdir = set_outputs_dir(use_default=True) # set to default \"..\\data\\interim\"\n",
    "flname = \"to-check-regrouped-data-other-chemicals-category.xlsx\"\n",
    "rdme = make_readme_info(flname, \"Chemicals alternatively classifed as 'other'.\"\n",
    "            \"The chemicals have to be checked and probably moved to organic or inorganic...\")\n",
    "w_excel(\n",
    "    path_to_file=outdir,\n",
    "    filename=flname,\n",
    "    dict_data_to_write={\"Sheet1\": df_toprint},\n",
    "    readme_info=('readme', rdme)\n",
    ")\n",
    "\n",
    "df_toprint.sample(3)"
   ]
  },
  {
   "cell_type": "code",
   "execution_count": null,
   "metadata": {},
   "outputs": [],
   "source": [
    "%%time\n",
    "\n",
    "# Set output directory\n",
    "outputs_dir = set_outputs_dir(use_default=True)  # default `..\\data\\interim`\n",
    "\n",
    "## Export dataframe to excel\n",
    "excelName = \"data-regrouped-cpc-divisions-into-3-categories.xlsx\"\n",
    "\n",
    "df_readme = make_readme_info(\n",
    "    excelName,\n",
    "    \"Sheet1: Dataframe with chemicals from divisions 33-36 is regrouped \"\n",
    "    \"into 3 categoreis: 'organic', 'inorganic' or 'other'.\"\n",
    "    \"[New column 'category_regrouped' is added]\"\n",
    "    \"\\nMETADATA: list of relevant metadata used in Sheet1.\"\n",
    "    \"\\nMETHODS: list of LCIA methods used in Sheet1.\"\n",
    "    \"\\n[METHODS + METADATA have to be the only column labels in Sheet1]\",\n",
    ")\n",
    "\n",
    "w_excel(\n",
    "    path_to_file=outputs_dir,\n",
    "    filename=excelName,\n",
    "    dict_data_to_write={\n",
    "        \"Sheet1\": df_cpc33to36,\n",
    "        \"METADATA\": df_metadata,\n",
    "        \"METHODS\": df_methods,\n",
    "    },\n",
    "    readme_info=(\"readme\", df_readme),\n",
    "    #     ExcelWriter_kwargs={\"engine\": \"openpyxl\", \"encoding\": \"UTF-8\"}\n",
    "    #     startrow=0\n",
    ")"
   ]
  }
 ],
 "metadata": {
  "kernelspec": {
   "display_name": "Python (proj17)",
   "language": "python",
   "name": "17-conda-env"
  },
  "language_info": {
   "codemirror_mode": {
    "name": "ipython",
    "version": 3
   },
   "file_extension": ".py",
   "mimetype": "text/x-python",
   "name": "python",
   "nbconvert_exporter": "python",
   "pygments_lexer": "ipython3",
   "version": "3.8.5"
  },
  "toc-autonumbering": false,
  "toc-showcode": false,
  "toc-showmarkdowntxt": false,
  "toc-showtags": false
 },
 "nbformat": 4,
 "nbformat_minor": 4
}
