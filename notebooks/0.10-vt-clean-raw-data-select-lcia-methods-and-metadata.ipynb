{
 "cells": [
  {
   "cell_type": "markdown",
   "metadata": {},
   "source": [
    "<div class=\"alert alert-block alert-info\">\n",
    "This script <b>cleans the raw data by dropping some columns of the <code>df_master_raw</code></b>. \n",
    "    <hr> \n",
    "    Note: <br>\n",
    "    <i><b>Input file(s)' name(s) and metadata</b></i> (if available) are <b>printed out (below 👇🏼) in 'read data to df' section.</b>\n",
    "</div>"
   ]
  },
  {
   "cell_type": "code",
   "execution_count": null,
   "metadata": {},
   "outputs": [],
   "source": [
    "# %env\n",
    "# %who_ls\n",
    "# %who\n",
    "# %who int\n",
    "# %pinfo <var name>"
   ]
  },
  {
   "cell_type": "markdown",
   "metadata": {},
   "source": [
    "# Imports"
   ]
  },
  {
   "cell_type": "code",
   "execution_count": null,
   "metadata": {},
   "outputs": [],
   "source": [
    "%config IPCompleter.use_jedi = False # disable jedi autocompleter (https://stackoverflow.com/a/65734178/14485040)\n",
    "\n",
    "import project_path  # makes possible the access to `src` directory using relative path\n",
    "from src.utils import explore_dir, make_readme_info\n",
    "from src.utils import read_excel_to_pandas as r_excel\n",
    "from src.utils import set_outputs_dir\n",
    "from src.utils import write_pandas_to_excel as w_excel\n",
    "\n",
    "%run init_nb.ipynb"
   ]
  },
  {
   "cell_type": "markdown",
   "metadata": {},
   "source": [
    "# INPUTS: Identify file(s) and read data to df"
   ]
  },
  {
   "cell_type": "code",
   "execution_count": null,
   "metadata": {},
   "outputs": [],
   "source": [
    "# Explore the directory to find the file(s)\n",
    "inputs_dir, files_list = explore_dir(\n",
    "    path_to_dir=r\"..\\data\\interim\", file_extension=\"xlsx\", print_files_list=True\n",
    ")"
   ]
  },
  {
   "cell_type": "markdown",
   "metadata": {},
   "source": [
    "<div class=\"alert alert-block alert-danger\">\n",
    "    <strong> pending (possible) improvements: </strong> <br>\n",
    "\n",
    "\n",
    "1. FIND WITH A REGULAR EXPRESSION! # THE PATTERN IS THE TUPLE LIKE NAMING OF THE METHODS !!!\n",
    "\n",
    "\n",
    "</div>"
   ]
  },
  {
   "cell_type": "code",
   "execution_count": null,
   "metadata": {},
   "outputs": [],
   "source": [
    "# Process raw data\n",
    "\n",
    "# Master df with raw data\n",
    "df_master_raw = r_excel(inputs_dir, \"mapped-lcia-results.xlsx\", sheets=\"Sheet1\")\n",
    "print(\n",
    "    \"df of the master data (raw) \".ljust(40, \".\"),\n",
    "    f\"{df_master_raw.shape}\\n\".rjust(13, \".\"),\n",
    ")\n",
    "\n",
    "# Get unique names of the LCIA methods in a list\n",
    "LCIA_METHODS = r_excel(\n",
    "    inputs_dir, \"mapped-lcia-results.xlsx\", sheets=\"df_lcia_labels\", show_readme=False\n",
    ")[\"Method\"].to_list()\n",
    "\n",
    "print(\"Unique names of LCIA methods ({} in total):\".format(len(LCIA_METHODS)))\n",
    "print(\n",
    "    \"\".join(map('\\n\\t\"{}\", '.format, LCIA_METHODS))\n",
    ")  # unique method names from all the workbooks"
   ]
  },
  {
   "cell_type": "markdown",
   "metadata": {},
   "source": [
    "# Operations \n",
    "- drop redundant and unnecessary columns\n",
    "<div class=\"alert alert-block alert-info\">\n",
    "created: <code>df_analysis_prev</code>\n",
    "</div>"
   ]
  },
  {
   "cell_type": "markdown",
   "metadata": {
    "toc-hr-collapsed": true
   },
   "source": [
    "## Identify columns w/ method labels and list \"non-method\" columns"
   ]
  },
  {
   "cell_type": "code",
   "execution_count": null,
   "metadata": {},
   "outputs": [],
   "source": [
    "# a. select all the methods, make a dictionary\n",
    "\"\"\"creates a dictionary -> {'method': [method labels in df]}\n",
    "        {'method1': [\"('method1', 'category1', 'unit1')\", \"('method1', 'category2', 'unit2')\", ...], \n",
    "         'method2': [...]\n",
    "\"\"\"\n",
    "dict_fullMethods = {}\n",
    "\n",
    "for method in LCIA_METHODS:\n",
    "    lst = []\n",
    "    for label in df_master_raw.columns:\n",
    "        if method in label:\n",
    "            lst.append(label)\n",
    "    dict_fullMethods.setdefault(method, []).extend(\n",
    "        lst\n",
    "    )  # should be .extend() ! not .append()\n",
    "\n",
    "# b. flat list of df's labels corresponding to a method\n",
    "LCIA_METHODS_PER_CATEGORY = [\n",
    "    value for key in dict_fullMethods.keys() for value in dict_fullMethods[key]\n",
    "]\n",
    "# (an alternative) [item for sublist in list(dict_fullMethods.values()) for item in sublist]\n",
    "print(\n",
    "    \"df_master_raw (consisting of {} columns) contains a list of {} methods.\"\n",
    "    \"\\n\\nHere is a sample of 3 randomly shown methods:\"\n",
    "    \"\\n\\t- {}\\n\\t- {}\\n\\t- {}\"\n",
    "    \"\\n\\n*Check the full list of methods by printing 'LCIA_METHODS_PER_CATEGORY',\\n\"\n",
    "    \"or using 'dict_fullMethods' dictionary with keys in 'LCIA_METHODS'.\".format(\n",
    "        len(df_master_raw.columns),\n",
    "        len(LCIA_METHODS_PER_CATEGORY),\n",
    "        *random.sample(LCIA_METHODS_PER_CATEGORY, 3)\n",
    "    )\n",
    ")\n",
    "# c. rest of the columns in df_master_raw\n",
    "rest_of_columns = [col for col in df_master_raw.columns if col not in LCIA_METHODS_PER_CATEGORY]\n",
    "print(\n",
    "    \"\\nThe rest of the {} columns, shown below, \"\n",
    "    \"may contain redundant or unnecessary information,\"\n",
    "    \"\\nfill free to select only required columns.\".format(\n",
    "        len(rest_of_columns)\n",
    "    )\n",
    ")\n",
    "print(\"\".join(map('\\n\\t\"{}\", '.format, rest_of_columns)))"
   ]
  },
  {
   "cell_type": "markdown",
   "metadata": {
    "tags": []
   },
   "source": [
    "## Select columns w/ non-method labels\n",
    "<div class=\"alert alert-block alert-danger\">\n",
    "    <strong> <code>METADATA</code> has to be populated manually ❗ </strong>\n",
    "</div>"
   ]
  },
  {
   "cell_type": "code",
   "execution_count": null,
   "metadata": {},
   "outputs": [],
   "source": [
    "# 2. Pick from the rest of the columns\n",
    "print(df_master_raw[rest_of_columns].nunique())\n",
    "\n",
    "# list of df's non-method labels (select manually from the list printed above)\n",
    "METADATA = [\n",
    "    \"Activity\",\n",
    "    \"activity_comment\",\n",
    "    \"type\",\n",
    "    \"referenceProduct\",\n",
    "    \"category\",\n",
    "    \"inline_comment\",\n",
    "    # 👆🏼 above columns are originally from _SP,\n",
    "    # 👇🏼 below from _EI\n",
    "    \"geo\",\n",
    "    \"activity_ISICclass\",\n",
    "    \"activity_ecoSpold01class\",\n",
    "    \"technologyLevel\",\n",
    "    \"referenceProductAmount\",\n",
    "    \"referenceProductUnit\",\n",
    "    \"referenceProduct_prodVolume\",\n",
    "    \"referenceProduct_prodVolumeComment\",\n",
    "    \"referenceProduct_price\",\n",
    "    \"referenceProduct_priceUnit\",\n",
    "    \"referenceProduct_priceComment\",\n",
    "    \"referenceProduct_casNumber\",\n",
    "    \"referenceProduct_CPCclass\",\n",
    "    \"activity_generalComment\",\n",
    "    \"sourceFilename\",\n",
    "]\n",
    "print(\n",
    "    \"\\nTotal ºn of non-method columns (above) is {}, you selected {} of them.\".format(\n",
    "        len(rest_of_columns), len(METADATA)\n",
    "    )\n",
    ")"
   ]
  },
  {
   "cell_type": "code",
   "execution_count": null,
   "metadata": {},
   "outputs": [],
   "source": [
    "# Make df of METADATA for later export\n",
    "\n",
    "df_metadata = pd.DataFrame(METADATA, columns=[\"METADATA\"]) \n",
    "# df_metadata"
   ]
  },
  {
   "cell_type": "markdown",
   "metadata": {
    "tags": []
   },
   "source": [
    "## Select columns w/ method labels\n",
    "<div class=\"alert alert-block alert-danger\">\n",
    "    <strong> <code>METHODS</code> is generated here 👇🏼</strong>  <br>\n",
    "     Will be used throughout the script for calculations and plotting\n",
    "</div>"
   ]
  },
  {
   "cell_type": "code",
   "execution_count": null,
   "metadata": {},
   "outputs": [],
   "source": [
    "# LCIA_METHODS_PER_CATEGORY # here is the complete list of methods per category if needed\n",
    "print(\"Here is the list of method names (again): \")\n",
    "print(\"\".join(map('\\n\\t\"{}\", '.format, LCIA_METHODS)))"
   ]
  },
  {
   "cell_type": "code",
   "execution_count": null,
   "metadata": {},
   "outputs": [],
   "source": [
    "# select from method names printed above\n",
    "select_keys = [\n",
    "    \"IPCC 2013 GWP 100a V1.03\",\n",
    "    \"PBs-LCIA (baseline) V0.72\",\n",
    "]  # change manually if needed\n",
    "\n",
    "METHODS = []\n",
    "for key in select_keys:\n",
    "    METHODS += dict_fullMethods[key]\n",
    "print(\"{} methods have been selected:\".format(len(METHODS)))\n",
    "del select_keys\n",
    "METHODS"
   ]
  },
  {
   "cell_type": "code",
   "execution_count": null,
   "metadata": {},
   "outputs": [],
   "source": [
    "# Make df of METHODS for later export\n",
    "\n",
    "df_methods = pd.DataFrame(METHODS, columns=[\"METHODS\"]) \n",
    "# df_methods"
   ]
  },
  {
   "cell_type": "markdown",
   "metadata": {
    "tags": []
   },
   "source": [
    "## Combine selected methods and metadata\n",
    "- Generate ``analysis_prev`` df (and delete ``df_master_raw`` ?)"
   ]
  },
  {
   "cell_type": "code",
   "execution_count": null,
   "metadata": {},
   "outputs": [],
   "source": [
    "# 3. Combine steps 2 and 3\n",
    "\n",
    "df_analysis_prev = df_master_raw.filter(items=METADATA + METHODS, axis=1).copy()\n",
    "## or alternatively: \n",
    "## df_analysis_prev = df_master_raw.loc[:, list(METADATA + METHODS)].copy()\n",
    "df_analysis_prev.sort_values(by=\"Activity\", inplace=True)\n",
    "\n",
    "# del df_master_raw # delete to free memory\n",
    "pd.options.display.max_columns = None\n",
    "\n",
    "print(\n",
    "    \"Created **df_analysis_prev** dataframe is of {} shape.\".format(\n",
    "        df_analysis_prev.shape\n",
    "    )\n",
    ")\n",
    "df_analysis_prev.sample(5)"
   ]
  },
  {
   "cell_type": "markdown",
   "metadata": {
    "tags": []
   },
   "source": [
    "# OUTPUTS: Export data to excel"
   ]
  },
  {
   "cell_type": "raw",
   "metadata": {},
   "source": [
    "## TEMPORAL\n",
    "\n",
    "df_dict_fullMethods = pd.DataFrame.from_dict(\n",
    "    dict_fullMethods, orient=\"index\"\n",
    ").reset_index()\n",
    "# df_dict_fullMethods"
   ]
  },
  {
   "cell_type": "code",
   "execution_count": null,
   "metadata": {},
   "outputs": [],
   "source": [
    "%%time\n",
    "\n",
    "# Set output directory\n",
    "outputs_dir = set_outputs_dir(use_default=True)  # default `..\\data\\interim`\n",
    "\n",
    "## Export dataframe to excel\n",
    "excelName = \"raw-data-chosen-lcia-methods-and-metadata.xlsx\"\n",
    "\n",
    "df_readme = make_readme_info(\n",
    "    excelName,\n",
    "    \"Sheet1: Raw data with chosen LCIA methods and important metadata \"\n",
    "    \"(redundant columns and extra methods were dropped).\"\n",
    "    \"\\nMETADATA: list of relevant metadata used in Sheet1.\"    \n",
    "    \"\\nMETHODS: list of LCIA methods used in Sheet1.\"\n",
    "    \"\\n[METHODS + METADATA have to be the only column labels in Sheet1]\",\n",
    ")\n",
    "\n",
    "w_excel(\n",
    "    path_to_file=outputs_dir,\n",
    "    filename=excelName,\n",
    "    dict_data_to_write={\n",
    "        \"Sheet1\": df_analysis_prev,\n",
    "        \"METADATA\": df_metadata,        \n",
    "        \"METHODS\": df_methods,\n",
    "    },\n",
    "    readme_info=(\"readme\", df_readme),\n",
    "    ####         ExcelWriter_kwargs={\"engine\": \"openpyxl\", \"encoding\": \"UTF-8\"}\n",
    "    #     startrow=0\n",
    ")"
   ]
  },
  {
   "cell_type": "raw",
   "metadata": {},
   "source": [
    "excelName_temp = \"temp-dict_fullMethods.xlsx\"\n",
    "df_readme_temp = make_readme_info(\n",
    "    excelName_temp, \"Sheet1: Temp df of dict_fullMethods, is used for plotting\"\n",
    ")\n",
    "w_excel(\n",
    "    path_to_file=outputs_dir,\n",
    "    filename=excelName_temp,\n",
    "    dict_data_to_write={\"Sheet1\": df_dict_fullMethods},\n",
    "    readme_info=(\"readme\", df_readme_temp),\n",
    "    ####         ExcelWriter_kwargs={\"engine\": \"openpyxl\", \"encoding\": \"UTF-8\"}\n",
    "    #     startrow=0\n",
    ")"
   ]
  }
 ],
 "metadata": {
  "kernelspec": {
   "display_name": "Python (proj17)",
   "language": "python",
   "name": "17-conda-env"
  },
  "language_info": {
   "codemirror_mode": {
    "name": "ipython",
    "version": 3
   },
   "file_extension": ".py",
   "mimetype": "text/x-python",
   "name": "python",
   "nbconvert_exporter": "python",
   "pygments_lexer": "ipython3",
   "version": "3.8.5"
  },
  "toc-autonumbering": false,
  "toc-showcode": false,
  "toc-showmarkdowntxt": false,
  "toc-showtags": false
 },
 "nbformat": 4,
 "nbformat_minor": 4
}
