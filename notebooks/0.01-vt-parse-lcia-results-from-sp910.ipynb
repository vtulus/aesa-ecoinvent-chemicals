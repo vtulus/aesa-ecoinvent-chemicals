{
 "cells": [
  {
   "cell_type": "markdown",
   "metadata": {},
   "source": [
    "<div class=\"alert alert-block alert-info\">\r\n",
    "<b>This script extracts data from one (or multiple) excel files with LCIA results exported from SimaPro</b> <br> </div>\r\n",
    "\r\n",
    ">*  each workbook includes only activities of a specific sub-category of SimaPro's Tree,  <br>\r\n",
    ">* each sheet of the workbook includes LCIA results of one specific LCIA method"
   ]
  },
  {
   "cell_type": "code",
   "execution_count": null,
   "metadata": {},
   "outputs": [],
   "source": [
    "# locals()\r\n",
    "# globals()\r\n",
    "# dir()\r\n",
    "# %whos"
   ]
  },
  {
   "cell_type": "markdown",
   "metadata": {},
   "source": [
    "# Imports"
   ]
  },
  {
   "cell_type": "code",
   "execution_count": null,
   "metadata": {},
   "outputs": [],
   "source": [
    "%config IPCompleter.use_jedi = False # disable jedi autocompleter (https://stackoverflow.com/a/65734178/14485040)\r\n",
    "\r\n",
    "import project_path  # makes possible the access to `src` directory using relative path\r\n",
    "from src.utils import explore_dir, make_readme_info, progressbar\r\n",
    "from src.utils import read_excel_to_pandas as r_excel\r\n",
    "from src.utils import set_outputs_dir\r\n",
    "from src.utils import write_pandas_to_excel as w_excel\r\n",
    "\r\n",
    "%run init_nb.ipynb"
   ]
  },
  {
   "cell_type": "markdown",
   "metadata": {
    "tags": []
   },
   "source": [
    "# INPUTS: Identify file(s) and read data to df"
   ]
  },
  {
   "cell_type": "code",
   "execution_count": null,
   "metadata": {},
   "outputs": [],
   "source": [
    "# Explore the directory to find the file(s)\r\n",
    "inputs_dir, files_list = explore_dir(\r\n",
    "    path_to_dir=r\"..\\data\\external\\LCIAs_from_SimaPro\",\r\n",
    "    file_extension=\"xlsx\",\r\n",
    "    print_files_list=True,\r\n",
    ")"
   ]
  },
  {
   "cell_type": "code",
   "execution_count": null,
   "metadata": {},
   "outputs": [],
   "source": [
    "# TODO\r\n",
    "# DONE. ~tqdm module needs ipywidgets... couldn't install it... created new progressbar~  \r\n",
    "# 2. FIX LATER: CAN USE REGEX INSTEAD OF A FUNCTION WHICH I WROTE BEFORE: \"idx_of_found_item\" !!!!!  \r\n",
    "# 3. FIX LATER: USE REGEX TO CONVERT WKB NAMES LIKE category IN df_simapro!!!  "
   ]
  },
  {
   "cell_type": "code",
   "execution_count": null,
   "metadata": {},
   "outputs": [],
   "source": [
    "%%time\r\n",
    "# Process raw data\r\n",
    "\r\n",
    "# wkbRegex = re.compile((r'(-+)'))  FIX LATER: USE REGEX TO CONVERT WKB NAMES LIKE category IN df_simapro!!!\r\n",
    "wkb_names = list(\r\n",
    "    map(lambda st: str.replace(st, \".xlsx\", \"\"), files_list)\r\n",
    ")  # names of the workbooks, to be stored as well\r\n",
    "\r\n",
    "df_lcias_raw = (\r\n",
    "    pd.DataFrame()\r\n",
    ")  # columns=['Method', 'Impact (or Damage) category', 'Unit'])\r\n",
    "\r\n",
    "lcia_methods_list = []\r\n",
    "# for idx_file, file in tqdm(enumerate(files_list), total=len(files_list), desc='Progress: ', unit=' files'):\r\n",
    "for idx_file, file in progressbar(\r\n",
    "    enumerate(files_list), total=len(files_list), prefix=\"Progress: \", unit=\"files\"\r\n",
    "):\r\n",
    "    # Read a workbook\r\n",
    "    dict_wbk = r_excel(\r\n",
    "        path_to_file=inputs_dir,\r\n",
    "        filename=file,\r\n",
    "        sheets=None,  # read all sheets of the workbook into a dictionary\r\n",
    "        engine=\"openpyxl\",\r\n",
    "    )\r\n",
    "\r\n",
    "    lcia_methods_per_wkb = []\r\n",
    "    products_per_sheet = []\r\n",
    "    appended_sheets = pd.DataFrame(columns=[\"Activity\"])\r\n",
    "\r\n",
    "    for key in dict_wbk.keys():  # loop through the sheets of the workbook\r\n",
    "        # Read raw data from the sheet\r\n",
    "        df_per_sheet = dict_wbk.get(key)\r\n",
    "\r\n",
    "        # There is one LCIA method per sheet of data, identify and store it.\r\n",
    "        idx_method = idx_of_found_item(\r\n",
    "            df_per_sheet.iloc[:, 0], \"Method:\"\r\n",
    "        )  # find the index of the 0-th column where \"keyword\" appears\r\n",
    "        name_method = df_per_sheet.iloc[\r\n",
    "            idx_method, 1\r\n",
    "        ]  # the name of the method is in [idx_method, 1-st column], store it\r\n",
    "        lcia_methods_per_wkb.append(name_method)\r\n",
    "\r\n",
    "        # Identify the number of products per sheet. They should be the same...\r\n",
    "        # Products are numerated sequentially. Last product is in the cell previous to keyword \"Method:\"\r\n",
    "        num_products = int(\r\n",
    "            re.search(r\"\\d+\", df_per_sheet.iloc[idx_method - 1, 0]).group()\r\n",
    "        )  # extract the digits only\r\n",
    "        products_per_sheet.append(num_products)\r\n",
    "\r\n",
    "        # In every sheet, identify the row where the relevant data starts\r\n",
    "        # Drop all the rows before the specified one\r\n",
    "        # Store the data range of interest\r\n",
    "        idx_category = idx_of_found_item(\r\n",
    "            df_per_sheet.iloc[:, 0], \"category\"\r\n",
    "        )  # find the index of the 0-th column where \"keyword\" appears\r\n",
    "        name_category = df_per_sheet.iloc[\r\n",
    "            idx_category, 0\r\n",
    "        ]  # store the name of the cell [idx_category,0-th column]\r\n",
    "\r\n",
    "        new_df = df_per_sheet.drop(range(idx_category), axis=0)\r\n",
    "        new_df.dropna(axis=0, how=\"all\", inplace=True)\r\n",
    "        new_df.dropna(axis=1, how=\"all\", inplace=True)\r\n",
    "        ## -------------------------------------------------\r\n",
    "        new_df.columns = new_df.iloc[0]  # set row 0 as columns label\r\n",
    "        new_df.drop(new_df.index[0], inplace=True)\r\n",
    "        new_df.insert(\r\n",
    "            0,\r\n",
    "            column=\"Method_category_unit\",  # insert column with tuple values\r\n",
    "            value=list(\r\n",
    "                zip(\r\n",
    "                    [name_method] * new_df.shape[0],\r\n",
    "                    new_df.iloc[:, 0],\r\n",
    "                    new_df.iloc[:, 1],\r\n",
    "                )\r\n",
    "            ),\r\n",
    "            allow_duplicates=False,\r\n",
    "        )\r\n",
    "        new_df.drop(columns=list(new_df.columns[1:3]), inplace=True)\r\n",
    "\r\n",
    "        new_df = (\r\n",
    "            new_df.set_index(\"Method_category_unit\")\r\n",
    "            .T.rename_axis(\"Activity\")\r\n",
    "            .reset_index()\r\n",
    "        )\r\n",
    "        new_df.columns.name = None\r\n",
    "        ## -------------------------------------------------\r\n",
    "        appended_sheets = appended_sheets.merge(new_df, how=\"outer\", on=\"Activity\")\r\n",
    "\r\n",
    "    appended_sheets.insert(\r\n",
    "        0,\r\n",
    "        column=\"wkbName\",  # insert column with wkb_name\r\n",
    "        value=wkb_names[idx_file],\r\n",
    "        allow_duplicates=False,\r\n",
    "    )\r\n",
    "\r\n",
    "    df_lcias_raw = pd.concat(\r\n",
    "        [df_lcias_raw, appended_sheets], axis=0, join=\"outer\", ignore_index=True\r\n",
    "    )\r\n",
    "\r\n",
    "    lcia_methods_list.extend(lcia_methods_per_wkb)\r\n",
    "df_lcia_labels = pd.DataFrame(\r\n",
    "    list(set(lcia_methods_list)), columns=[\"Method\"]\r\n",
    ")  # create a df of unique methods\r\n",
    "\r\n",
    "print(\r\n",
    "    \"df of LCIAs from SimaPro \".ljust(40, \".\"), f\" {df_lcias_raw.shape}\".rjust(13, \".\")\r\n",
    ")\r\n",
    "\r\n",
    "# pd.set_option('precision',4)\r\n",
    "df_lcias_raw.sample(5)"
   ]
  },
  {
   "cell_type": "markdown",
   "metadata": {
    "tags": []
   },
   "source": [
    "# Operations"
   ]
  },
  {
   "cell_type": "markdown",
   "metadata": {},
   "source": [
    "## Filter/adjust data"
   ]
  },
  {
   "cell_type": "code",
   "execution_count": null,
   "metadata": {},
   "outputs": [],
   "source": [
    "# TODO: REDUNDANT COPYING STEP? check later"
   ]
  },
  {
   "cell_type": "code",
   "execution_count": null,
   "metadata": {},
   "outputs": [],
   "source": [
    "df_lcias = df_lcias_raw.copy() # make a deepcopy of the original df\r\n",
    "print('df of LCIAs from SimaPro '.ljust(40,'.'), f' {df_lcias.shape}'.rjust(13, '.'))\r\n",
    "df_lcias.sample(5)"
   ]
  },
  {
   "cell_type": "code",
   "execution_count": null,
   "metadata": {},
   "outputs": [],
   "source": [
    "# General performance info about the df\r\n",
    "# df_lcias.info()"
   ]
  },
  {
   "cell_type": "code",
   "execution_count": null,
   "metadata": {},
   "outputs": [],
   "source": [
    "# General info about the memory usage\r\n",
    "# df_lcias.memory_usage()"
   ]
  },
  {
   "cell_type": "markdown",
   "metadata": {
    "tags": []
   },
   "source": [
    "# OUTPUTS: Export data to excel"
   ]
  },
  {
   "cell_type": "code",
   "execution_count": null,
   "metadata": {},
   "outputs": [],
   "source": [
    "%%time\r\n",
    "\r\n",
    "# Set output directory\r\n",
    "outputs_dir = set_outputs_dir(use_default=True)  # default `..\\data\\interim`\r\n",
    "\r\n",
    "## Export dataframe to excel\r\n",
    "excelName = \"lcia-results-from-sp910-combined.xlsx\"\r\n",
    "\r\n",
    "df_readme = make_readme_info(\r\n",
    "    excelName,\r\n",
    "    \"Sheet1: Multiple LCIA methods results (per category) for ALL chemical markets from SimaPro910. \"\r\n",
    "    \"\\ndf_lcia_labels: unique names of the LCIA methods used in Sheet1.\",\r\n",
    ")\r\n",
    "\r\n",
    "w_excel(\r\n",
    "    path_to_file=outputs_dir,\r\n",
    "    filename=excelName,\r\n",
    "    dict_data_to_write={\"Sheet1\": df_lcias, \"df_lcia_labels\": df_lcia_labels},\r\n",
    "    readme_info=(\"readme\", df_readme),\r\n",
    "    engine=\"xlsxwriter\",\r\n",
    "    ####         ExcelWriter_kwargs={\"engine\": \"openpyxl\", \"encoding\": \"UTF-8\"}\r\n",
    "    #     startrow=0\r\n",
    ")"
   ]
  }
 ],
 "metadata": {
  "kernelspec": {
   "display_name": "Python (proj17)",
   "language": "python",
   "name": "17-conda-env"
  },
  "language_info": {
   "codemirror_mode": {
    "name": "ipython",
    "version": 3
   },
   "file_extension": ".py",
   "mimetype": "text/x-python",
   "name": "python",
   "nbconvert_exporter": "python",
   "pygments_lexer": "ipython3",
   "version": "3.8.5"
  },
  "toc-autonumbering": true
 },
 "nbformat": 4,
 "nbformat_minor": 4
}
